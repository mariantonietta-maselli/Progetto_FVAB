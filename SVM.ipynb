{
 "cells": [
  {
   "cell_type": "code",
   "execution_count": 119,
   "id": "74ed32ea",
   "metadata": {},
   "outputs": [],
   "source": [
    "import torch\n",
    "import torch.nn as nn\n",
    "import pandas as pd\n",
    "import numpy as np\n",
    "import seaborn as sns\n",
    "from pathlib import Path\n",
    "from matplotlib import pyplot as plt\n",
    "from torch.utils.data import Dataset, DataLoader\n",
    "from torchvision.models import vit_b_16, ViT_B_16_Weights\n",
    "from imblearn.under_sampling import RandomUnderSampler\n",
    "from sklearn.model_selection import train_test_split, GridSearchCV\n",
    "from sklearn.metrics import classification_report, confusion_matrix, accuracy_score\n",
    "from sklearn.svm import SVC\n",
    "from sklearn.decomposition import PCA\n",
    "from PIL import Image\n",
    "from transformers import ViTFeatureExtractor, ViTModel\n",
    "from tqdm import tqdm\n",
    "from sklearn.preprocessing import LabelEncoder\n",
    "import plotly.express as px"
   ]
  },
  {
   "cell_type": "code",
   "execution_count": null,
   "id": "b95e490b",
   "metadata": {},
   "outputs": [],
   "source": [
    "# Scelta modelli\n",
    "model_a = {'stable_diffusion'}\n",
    "model_b = {'taming_transformer'}"
   ]
  },
  {
   "cell_type": "code",
   "execution_count": null,
   "id": "f8429caf",
   "metadata": {},
   "outputs": [],
   "source": [
    "class ImageFolder(Dataset):\n",
    "\n",
    "    def __init__(self, root_dir, model_a, model_b, metadata_name='metadata.csv', nrows=None, transform=None, random_state=42):\n",
    "        self.root_dir = Path(root_dir)\n",
    "        self.metadata_name = metadata_name\n",
    "        self.transform = transform\n",
    "        self.random_state = random_state\n",
    "\n",
    "        # Carica campioni etichettati 0 e 1\n",
    "        samples_a = self._load_samples(model_a, label=0, nrows=nrows)\n",
    "        samples_b = self._load_samples(model_b, label=1, nrows=nrows)\n",
    "\n",
    "        print(f\"Caricate immagini: '{model_a}': {len(samples_a)} — '{model_b}': {len(samples_b)}\")\n",
    "        if len(samples_a) == 0 or len(samples_b) == 0:\n",
    "            raise ValueError(f\"Dataset non valido: una delle due classi ha 0 immagini.\")\n",
    "\n",
    "        # Bilancia le classi\n",
    "        self.samples = self._balance_binary(samples_a + samples_b)\n",
    "\n",
    "    def __len__(self):\n",
    "        return len(self.samples)\n",
    "\n",
    "    def __getitem__(self, idx):\n",
    "        img_path, label = self.samples[idx]\n",
    "        image = Image.open(self.root_dir / img_path).convert('RGB')\n",
    "        if self.transform:\n",
    "            image = self.transform(image)\n",
    "        return image, label\n",
    "\n",
    "    def _load_samples(self, folder, label, nrows=None):\n",
    "        folder_path = self.root_dir / folder\n",
    "        meta_file = folder_path / self.metadata_name\n",
    "\n",
    "        if not meta_file.exists():\n",
    "            print(f\"Metadata file not found for folder: {folder}\")\n",
    "            return []\n",
    "\n",
    "        df = pd.read_csv(meta_file)\n",
    "\n",
    "        if not {'image_path', 'target'}.issubset(df.columns):\n",
    "            print(f\"Metadata missing required columns in: {meta_file}\")\n",
    "            return []\n",
    "\n",
    "        df['target'] = pd.to_numeric(df['target'], errors='coerce')\n",
    "        df = df[df['target'] > 0]  # Solo immagini valide\n",
    "\n",
    "        if nrows:\n",
    "            df = df.sample(n=nrows, random_state=self.random_state)  # Campionamento casuale\n",
    "\n",
    "        samples = [(Path(folder) / row['image_path'], label) for _, row in df.iterrows()]\n",
    "        return samples\n",
    "\n",
    "    def _balance_binary(self, samples):\n",
    "        # Bilanciamento tramite undersampling\n",
    "        X = np.arange(len(samples)).reshape(-1, 1)\n",
    "        y = [label for _, label in samples]\n",
    "        rus = RandomUnderSampler(random_state=self.random_state)\n",
    "        X_res, y_res = rus.fit_resample(X, y)\n",
    "        return [samples[i] for i in X_res.ravel()]\n"
   ]
  },
  {
   "cell_type": "code",
   "execution_count": null,
   "id": "63b7d037",
   "metadata": {},
   "outputs": [],
   "source": [
    "def train_SVM(dataset: pd.DataFrame, val_size=0.1, test_size=0.1):\n",
    "    # Estrai X e label\n",
    "    X = dataset.drop(columns='label').values\n",
    "    y_str = dataset['label'].values\n",
    "\n",
    "    # Codifica le label\n",
    "    label_encoder = LabelEncoder()\n",
    "    y = label_encoder.fit_transform(y_str)\n",
    "\n",
    "    # Primo split: train+val vs test\n",
    "    X_temp, X_test, y_temp, y_test = train_test_split(\n",
    "        X, y, test_size=test_size, stratify=y, random_state=42\n",
    "    )\n",
    "\n",
    "    # Secondo split: train vs val\n",
    "    val_ratio = val_size / (1 - test_size)  # perché X_temp = 1 - test_size\n",
    "    X_train, X_val, y_train, y_val = train_test_split(\n",
    "        X_temp, y_temp, test_size=val_ratio, stratify=y_temp, random_state=42\n",
    "    )\n",
    "\n",
    "    print(f\"Split: Train={len(y_train)}, Val={len(y_val)}, Test={len(y_test)}\")\n",
    "\n",
    "    # Parametri da cercare\n",
    "    svc = SVC(class_weight='balanced')\n",
    "    param_grid = [\n",
    "        {'kernel': ['linear'],  'C': [0.1, 1, 10]},\n",
    "        {'kernel': ['rbf'],     'C': [1, 10], 'gamma': ['scale', 0.1]},\n",
    "        {'kernel': ['sigmoid'], 'C': [1, 10], 'gamma': ['scale', 0.1], 'coef0': [0.0, 0.1, 0.5]}\n",
    "    ]\n",
    "\n",
    "    # GridSearch su validation\n",
    "    grid = GridSearchCV(\n",
    "        estimator=svc,\n",
    "        param_grid=param_grid,\n",
    "        cv=5,\n",
    "        scoring='accuracy',\n",
    "        n_jobs=-1,\n",
    "        verbose=1\n",
    "    )\n",
    "    grid.fit(X_train, y_train)\n",
    "\n",
    "    print(f\"Best params from validation: {grid.best_params_}\")\n",
    "\n",
    "    # Riaddestra sul train + val usando i migliori iperparametri\n",
    "    best_svm = SVC(**grid.best_params_, class_weight='balanced')\n",
    "    best_svm.fit(np.concatenate((X_train, X_val)), np.concatenate((y_train, y_val)))\n",
    "\n",
    "    # Test finale\n",
    "    prediction = best_svm.predict(X_test)\n",
    "\n",
    "    y_test_labels = label_encoder.inverse_transform(y_test)\n",
    "    pred_labels = label_encoder.inverse_transform(prediction)\n",
    "\n",
    "    # Report\n",
    "    accuracy = accuracy_score(y_test_labels, pred_labels)\n",
    "    print(f\"Final Test Accuracy: {accuracy:.4f}\")\n",
    "    print(f\"Classification Report:\\n{classification_report(y_test_labels, pred_labels)}\")\n",
    "    cf = confusion_matrix(y_test_labels, pred_labels)\n",
    "    print(f\"Confusion Matrix:\\n{cf}\")\n",
    "    plot_confusion_matrix(cf, class_labels=[\"Stable Diffusion\", \"Taming Transformer\"])\n",
    "\n",
    "def plot_confusion_matrix(cf, class_labels):\n",
    "    import seaborn as sns\n",
    "    import matplotlib.pyplot as plt\n",
    "    import numpy as np\n",
    "\n",
    "    # Prepara etichette per celle: conteggio e percentuale\n",
    "    group_counts = [\"{0:0.0f}\".format(value) for value in cf.flatten()]\n",
    "    group_percentages = [\"{0:.2%}\".format(value) for value in cf.flatten() / np.sum(cf)]\n",
    "    labels = [f\"{count}\\n({percent})\" for count, percent in zip(group_counts, group_percentages)]\n",
    "    labels = np.asarray(labels).reshape(cf.shape)\n",
    "\n",
    "    # Imposta il grafico\n",
    "    plt.figure(figsize=(7, 6))\n",
    "    sns.set(style=\"whitegrid\")\n",
    "\n",
    "    ax = sns.heatmap(cf, annot=labels, fmt='', cmap='Blues', cbar=False,\n",
    "                     xticklabels=class_labels, yticklabels=class_labels)\n",
    "\n",
    "    # Titoli e assi\n",
    "    ax.set_title(\"Matrice di Confusione\")\n",
    "    ax.set_xlabel(\"Classe Predetta\")\n",
    "    ax.set_ylabel(\"Classe Reale\")\n",
    "\n",
    "    ax.xaxis.set_ticklabels(class_labels, rotation=20)\n",
    "    ax.yaxis.set_ticklabels(class_labels, rotation=0)\n",
    "\n",
    "    plt.tight_layout()\n",
    "    plt.show()\n"
   ]
  },
  {
   "cell_type": "code",
   "execution_count": 123,
   "id": "618ee247",
   "metadata": {},
   "outputs": [
    {
     "name": "stdout",
     "output_type": "stream",
     "text": [
      "✅ Caricate immagini: 'stable_diffusion': 500 — 'taming_transformer': 500\n"
     ]
    },
    {
     "data": {
      "image/png": "[encoded data removed]",
      "text/plain": [
       "<Figure size 600x500 with 1 Axes>"
      ]
     },
     "metadata": {},
     "output_type": "display_data"
    }
   ],
   "source": [
    "# Trasformazioni standard del modello ViT-B/16\n",
    "transform = ViT_B_16_Weights.IMAGENET1K_V1.transforms()\n",
    "\n",
    "# Caricamento del dataset con label numeriche e trasformazioni\n",
    "dataset = ImageFolder(\n",
    "    root_dir='./archive',\n",
    "    model_a=\"stable_diffusion\",\n",
    "    model_b=\"taming_transformer\",\n",
    "    nrows=500, \n",
    "    transform=transform\n",
    ")\n",
    "\n",
    "# DataLoader per batch processing\n",
    "loader = DataLoader(dataset, batch_size=32, shuffle=False)\n",
    "\n",
    "# Conversione dei sample in DataFrame\n",
    "data = pd.DataFrame(dataset.samples, columns=['path', 'label'])\n",
    "\n",
    "# Mapping esplicito per rendere leggibili le etichette numeriche\n",
    "label_map = {0: 'stable_diffusion', 1: 'taming_transformer'}\n",
    "data['label_name'] = data['label'].map(label_map)\n",
    "\n",
    "# Conteggio delle classi\n",
    "counts = data['label_name'].value_counts().loc[['stable_diffusion', 'taming_transformer']]\n",
    "\n",
    "# Disegna il plot\n",
    "fig, ax = plt.subplots(figsize=(6, 5))\n",
    "ax.bar(counts.index, counts.values, color=['steelblue', 'tomato'])\n",
    "ax.set_title(\"Conteggio immagini per modello\")\n",
    "ax.set_xlabel(\"Modello generativo\")\n",
    "ax.set_ylabel(\"Numero di immagini\")\n",
    "ax.tick_params(axis='x', rotation=0)\n",
    "\n",
    "plt.tight_layout()\n",
    "plt.show()"
   ]
  },
  {
   "cell_type": "markdown",
   "id": "1e77fc62",
   "metadata": {},
   "source": [
    "### Estrazione delle features"
   ]
  },
  {
   "cell_type": "code",
   "execution_count": null,
   "id": "c50bfb9a",
   "metadata": {},
   "outputs": [
    {
     "name": "stderr",
     "output_type": "stream",
     "text": [
      "Estrazione delle feature: 100%|██████████| 32/32 [03:42<00:00,  6.95s/it]"
     ]
    },
    {
     "name": "stdout",
     "output_type": "stream",
     "text": [
      "label\n",
      "0    500\n",
      "1    500\n",
      "dtype: int64\n"
     ]
    },
    {
     "name": "stderr",
     "output_type": "stream",
     "text": [
      "\n"
     ]
    }
   ],
   "source": [
    "device = torch.device('cuda' if torch.cuda.is_available() else 'cpu')\n",
    "\n",
    "# Carica il modello ViT-B/16 pre-addestrato\n",
    "weights = ViT_B_16_Weights.IMAGENET1K_V1\n",
    "model = vit_b_16(weights=weights)\n",
    "\n",
    "# Rimuove la testa di classificazione\n",
    "model.heads.head = nn.Identity()\n",
    "model.eval().to(device)\n",
    "\n",
    "all_feats = []\n",
    "all_labels = []\n",
    "\n",
    "# Estrazione feature senza gradienti\n",
    "with torch.no_grad():\n",
    "    for imgs, labs in tqdm(loader, desc=\"Estrazione delle feature\"):\n",
    "        imgs = imgs.to(device)\n",
    "        feats = model(imgs)\n",
    "        all_feats.append(feats.cpu().numpy())\n",
    "        all_labels.extend(labs.numpy())\n",
    "\n",
    "# Unione di tutte le feature in un'unica matrice\n",
    "features = np.vstack(all_feats)\n",
    "labels = np.array(all_labels)\n",
    "\n",
    "# Creazione DataFrame finale\n",
    "feat_cols = [f'feat_{i}' for i in range(features.shape[1])]\n",
    "df = pd.DataFrame(features, columns=feat_cols)\n",
    "df['label'] = labels\n",
    "\n",
    "# Salva il DataFrame completo con tutte le feature originali per le operazioni successive come la PCA\n",
    "feat_cols = [f'feat_{i}' for i in range(features.shape[1])]\n",
    "df_full = pd.DataFrame(features, columns=feat_cols)\n",
    "df_full['label'] = labels\n",
    "\n",
    "# Debug: visualizza numero di esempi per classe\n",
    "print(df.groupby('label').size())"
   ]
  },
  {
   "cell_type": "code",
   "execution_count": 125,
   "id": "30e3a798",
   "metadata": {},
   "outputs": [
    {
     "data": {
      "text/html": [
       "<div>\n",
       "<style scoped>\n",
       "    .dataframe tbody tr th:only-of-type {\n",
       "        vertical-align: middle;\n",
       "    }\n",
       "\n",
       "    .dataframe tbody tr th {\n",
       "        vertical-align: top;\n",
       "    }\n",
       "\n",
       "    .dataframe thead th {\n",
       "        text-align: right;\n",
       "    }\n",
       "</style>\n",
       "<table border=\"1\" class=\"dataframe\">\n",
       "  <thead>\n",
       "    <tr style=\"text-align: right;\">\n",
       "      <th></th>\n",
       "      <th>feat_0</th>\n",
       "      <th>feat_1</th>\n",
       "      <th>feat_2</th>\n",
       "      <th>feat_3</th>\n",
       "      <th>feat_4</th>\n",
       "      <th>feat_5</th>\n",
       "      <th>feat_6</th>\n",
       "      <th>feat_7</th>\n",
       "      <th>feat_8</th>\n",
       "      <th>feat_9</th>\n",
       "      <th>...</th>\n",
       "      <th>feat_759</th>\n",
       "      <th>feat_760</th>\n",
       "      <th>feat_761</th>\n",
       "      <th>feat_762</th>\n",
       "      <th>feat_763</th>\n",
       "      <th>feat_764</th>\n",
       "      <th>feat_765</th>\n",
       "      <th>feat_766</th>\n",
       "      <th>feat_767</th>\n",
       "      <th>label</th>\n",
       "    </tr>\n",
       "  </thead>\n",
       "  <tbody>\n",
       "    <tr>\n",
       "      <th>0</th>\n",
       "      <td>-0.166774</td>\n",
       "      <td>-1.072634</td>\n",
       "      <td>-0.099808</td>\n",
       "      <td>0.067912</td>\n",
       "      <td>0.435229</td>\n",
       "      <td>1.278587</td>\n",
       "      <td>-0.153517</td>\n",
       "      <td>0.429770</td>\n",
       "      <td>-1.030993</td>\n",
       "      <td>0.318487</td>\n",
       "      <td>...</td>\n",
       "      <td>0.069857</td>\n",
       "      <td>-0.636492</td>\n",
       "      <td>-0.525591</td>\n",
       "      <td>-0.440032</td>\n",
       "      <td>-0.062515</td>\n",
       "      <td>0.072905</td>\n",
       "      <td>-1.225682</td>\n",
       "      <td>-0.436871</td>\n",
       "      <td>-1.175305</td>\n",
       "      <td>0</td>\n",
       "    </tr>\n",
       "    <tr>\n",
       "      <th>1</th>\n",
       "      <td>0.217288</td>\n",
       "      <td>0.188374</td>\n",
       "      <td>-0.348553</td>\n",
       "      <td>0.103571</td>\n",
       "      <td>0.091890</td>\n",
       "      <td>0.523275</td>\n",
       "      <td>-0.371245</td>\n",
       "      <td>-0.465541</td>\n",
       "      <td>0.311227</td>\n",
       "      <td>-0.486335</td>\n",
       "      <td>...</td>\n",
       "      <td>-0.571954</td>\n",
       "      <td>-1.283350</td>\n",
       "      <td>0.118887</td>\n",
       "      <td>-0.232231</td>\n",
       "      <td>0.514003</td>\n",
       "      <td>-0.849035</td>\n",
       "      <td>0.148398</td>\n",
       "      <td>-0.041164</td>\n",
       "      <td>0.424304</td>\n",
       "      <td>0</td>\n",
       "    </tr>\n",
       "    <tr>\n",
       "      <th>2</th>\n",
       "      <td>-1.890382</td>\n",
       "      <td>-0.703413</td>\n",
       "      <td>0.069456</td>\n",
       "      <td>-1.071082</td>\n",
       "      <td>0.004553</td>\n",
       "      <td>0.369737</td>\n",
       "      <td>0.247775</td>\n",
       "      <td>0.525876</td>\n",
       "      <td>0.416423</td>\n",
       "      <td>0.337115</td>\n",
       "      <td>...</td>\n",
       "      <td>0.378480</td>\n",
       "      <td>-1.800678</td>\n",
       "      <td>-0.097180</td>\n",
       "      <td>-0.190378</td>\n",
       "      <td>-1.721508</td>\n",
       "      <td>-0.752026</td>\n",
       "      <td>0.377846</td>\n",
       "      <td>0.758224</td>\n",
       "      <td>-0.153907</td>\n",
       "      <td>0</td>\n",
       "    </tr>\n",
       "    <tr>\n",
       "      <th>3</th>\n",
       "      <td>-1.683022</td>\n",
       "      <td>-0.675271</td>\n",
       "      <td>0.296713</td>\n",
       "      <td>-0.450559</td>\n",
       "      <td>0.237623</td>\n",
       "      <td>0.101747</td>\n",
       "      <td>-0.242081</td>\n",
       "      <td>0.272931</td>\n",
       "      <td>0.627889</td>\n",
       "      <td>-0.232580</td>\n",
       "      <td>...</td>\n",
       "      <td>0.181882</td>\n",
       "      <td>-1.147005</td>\n",
       "      <td>-0.034096</td>\n",
       "      <td>0.336099</td>\n",
       "      <td>0.127406</td>\n",
       "      <td>-0.088925</td>\n",
       "      <td>0.856983</td>\n",
       "      <td>-0.271893</td>\n",
       "      <td>-0.465289</td>\n",
       "      <td>0</td>\n",
       "    </tr>\n",
       "    <tr>\n",
       "      <th>4</th>\n",
       "      <td>-1.008344</td>\n",
       "      <td>0.383236</td>\n",
       "      <td>0.016593</td>\n",
       "      <td>0.890300</td>\n",
       "      <td>-0.049289</td>\n",
       "      <td>0.267488</td>\n",
       "      <td>0.452216</td>\n",
       "      <td>0.520227</td>\n",
       "      <td>0.580516</td>\n",
       "      <td>-0.230229</td>\n",
       "      <td>...</td>\n",
       "      <td>-0.514886</td>\n",
       "      <td>-0.091198</td>\n",
       "      <td>0.089711</td>\n",
       "      <td>0.555823</td>\n",
       "      <td>0.030694</td>\n",
       "      <td>0.547864</td>\n",
       "      <td>1.571421</td>\n",
       "      <td>0.547818</td>\n",
       "      <td>0.247722</td>\n",
       "      <td>0</td>\n",
       "    </tr>\n",
       "  </tbody>\n",
       "</table>\n",
       "<p>5 rows × 769 columns</p>\n",
       "</div>"
      ],
      "text/plain": [
       "     feat_0    feat_1    feat_2    feat_3    feat_4    feat_5    feat_6  \\\n",
       "0 -0.166774 -1.072634 -0.099808  0.067912  0.435229  1.278587 -0.153517   \n",
       "1  0.217288  0.188374 -0.348553  0.103571  0.091890  0.523275 -0.371245   \n",
       "2 -1.890382 -0.703413  0.069456 -1.071082  0.004553  0.369737  0.247775   \n",
       "3 -1.683022 -0.675271  0.296713 -0.450559  0.237623  0.101747 -0.242081   \n",
       "4 -1.008344  0.383236  0.016593  0.890300 -0.049289  0.267488  0.452216   \n",
       "\n",
       "     feat_7    feat_8    feat_9  ...  feat_759  feat_760  feat_761  feat_762  \\\n",
       "0  0.429770 -1.030993  0.318487  ...  0.069857 -0.636492 -0.525591 -0.440032   \n",
       "1 -0.465541  0.311227 -0.486335  ... -0.571954 -1.283350  0.118887 -0.232231   \n",
       "2  0.525876  0.416423  0.337115  ...  0.378480 -1.800678 -0.097180 -0.190378   \n",
       "3  0.272931  0.627889 -0.232580  ...  0.181882 -1.147005 -0.034096  0.336099   \n",
       "4  0.520227  0.580516 -0.230229  ... -0.514886 -0.091198  0.089711  0.555823   \n",
       "\n",
       "   feat_763  feat_764  feat_765  feat_766  feat_767  label  \n",
       "0 -0.062515  0.072905 -1.225682 -0.436871 -1.175305      0  \n",
       "1  0.514003 -0.849035  0.148398 -0.041164  0.424304      0  \n",
       "2 -1.721508 -0.752026  0.377846  0.758224 -0.153907      0  \n",
       "3  0.127406 -0.088925  0.856983 -0.271893 -0.465289      0  \n",
       "4  0.030694  0.547864  1.571421  0.547818  0.247722      0  \n",
       "\n",
       "[5 rows x 769 columns]"
      ]
     },
     "execution_count": 125,
     "metadata": {},
     "output_type": "execute_result"
    }
   ],
   "source": [
    "df.head()"
   ]
  },
  {
   "cell_type": "markdown",
   "id": "03474a96",
   "metadata": {},
   "source": [
    "### Training"
   ]
  },
  {
   "cell_type": "code",
   "execution_count": 126,
   "id": "70424f0e",
   "metadata": {},
   "outputs": [
    {
     "name": "stdout",
     "output_type": "stream",
     "text": [
      "🔍 Split: Train=800, Val=100, Test=100\n",
      "Fitting 5 folds for each of 19 candidates, totalling 95 fits\n",
      "Best params from validation: {'C': 10, 'gamma': 'scale', 'kernel': 'rbf'}\n",
      "Final Test Accuracy: 0.9300\n",
      "Classification Report:\n",
      "              precision    recall  f1-score   support\n",
      "\n",
      "           0       0.94      0.92      0.93        50\n",
      "           1       0.92      0.94      0.93        50\n",
      "\n",
      "    accuracy                           0.93       100\n",
      "   macro avg       0.93      0.93      0.93       100\n",
      "weighted avg       0.93      0.93      0.93       100\n",
      "\n",
      "Confusion Matrix:\n",
      "[[46  4]\n",
      " [ 3 47]]\n"
     ]
    },
    {
     "data": {
      "image/png": "[encoded data removed]",
      "text/plain": [
       "<Figure size 700x600 with 1 Axes>"
      ]
     },
     "metadata": {},
     "output_type": "display_data"
    }
   ],
   "source": [
    "train_SVM(df)"
   ]
  },
  {
   "cell_type": "code",
   "execution_count": 127,
   "id": "8bf6a28d",
   "metadata": {},
   "outputs": [
    {
     "name": "stdout",
     "output_type": "stream",
     "text": [
      "🔍 Split: Train=599, Val=101, Test=300\n",
      "Fitting 5 folds for each of 19 candidates, totalling 95 fits\n",
      "Best params from validation: {'C': 10, 'gamma': 'scale', 'kernel': 'rbf'}\n",
      "Final Test Accuracy: 0.9133\n",
      "Classification Report:\n",
      "              precision    recall  f1-score   support\n",
      "\n",
      "           0       0.90      0.93      0.92       150\n",
      "           1       0.93      0.89      0.91       150\n",
      "\n",
      "    accuracy                           0.91       300\n",
      "   macro avg       0.91      0.91      0.91       300\n",
      "weighted avg       0.91      0.91      0.91       300\n",
      "\n",
      "Confusion Matrix:\n",
      "[[140  10]\n",
      " [ 16 134]]\n"
     ]
    },
    {
     "data": {
      "image/png": "[encoded data removed]",
      "text/plain": [
       "<Figure size 700x600 with 1 Axes>"
      ]
     },
     "metadata": {},
     "output_type": "display_data"
    }
   ],
   "source": [
    "train_SVM(df, test_size=0.3)"
   ]
  },
  {
   "cell_type": "code",
   "execution_count": 128,
   "id": "374d48ee",
   "metadata": {},
   "outputs": [
    {
     "name": "stdout",
     "output_type": "stream",
     "text": [
      "🔍 Split: Train=700, Val=100, Test=200\n",
      "Fitting 5 folds for each of 19 candidates, totalling 95 fits\n",
      "Best params from validation: {'C': 10, 'gamma': 'scale', 'kernel': 'rbf'}\n",
      "Final Test Accuracy: 0.9100\n",
      "Classification Report:\n",
      "              precision    recall  f1-score   support\n",
      "\n",
      "           0       0.90      0.92      0.91       100\n",
      "           1       0.92      0.90      0.91       100\n",
      "\n",
      "    accuracy                           0.91       200\n",
      "   macro avg       0.91      0.91      0.91       200\n",
      "weighted avg       0.91      0.91      0.91       200\n",
      "\n",
      "Confusion Matrix:\n",
      "[[92  8]\n",
      " [10 90]]\n"
     ]
    },
    {
     "data": {
      "image/png": "[encoded data removed]",
      "text/plain": [
       "<Figure size 700x600 with 1 Axes>"
      ]
     },
     "metadata": {},
     "output_type": "display_data"
    }
   ],
   "source": [
    "train_SVM(df, test_size=0.2)"
   ]
  },
  {
   "cell_type": "markdown",
   "id": "2f9a7d15",
   "metadata": {},
   "source": [
    "# Riduzione del numero delle features (PCA)"
   ]
  },
  {
   "cell_type": "code",
   "execution_count": 129,
   "id": "2afb58c9",
   "metadata": {},
   "outputs": [
    {
     "name": "stdout",
     "output_type": "stream",
     "text": [
      "Shape dopo PCA: (1000, 3)\n"
     ]
    }
   ],
   "source": [
    "pca = PCA(n_components=3)\n",
    "features_pca = pca.fit_transform(features)\n",
    "print(f\"Shape dopo PCA: {features_pca.shape}\")"
   ]
  },
  {
   "cell_type": "code",
   "execution_count": 130,
   "id": "de6e4f48",
   "metadata": {},
   "outputs": [
    {
     "data": {
      "application/vnd.plotly.v1+json": {
       "config": {
        "plotlyServerURL": "https://plot.ly"
       },
       "data": [
        {
         "hovertemplate": "PC1=%{x}<br>PC2=%{y}<br>PC3=%{z}<br>label=%{marker.color}<extra></extra>",
         "legendgroup": "",
         "marker": {
          "color": {
           "bdata": "AAAAAAAAAAAAAAAAAAAAAAAAAAAAAAAAAAAAAAAAAAAAAAAAAAAAAAAAAAAAAAAAAAAAAAAAAAAAAAAAAAAAAAAAAAAAAAAAAAAAAAAAAAAAAAAAAAAAAAAAAAAAAAAAAAAAAAAAAAAAAAAAAAAAAAAAAAAAAAAAAAAAAAAAAAAAAAAAAAAAAAAAAAAAAAAAAAAAAAAAAAAAAAAAAAAAAAAAAAAAAAAAAAAAAAAAAAAAAAAAAAAAAAAAAAAAAAAAAAAAAAAAAAAAAAAAAAAAAAAAAAAAAAAAAAAAAAAAAAAAAAAAAAAAAAAAAAAAAAAAAAAAAAAAAAAAAAAAAAAAAAAAAAAAAAAAAAAAAAAAAAAAAAAAAAAAAAAAAAAAAAAAAAAAAAAAAAAAAAAAAAAAAAAAAAAAAAAAAAAAAAAAAAAAAAAAAAAAAAAAAAAAAAAAAAAAAAAAAAAAAAAAAAAAAAAAAAAAAAAAAAAAAAAAAAAAAAAAAAAAAAAAAAAAAAAAAAAAAAAAAAAAAAAAAAAAAAAAAAAAAAAAAAAAAAAAAAAAAAAAAAAAAAAAAAAAAAAAAAAAAAAAAAAAAAAAAAAAAAAAAAAAAAAAAAAAAAAAAAAAAAAAAAAAAAAAAAAAAAAAAAAAAAAAAAAAAAAAAAAAAAAAAAABAQEBAQEBAQEBAQEBAQEBAQEBAQEBAQEBAQEBAQEBAQEBAQEBAQEBAQEBAQEBAQEBAQEBAQEBAQEBAQEBAQEBAQEBAQEBAQEBAQEBAQEBAQEBAQEBAQEBAQEBAQEBAQEBAQEBAQEBAQEBAQEBAQEBAQEBAQEBAQEBAQEBAQEBAQEBAQEBAQEBAQEBAQEBAQEBAQEBAQEBAQEBAQEBAQEBAQEBAQEBAQEBAQEBAQEBAQEBAQEBAQEBAQEBAQEBAQEBAQEBAQEBAQEBAQEBAQEBAQEBAQEBAQEBAQEBAQEBAQEBAQEBAQEBAQEBAQEBAQEBAQEBAQEBAQEBAQEBAQEBAQEBAQEBAQEBAQEBAQEBAQEBAQEBAQEBAQEBAQEBAQEBAQEBAQEBAQEBAQEBAQEBAQEBAQEBAQEBAQEBAQEBAQEBAQEBAQEBAQEBAQEBAQEBAQEBAQEBAQEBAQEBAQEBAQEBAQEBAQEBAQEBAQEBAQEBAQEBAQEBAQEBAQEBAQEBAQEBAQEBAQEBAQEBAQEBAQEBAQEBAQEBAQEBAQEBAQEBAQEBAQEBAQEBAQEBAQEBAQEBAQEBAQEBAQEBAQEBAQEBAQEBAQEBAQEBAQEBAQEBAQEBAQEBAQEBAQEBAQEBAQEBAQEBAQEBAQEBAQEBAQEBAQ==",
           "dtype": "i1"
          },
          "coloraxis": "coloraxis",
          "opacity": 0.7,
          "symbol": "circle"
         },
         "mode": "markers",
         "name": "",
         "scene": "scene",
         "showlegend": false,
         "type": "scatter3d",
         "x": {
          "bdata": "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",
          "dtype": "f4"
         },
         "y": {
          "bdata": "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",
          "dtype": "f4"
         },
         "z": {
          "bdata": "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",
          "dtype": "f4"
         }
        }
       ],
       "layout": {
        "coloraxis": {
         "colorbar": {
          "title": {
           "text": "label"
          }
         },
         "colorscale": [
          [
           0,
           "#0d0887"
          ],
          [
           0.1111111111111111,
           "#46039f"
          ],
          [
           0.2222222222222222,
           "#7201a8"
          ],
          [
           0.3333333333333333,
           "#9c179e"
          ],
          [
           0.4444444444444444,
           "#bd3786"
          ],
          [
           0.5555555555555556,
           "#d8576b"
          ],
          [
           0.6666666666666666,
           "#ed7953"
          ],
          [
           0.7777777777777778,
           "#fb9f3a"
          ],
          [
           0.8888888888888888,
           "#fdca26"
          ],
          [
           1,
           "#f0f921"
          ]
         ]
        },
        "legend": {
         "tracegroupgap": 0
        },
        "scene": {
         "domain": {
          "x": [
           0,
           1
          ],
          "y": [
           0,
           1
          ]
         },
         "xaxis": {
          "title": {
           "text": "PC1"
          }
         },
         "yaxis": {
          "title": {
           "text": "PC2"
          }
         },
         "zaxis": {
          "title": {
           "text": "PC3"
          }
         }
        },
        "template": {
         "data": {
          "bar": [
           {
            "error_x": {
             "color": "#2a3f5f"
            },
            "error_y": {
             "color": "#2a3f5f"
            },
            "marker": {
             "line": {
              "color": "#E5ECF6",
              "width": 0.5
             },
             "pattern": {
              "fillmode": "overlay",
              "size": 10,
              "solidity": 0.2
             }
            },
            "type": "bar"
           }
          ],
          "barpolar": [
           {
            "marker": {
             "line": {
              "color": "#E5ECF6",
              "width": 0.5
             },
             "pattern": {
              "fillmode": "overlay",
              "size": 10,
              "solidity": 0.2
             }
            },
            "type": "barpolar"
           }
          ],
          "carpet": [
           {
            "aaxis": {
             "endlinecolor": "#2a3f5f",
             "gridcolor": "white",
             "linecolor": "white",
             "minorgridcolor": "white",
             "startlinecolor": "#2a3f5f"
            },
            "baxis": {
             "endlinecolor": "#2a3f5f",
             "gridcolor": "white",
             "linecolor": "white",
             "minorgridcolor": "white",
             "startlinecolor": "#2a3f5f"
            },
            "type": "carpet"
           }
          ],
          "choropleth": [
           {
            "colorbar": {
             "outlinewidth": 0,
             "ticks": ""
            },
            "type": "choropleth"
           }
          ],
          "contour": [
           {
            "colorbar": {
             "outlinewidth": 0,
             "ticks": ""
            },
            "colorscale": [
             [
              0,
              "#0d0887"
             ],
             [
              0.1111111111111111,
              "#46039f"
             ],
             [
              0.2222222222222222,
              "#7201a8"
             ],
             [
              0.3333333333333333,
              "#9c179e"
             ],
             [
              0.4444444444444444,
              "#bd3786"
             ],
             [
              0.5555555555555556,
              "#d8576b"
             ],
             [
              0.6666666666666666,
              "#ed7953"
             ],
             [
              0.7777777777777778,
              "#fb9f3a"
             ],
             [
              0.8888888888888888,
              "#fdca26"
             ],
             [
              1,
              "#f0f921"
             ]
            ],
            "type": "contour"
           }
          ],
          "contourcarpet": [
           {
            "colorbar": {
             "outlinewidth": 0,
             "ticks": ""
            },
            "type": "contourcarpet"
           }
          ],
          "heatmap": [
           {
            "colorbar": {
             "outlinewidth": 0,
             "ticks": ""
            },
            "colorscale": [
             [
              0,
              "#0d0887"
             ],
             [
              0.1111111111111111,
              "#46039f"
             ],
             [
              0.2222222222222222,
              "#7201a8"
             ],
             [
              0.3333333333333333,
              "#9c179e"
             ],
             [
              0.4444444444444444,
              "#bd3786"
             ],
             [
              0.5555555555555556,
              "#d8576b"
             ],
             [
              0.6666666666666666,
              "#ed7953"
             ],
             [
              0.7777777777777778,
              "#fb9f3a"
             ],
             [
              0.8888888888888888,
              "#fdca26"
             ],
             [
              1,
              "#f0f921"
             ]
            ],
            "type": "heatmap"
           }
          ],
          "histogram": [
           {
            "marker": {
             "pattern": {
              "fillmode": "overlay",
              "size": 10,
              "solidity": 0.2
             }
            },
            "type": "histogram"
           }
          ],
          "histogram2d": [
           {
            "colorbar": {
             "outlinewidth": 0,
             "ticks": ""
            },
            "colorscale": [
             [
              0,
              "#0d0887"
             ],
             [
              0.1111111111111111,
              "#46039f"
             ],
             [
              0.2222222222222222,
              "#7201a8"
             ],
             [
              0.3333333333333333,
              "#9c179e"
             ],
             [
              0.4444444444444444,
              "#bd3786"
             ],
             [
              0.5555555555555556,
              "#d8576b"
             ],
             [
              0.6666666666666666,
              "#ed7953"
             ],
             [
              0.7777777777777778,
              "#fb9f3a"
             ],
             [
              0.8888888888888888,
              "#fdca26"
             ],
             [
              1,
              "#f0f921"
             ]
            ],
            "type": "histogram2d"
           }
          ],
          "histogram2dcontour": [
           {
            "colorbar": {
             "outlinewidth": 0,
             "ticks": ""
            },
            "colorscale": [
             [
              0,
              "#0d0887"
             ],
             [
              0.1111111111111111,
              "#46039f"
             ],
             [
              0.2222222222222222,
              "#7201a8"
             ],
             [
              0.3333333333333333,
              "#9c179e"
             ],
             [
              0.4444444444444444,
              "#bd3786"
             ],
             [
              0.5555555555555556,
              "#d8576b"
             ],
             [
              0.6666666666666666,
              "#ed7953"
             ],
             [
              0.7777777777777778,
              "#fb9f3a"
             ],
             [
              0.8888888888888888,
              "#fdca26"
             ],
             [
              1,
              "#f0f921"
             ]
            ],
            "type": "histogram2dcontour"
           }
          ],
          "mesh3d": [
           {
            "colorbar": {
             "outlinewidth": 0,
             "ticks": ""
            },
            "type": "mesh3d"
           }
          ],
          "parcoords": [
           {
            "line": {
             "colorbar": {
              "outlinewidth": 0,
              "ticks": ""
             }
            },
            "type": "parcoords"
           }
          ],
          "pie": [
           {
            "automargin": true,
            "type": "pie"
           }
          ],
          "scatter": [
           {
            "fillpattern": {
             "fillmode": "overlay",
             "size": 10,
             "solidity": 0.2
            },
            "type": "scatter"
           }
          ],
          "scatter3d": [
           {
            "line": {
             "colorbar": {
              "outlinewidth": 0,
              "ticks": ""
             }
            },
            "marker": {
             "colorbar": {
              "outlinewidth": 0,
              "ticks": ""
             }
            },
            "type": "scatter3d"
           }
          ],
          "scattercarpet": [
           {
            "marker": {
             "colorbar": {
              "outlinewidth": 0,
              "ticks": ""
             }
            },
            "type": "scattercarpet"
           }
          ],
          "scattergeo": [
           {
            "marker": {
             "colorbar": {
              "outlinewidth": 0,
              "ticks": ""
             }
            },
            "type": "scattergeo"
           }
          ],
          "scattergl": [
           {
            "marker": {
             "colorbar": {
              "outlinewidth": 0,
              "ticks": ""
             }
            },
            "type": "scattergl"
           }
          ],
          "scattermap": [
           {
            "marker": {
             "colorbar": {
              "outlinewidth": 0,
              "ticks": ""
             }
            },
            "type": "scattermap"
           }
          ],
          "scattermapbox": [
           {
            "marker": {
             "colorbar": {
              "outlinewidth": 0,
              "ticks": ""
             }
            },
            "type": "scattermapbox"
           }
          ],
          "scatterpolar": [
           {
            "marker": {
             "colorbar": {
              "outlinewidth": 0,
              "ticks": ""
             }
            },
            "type": "scatterpolar"
           }
          ],
          "scatterpolargl": [
           {
            "marker": {
             "colorbar": {
              "outlinewidth": 0,
              "ticks": ""
             }
            },
            "type": "scatterpolargl"
           }
          ],
          "scatterternary": [
           {
            "marker": {
             "colorbar": {
              "outlinewidth": 0,
              "ticks": ""
             }
            },
            "type": "scatterternary"
           }
          ],
          "surface": [
           {
            "colorbar": {
             "outlinewidth": 0,
             "ticks": ""
            },
            "colorscale": [
             [
              0,
              "#0d0887"
             ],
             [
              0.1111111111111111,
              "#46039f"
             ],
             [
              0.2222222222222222,
              "#7201a8"
             ],
             [
              0.3333333333333333,
              "#9c179e"
             ],
             [
              0.4444444444444444,
              "#bd3786"
             ],
             [
              0.5555555555555556,
              "#d8576b"
             ],
             [
              0.6666666666666666,
              "#ed7953"
             ],
             [
              0.7777777777777778,
              "#fb9f3a"
             ],
             [
              0.8888888888888888,
              "#fdca26"
             ],
             [
              1,
              "#f0f921"
             ]
            ],
            "type": "surface"
           }
          ],
          "table": [
           {
            "cells": {
             "fill": {
              "color": "#EBF0F8"
             },
             "line": {
              "color": "white"
             }
            },
            "header": {
             "fill": {
              "color": "#C8D4E3"
             },
             "line": {
              "color": "white"
             }
            },
            "type": "table"
           }
          ]
         },
         "layout": {
          "annotationdefaults": {
           "arrowcolor": "#2a3f5f",
           "arrowhead": 0,
           "arrowwidth": 1
          },
          "autotypenumbers": "strict",
          "coloraxis": {
           "colorbar": {
            "outlinewidth": 0,
            "ticks": ""
           }
          },
          "colorscale": {
           "diverging": [
            [
             0,
             "#8e0152"
            ],
            [
             0.1,
             "#c51b7d"
            ],
            [
             0.2,
             "#de77ae"
            ],
            [
             0.3,
             "#f1b6da"
            ],
            [
             0.4,
             "#fde0ef"
            ],
            [
             0.5,
             "#f7f7f7"
            ],
            [
             0.6,
             "#e6f5d0"
            ],
            [
             0.7,
             "#b8e186"
            ],
            [
             0.8,
             "#7fbc41"
            ],
            [
             0.9,
             "#4d9221"
            ],
            [
             1,
             "#276419"
            ]
           ],
           "sequential": [
            [
             0,
             "#0d0887"
            ],
            [
             0.1111111111111111,
             "#46039f"
            ],
            [
             0.2222222222222222,
             "#7201a8"
            ],
            [
             0.3333333333333333,
             "#9c179e"
            ],
            [
             0.4444444444444444,
             "#bd3786"
            ],
            [
             0.5555555555555556,
             "#d8576b"
            ],
            [
             0.6666666666666666,
             "#ed7953"
            ],
            [
             0.7777777777777778,
             "#fb9f3a"
            ],
            [
             0.8888888888888888,
             "#fdca26"
            ],
            [
             1,
             "#f0f921"
            ]
           ],
           "sequentialminus": [
            [
             0,
             "#0d0887"
            ],
            [
             0.1111111111111111,
             "#46039f"
            ],
            [
             0.2222222222222222,
             "#7201a8"
            ],
            [
             0.3333333333333333,
             "#9c179e"
            ],
            [
             0.4444444444444444,
             "#bd3786"
            ],
            [
             0.5555555555555556,
             "#d8576b"
            ],
            [
             0.6666666666666666,
             "#ed7953"
            ],
            [
             0.7777777777777778,
             "#fb9f3a"
            ],
            [
             0.8888888888888888,
             "#fdca26"
            ],
            [
             1,
             "#f0f921"
            ]
           ]
          },
          "colorway": [
           "#636efa",
           "#EF553B",
           "#00cc96",
           "#ab63fa",
           "#FFA15A",
           "#19d3f3",
           "#FF6692",
           "#B6E880",
           "#FF97FF",
           "#FECB52"
          ],
          "font": {
           "color": "#2a3f5f"
          },
          "geo": {
           "bgcolor": "white",
           "lakecolor": "white",
           "landcolor": "#E5ECF6",
           "showlakes": true,
           "showland": true,
           "subunitcolor": "white"
          },
          "hoverlabel": {
           "align": "left"
          },
          "hovermode": "closest",
          "mapbox": {
           "style": "light"
          },
          "paper_bgcolor": "white",
          "plot_bgcolor": "#E5ECF6",
          "polar": {
           "angularaxis": {
            "gridcolor": "white",
            "linecolor": "white",
            "ticks": ""
           },
           "bgcolor": "#E5ECF6",
           "radialaxis": {
            "gridcolor": "white",
            "linecolor": "white",
            "ticks": ""
           }
          },
          "scene": {
           "xaxis": {
            "backgroundcolor": "#E5ECF6",
            "gridcolor": "white",
            "gridwidth": 2,
            "linecolor": "white",
            "showbackground": true,
            "ticks": "",
            "zerolinecolor": "white"
           },
           "yaxis": {
            "backgroundcolor": "#E5ECF6",
            "gridcolor": "white",
            "gridwidth": 2,
            "linecolor": "white",
            "showbackground": true,
            "ticks": "",
            "zerolinecolor": "white"
           },
           "zaxis": {
            "backgroundcolor": "#E5ECF6",
            "gridcolor": "white",
            "gridwidth": 2,
            "linecolor": "white",
            "showbackground": true,
            "ticks": "",
            "zerolinecolor": "white"
           }
          },
          "shapedefaults": {
           "line": {
            "color": "#2a3f5f"
           }
          },
          "ternary": {
           "aaxis": {
            "gridcolor": "white",
            "linecolor": "white",
            "ticks": ""
           },
           "baxis": {
            "gridcolor": "white",
            "linecolor": "white",
            "ticks": ""
           },
           "bgcolor": "#E5ECF6",
           "caxis": {
            "gridcolor": "white",
            "linecolor": "white",
            "ticks": ""
           }
          },
          "title": {
           "x": 0.05
          },
          "xaxis": {
           "automargin": true,
           "gridcolor": "white",
           "linecolor": "white",
           "ticks": "",
           "title": {
            "standoff": 15
           },
           "zerolinecolor": "white",
           "zerolinewidth": 2
          },
          "yaxis": {
           "automargin": true,
           "gridcolor": "white",
           "linecolor": "white",
           "ticks": "",
           "title": {
            "standoff": 15
           },
           "zerolinecolor": "white",
           "zerolinewidth": 2
          }
         }
        },
        "title": {
         "text": "PCA 3D Visualization"
        }
       }
      }
     },
     "metadata": {},
     "output_type": "display_data"
    }
   ],
   "source": [
    "df = pd.DataFrame(features_pca, columns=['PC1', 'PC2', 'PC3'])\n",
    "df['label'] = labels\n",
    "\n",
    "fig = px.scatter_3d(\n",
    "    df, x='PC1', y='PC2', z='PC3',\n",
    "    color='label',\n",
    "    title='PCA 3D Visualization',\n",
    "    opacity=0.7\n",
    ")\n",
    "fig.show()\n"
   ]
  },
  {
   "cell_type": "code",
   "execution_count": 131,
   "id": "c1f0416d",
   "metadata": {},
   "outputs": [
    {
     "name": "stdout",
     "output_type": "stream",
     "text": [
      "Numero di componenti per spiegare il 95% della varianza: 395\n",
      "Shape originale: (1000, 769)\n",
      "Shape ridotto: (1000, 396)\n"
     ]
    },
    {
     "data": {
      "text/html": [
       "<div>\n",
       "<style scoped>\n",
       "    .dataframe tbody tr th:only-of-type {\n",
       "        vertical-align: middle;\n",
       "    }\n",
       "\n",
       "    .dataframe tbody tr th {\n",
       "        vertical-align: top;\n",
       "    }\n",
       "\n",
       "    .dataframe thead th {\n",
       "        text-align: right;\n",
       "    }\n",
       "</style>\n",
       "<table border=\"1\" class=\"dataframe\">\n",
       "  <thead>\n",
       "    <tr style=\"text-align: right;\">\n",
       "      <th></th>\n",
       "      <th>label</th>\n",
       "      <th>PC1</th>\n",
       "      <th>PC2</th>\n",
       "      <th>PC3</th>\n",
       "      <th>PC4</th>\n",
       "      <th>PC5</th>\n",
       "      <th>PC6</th>\n",
       "      <th>PC7</th>\n",
       "      <th>PC8</th>\n",
       "      <th>PC9</th>\n",
       "      <th>...</th>\n",
       "      <th>PC386</th>\n",
       "      <th>PC387</th>\n",
       "      <th>PC388</th>\n",
       "      <th>PC389</th>\n",
       "      <th>PC390</th>\n",
       "      <th>PC391</th>\n",
       "      <th>PC392</th>\n",
       "      <th>PC393</th>\n",
       "      <th>PC394</th>\n",
       "      <th>PC395</th>\n",
       "    </tr>\n",
       "  </thead>\n",
       "  <tbody>\n",
       "    <tr>\n",
       "      <th>0</th>\n",
       "      <td>0</td>\n",
       "      <td>3.791814</td>\n",
       "      <td>-2.063655</td>\n",
       "      <td>-0.178983</td>\n",
       "      <td>-3.787035</td>\n",
       "      <td>1.649940</td>\n",
       "      <td>-0.500829</td>\n",
       "      <td>2.799037</td>\n",
       "      <td>5.045511</td>\n",
       "      <td>0.661739</td>\n",
       "      <td>...</td>\n",
       "      <td>-0.356183</td>\n",
       "      <td>0.177763</td>\n",
       "      <td>0.259760</td>\n",
       "      <td>-0.746178</td>\n",
       "      <td>-0.232379</td>\n",
       "      <td>0.116574</td>\n",
       "      <td>0.501036</td>\n",
       "      <td>-0.020594</td>\n",
       "      <td>0.403894</td>\n",
       "      <td>0.013318</td>\n",
       "    </tr>\n",
       "    <tr>\n",
       "      <th>1</th>\n",
       "      <td>0</td>\n",
       "      <td>3.346736</td>\n",
       "      <td>-0.534075</td>\n",
       "      <td>-0.208345</td>\n",
       "      <td>1.684372</td>\n",
       "      <td>0.041189</td>\n",
       "      <td>0.434519</td>\n",
       "      <td>-1.183700</td>\n",
       "      <td>0.315054</td>\n",
       "      <td>0.412339</td>\n",
       "      <td>...</td>\n",
       "      <td>0.129336</td>\n",
       "      <td>0.218001</td>\n",
       "      <td>-0.357339</td>\n",
       "      <td>-0.031676</td>\n",
       "      <td>-0.047204</td>\n",
       "      <td>0.179557</td>\n",
       "      <td>0.162842</td>\n",
       "      <td>0.051133</td>\n",
       "      <td>-0.384366</td>\n",
       "      <td>0.710672</td>\n",
       "    </tr>\n",
       "    <tr>\n",
       "      <th>2</th>\n",
       "      <td>0</td>\n",
       "      <td>-6.480240</td>\n",
       "      <td>-9.802488</td>\n",
       "      <td>-3.688288</td>\n",
       "      <td>-0.235404</td>\n",
       "      <td>-2.742221</td>\n",
       "      <td>1.451887</td>\n",
       "      <td>-1.479141</td>\n",
       "      <td>-0.429289</td>\n",
       "      <td>0.806335</td>\n",
       "      <td>...</td>\n",
       "      <td>0.119089</td>\n",
       "      <td>0.489510</td>\n",
       "      <td>-0.383987</td>\n",
       "      <td>-0.093661</td>\n",
       "      <td>0.418257</td>\n",
       "      <td>-0.076832</td>\n",
       "      <td>-0.266790</td>\n",
       "      <td>0.196047</td>\n",
       "      <td>-0.344380</td>\n",
       "      <td>-0.783084</td>\n",
       "    </tr>\n",
       "    <tr>\n",
       "      <th>3</th>\n",
       "      <td>0</td>\n",
       "      <td>-7.426609</td>\n",
       "      <td>-9.203156</td>\n",
       "      <td>-2.717106</td>\n",
       "      <td>-0.507379</td>\n",
       "      <td>-1.125996</td>\n",
       "      <td>0.948399</td>\n",
       "      <td>-0.086825</td>\n",
       "      <td>-0.566863</td>\n",
       "      <td>-1.528303</td>\n",
       "      <td>...</td>\n",
       "      <td>-0.067507</td>\n",
       "      <td>-0.173726</td>\n",
       "      <td>0.181003</td>\n",
       "      <td>-0.392015</td>\n",
       "      <td>-0.032034</td>\n",
       "      <td>0.049761</td>\n",
       "      <td>-0.357258</td>\n",
       "      <td>0.035158</td>\n",
       "      <td>0.110901</td>\n",
       "      <td>0.167879</td>\n",
       "    </tr>\n",
       "    <tr>\n",
       "      <th>4</th>\n",
       "      <td>0</td>\n",
       "      <td>3.090650</td>\n",
       "      <td>-0.389498</td>\n",
       "      <td>-1.112874</td>\n",
       "      <td>-3.960106</td>\n",
       "      <td>0.360389</td>\n",
       "      <td>-0.676264</td>\n",
       "      <td>2.688420</td>\n",
       "      <td>0.175051</td>\n",
       "      <td>-1.386168</td>\n",
       "      <td>...</td>\n",
       "      <td>0.630228</td>\n",
       "      <td>0.960895</td>\n",
       "      <td>-1.204116</td>\n",
       "      <td>-0.345556</td>\n",
       "      <td>-0.282094</td>\n",
       "      <td>0.451013</td>\n",
       "      <td>0.143164</td>\n",
       "      <td>-0.501096</td>\n",
       "      <td>0.000991</td>\n",
       "      <td>0.121454</td>\n",
       "    </tr>\n",
       "  </tbody>\n",
       "</table>\n",
       "<p>5 rows × 396 columns</p>\n",
       "</div>"
      ],
      "text/plain": [
       "   label       PC1       PC2       PC3       PC4       PC5       PC6  \\\n",
       "0      0  3.791814 -2.063655 -0.178983 -3.787035  1.649940 -0.500829   \n",
       "1      0  3.346736 -0.534075 -0.208345  1.684372  0.041189  0.434519   \n",
       "2      0 -6.480240 -9.802488 -3.688288 -0.235404 -2.742221  1.451887   \n",
       "3      0 -7.426609 -9.203156 -2.717106 -0.507379 -1.125996  0.948399   \n",
       "4      0  3.090650 -0.389498 -1.112874 -3.960106  0.360389 -0.676264   \n",
       "\n",
       "        PC7       PC8       PC9  ...     PC386     PC387     PC388     PC389  \\\n",
       "0  2.799037  5.045511  0.661739  ... -0.356183  0.177763  0.259760 -0.746178   \n",
       "1 -1.183700  0.315054  0.412339  ...  0.129336  0.218001 -0.357339 -0.031676   \n",
       "2 -1.479141 -0.429289  0.806335  ...  0.119089  0.489510 -0.383987 -0.093661   \n",
       "3 -0.086825 -0.566863 -1.528303  ... -0.067507 -0.173726  0.181003 -0.392015   \n",
       "4  2.688420  0.175051 -1.386168  ...  0.630228  0.960895 -1.204116 -0.345556   \n",
       "\n",
       "      PC390     PC391     PC392     PC393     PC394     PC395  \n",
       "0 -0.232379  0.116574  0.501036 -0.020594  0.403894  0.013318  \n",
       "1 -0.047204  0.179557  0.162842  0.051133 -0.384366  0.710672  \n",
       "2  0.418257 -0.076832 -0.266790  0.196047 -0.344380 -0.783084  \n",
       "3 -0.032034  0.049761 -0.357258  0.035158  0.110901  0.167879  \n",
       "4 -0.282094  0.451013  0.143164 -0.501096  0.000991  0.121454  \n",
       "\n",
       "[5 rows x 396 columns]"
      ]
     },
     "execution_count": 131,
     "metadata": {},
     "output_type": "execute_result"
    }
   ],
   "source": [
    "# Seleziona solo le colonne delle feature\n",
    "feat_cols = [c for c in df_full.columns if c.startswith('feat_')]\n",
    "X = df_full[feat_cols].values\n",
    "\n",
    "# Fit completo della PCA per analizzare la varianza cumulativa\n",
    "pca_full = PCA().fit(X)\n",
    "cumvar = np.cumsum(pca_full.explained_variance_ratio_)\n",
    "\n",
    "# Determina quante componenti servono per spiegare almeno il 95% della varianza\n",
    "n_components = np.argmax(cumvar >= 0.95) + 1\n",
    "print(f\"Numero di componenti per spiegare il 95% della varianza: {n_components}\")\n",
    "\n",
    "# Riduzione dimensionale con il numero ottimale di componenti\n",
    "pca = PCA(n_components=n_components)\n",
    "X_pca = pca.fit_transform(X)\n",
    "\n",
    "# Crea DataFrame con le componenti ridotte\n",
    "pca_cols = [f'PC{i+1}' for i in range(n_components)]\n",
    "df_pca = pd.DataFrame(X_pca, columns=pca_cols, index=df_full.index)\n",
    "\n",
    "# Aggiungi le label\n",
    "df_reduced = pd.concat([df_full[['label']], df_pca], axis=1)\n",
    "\n",
    "# Visualizza info\n",
    "print(\"Shape originale:\", df_full.shape)\n",
    "print(\"Shape ridotto:\", df_reduced.shape)\n",
    "df_reduced.head()"
   ]
  },
  {
   "cell_type": "code",
   "execution_count": 132,
   "id": "9ff25e70",
   "metadata": {},
   "outputs": [
    {
     "name": "stdout",
     "output_type": "stream",
     "text": [
      "🔍 Split: Train=800, Val=100, Test=100\n",
      "Fitting 5 folds for each of 19 candidates, totalling 95 fits\n",
      "Best params from validation: {'C': 10, 'gamma': 'scale', 'kernel': 'rbf'}\n",
      "Final Test Accuracy: 0.9200\n",
      "Classification Report:\n",
      "              precision    recall  f1-score   support\n",
      "\n",
      "           0       0.92      0.92      0.92        50\n",
      "           1       0.92      0.92      0.92        50\n",
      "\n",
      "    accuracy                           0.92       100\n",
      "   macro avg       0.92      0.92      0.92       100\n",
      "weighted avg       0.92      0.92      0.92       100\n",
      "\n",
      "Confusion Matrix:\n",
      "[[46  4]\n",
      " [ 4 46]]\n"
     ]
    },
    {
     "data": {
      "image/png": "[encoded data removed]",
      "text/plain": [
       "<Figure size 700x600 with 1 Axes>"
      ]
     },
     "metadata": {},
     "output_type": "display_data"
    }
   ],
   "source": [
    "train_SVM(df_reduced)"
   ]
  },
  {
   "cell_type": "code",
   "execution_count": 133,
   "id": "cb1b9699",
   "metadata": {},
   "outputs": [
    {
     "name": "stdout",
     "output_type": "stream",
     "text": [
      "🔍 Split: Train=599, Val=101, Test=300\n",
      "Fitting 5 folds for each of 19 candidates, totalling 95 fits\n",
      "Best params from validation: {'C': 10, 'gamma': 'scale', 'kernel': 'rbf'}\n",
      "Final Test Accuracy: 0.9100\n",
      "Classification Report:\n",
      "              precision    recall  f1-score   support\n",
      "\n",
      "           0       0.90      0.93      0.91       150\n",
      "           1       0.92      0.89      0.91       150\n",
      "\n",
      "    accuracy                           0.91       300\n",
      "   macro avg       0.91      0.91      0.91       300\n",
      "weighted avg       0.91      0.91      0.91       300\n",
      "\n",
      "Confusion Matrix:\n",
      "[[139  11]\n",
      " [ 16 134]]\n"
     ]
    },
    {
     "data": {
      "image/png": "[encoded data removed]",
      "text/plain": [
       "<Figure size 700x600 with 1 Axes>"
      ]
     },
     "metadata": {},
     "output_type": "display_data"
    }
   ],
   "source": [
    "train_SVM(df_reduced, test_size=0.3)"
   ]
  },
  {
   "cell_type": "code",
   "execution_count": 134,
   "id": "74bd3e0e",
   "metadata": {},
   "outputs": [
    {
     "name": "stdout",
     "output_type": "stream",
     "text": [
      "🔍 Split: Train=700, Val=100, Test=200\n",
      "Fitting 5 folds for each of 19 candidates, totalling 95 fits\n",
      "Best params from validation: {'C': 10, 'gamma': 'scale', 'kernel': 'rbf'}\n",
      "Final Test Accuracy: 0.9200\n",
      "Classification Report:\n",
      "              precision    recall  f1-score   support\n",
      "\n",
      "           0       0.91      0.93      0.92       100\n",
      "           1       0.93      0.91      0.92       100\n",
      "\n",
      "    accuracy                           0.92       200\n",
      "   macro avg       0.92      0.92      0.92       200\n",
      "weighted avg       0.92      0.92      0.92       200\n",
      "\n",
      "Confusion Matrix:\n",
      "[[93  7]\n",
      " [ 9 91]]\n"
     ]
    },
    {
     "data": {
      "image/png": "[encoded data removed]",
      "text/plain": [
       "<Figure size 700x600 with 1 Axes>"
      ]
     },
     "metadata": {},
     "output_type": "display_data"
    }
   ],
   "source": [
    "train_SVM(df_reduced, test_size=0.2)"
   ]
  }
 ],
 "metadata": {
  "kernelspec": {
   "display_name": "fvab",
   "language": "python",
   "name": "python3"
  },
  "language_info": {
   "codemirror_mode": {
    "name": "ipython",
    "version": 3
   },
   "file_extension": ".py",
   "mimetype": "text/x-python",
   "name": "python",
   "nbconvert_exporter": "python",
   "pygments_lexer": "ipython3",
   "version": "3.10.16"
  }
 },
 "nbformat": 4,
 "nbformat_minor": 5
}
