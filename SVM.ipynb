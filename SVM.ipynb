{
 "cells": [
  {
   "cell_type": "code",
   "execution_count": 354,
   "id": "74ed32ea",
   "metadata": {},
   "outputs": [],
   "source": [
    "import torch\n",
    "import torch.nn as nn\n",
    "import pandas as pd\n",
    "import numpy as np\n",
    "import seaborn as sns\n",
    "from pathlib import Path\n",
    "from matplotlib import pyplot as plt\n",
    "from torch.utils.data import Dataset, DataLoader\n",
    "from torchvision.models import vit_b_16, ViT_B_16_Weights\n",
    "from imblearn.under_sampling import RandomUnderSampler\n",
    "from sklearn.model_selection import train_test_split, GridSearchCV\n",
    "from sklearn.metrics import classification_report, confusion_matrix, accuracy_score\n",
    "from sklearn.svm import SVC\n",
    "from sklearn.decomposition import PCA\n",
    "from PIL import Image\n",
    "from transformers import ViTFeatureExtractor, ViTModel\n",
    "from tqdm import tqdm\n",
    "from sklearn.preprocessing import LabelEncoder\n",
    "import plotly.express as px\n",
    "\n",
    "import os\n",
    "import shutil"
   ]
  },
  {
   "cell_type": "code",
   "execution_count": 355,
   "id": "b95e490b",
   "metadata": {},
   "outputs": [],
   "source": [
    "# Scelta modelli\n",
    "model_a = {'generative_inpainting'}\n",
    "model_b = {'latent_diffusion'}"
   ]
  },
  {
   "cell_type": "code",
   "execution_count": 356,
   "id": "f8429caf",
   "metadata": {},
   "outputs": [],
   "source": [
    "class ImageFolder(Dataset):\n",
    "\n",
    "    def __init__(self, root_dir, model_a, model_b, metadata_name='metadata.csv', nrows=None, transform=None, random_state=42):\n",
    "        self.root_dir = Path(root_dir)\n",
    "        self.metadata_name = metadata_name\n",
    "        self.transform = transform\n",
    "        self.random_state = random_state\n",
    "\n",
    "        # Carica campioni etichettati 0 e 1\n",
    "        samples_a = self._load_samples(model_a, label=0, nrows=nrows)\n",
    "        samples_b = self._load_samples(model_b, label=1, nrows=nrows)\n",
    "\n",
    "        print(f\"Caricate immagini: '{model_a}': {len(samples_a)} — '{model_b}': {len(samples_b)}\")\n",
    "        if len(samples_a) == 0 or len(samples_b) == 0:\n",
    "            raise ValueError(f\"Dataset non valido: una delle due classi ha 0 immagini.\")\n",
    "\n",
    "        # Bilancia le classi\n",
    "        self.samples = self._balance_binary(samples_a + samples_b)\n",
    "\n",
    "    def __len__(self):\n",
    "        return len(self.samples)\n",
    "\n",
    "    def __getitem__(self, idx):\n",
    "        img_path, label = self.samples[idx]\n",
    "        image = Image.open(self.root_dir / img_path).convert('RGB')\n",
    "        if self.transform:\n",
    "            image = self.transform(image)\n",
    "        return image, label\n",
    "\n",
    "    def _load_samples(self, folder, label, nrows=None):\n",
    "        folder_path = self.root_dir / folder\n",
    "        meta_file = folder_path / self.metadata_name\n",
    "\n",
    "        if not meta_file.exists():\n",
    "            print(f\"Metadata file not found for folder: {folder}\")\n",
    "            return []\n",
    "\n",
    "        df = pd.read_csv(meta_file)\n",
    "\n",
    "        if not {'image_path', 'target'}.issubset(df.columns):\n",
    "            print(f\"Metadata missing required columns in: {meta_file}\")\n",
    "            return []\n",
    "\n",
    "        df['target'] = pd.to_numeric(df['target'], errors='coerce')\n",
    "        df = df[df['target'] > 0]  # Solo immagini valide\n",
    "\n",
    "        if nrows:\n",
    "            df = df.sample(n=nrows, random_state=self.random_state)  # Campionamento casuale\n",
    "\n",
    "        samples = [(Path(folder) / row['image_path'], label) for _, row in df.iterrows()]\n",
    "        return samples\n",
    "\n",
    "    def _balance_binary(self, samples):\n",
    "        # Bilanciamento tramite undersampling\n",
    "        X = np.arange(len(samples)).reshape(-1, 1)\n",
    "        y = [label for _, label in samples]\n",
    "        rus = RandomUnderSampler(random_state=self.random_state)\n",
    "        X_res, y_res = rus.fit_resample(X, y)\n",
    "        return [samples[i] for i in X_res.ravel()]\n"
   ]
  },
  {
   "cell_type": "code",
   "execution_count": 357,
   "id": "63b7d037",
   "metadata": {},
   "outputs": [],
   "source": [
    "def get_unique_output_dir(model_name, dataset_name=None, test_size=None, base_prefix=\"svm_results\"):\n",
    "    # Base path: ./Risultati/Model_a_vs_Model_b/\n",
    "    base_dir = os.path.join(\"Risultati\", model_name)\n",
    "\n",
    "    # Se dataset è df_reduced, aggiungi PCA\n",
    "    if dataset_name == \"df_reduced\":\n",
    "        prefix = f\"{base_prefix}_PCA\"\n",
    "    else:\n",
    "        prefix = base_prefix\n",
    "\n",
    "    if test_size is None:\n",
    "        suffix = \"_0\"\n",
    "    else:\n",
    "        suffix = \"_\" + str(test_size).replace('.', '_')\n",
    "\n",
    "    final_path = os.path.join(base_dir, prefix + suffix)\n",
    "\n",
    "    # Se la cartella esiste, sovrascrivila (elimina tutto il contenuto)\n",
    "    if os.path.exists(final_path):\n",
    "        shutil.rmtree(final_path)  # Cancella tutto\n",
    "    os.makedirs(final_path, exist_ok=True)\n",
    "\n",
    "    return final_path\n",
    "\n",
    "\n",
    "\n",
    "def train_SVM(dataset: pd.DataFrame, output_dir: str, val_size=0.1, test_size=0.1):\n",
    "      \n",
    "\n",
    "    # Estrai X e y\n",
    "    X = dataset.drop(columns='label').values\n",
    "    y_str = dataset['label'].values\n",
    "\n",
    "    label_encoder = LabelEncoder()\n",
    "    y = label_encoder.fit_transform(y_str)\n",
    "\n",
    "    # Split\n",
    "    X_temp, X_test, y_temp, y_test = train_test_split(\n",
    "        X, y, test_size=test_size, stratify=y, random_state=42\n",
    "    )\n",
    "    val_ratio = val_size / (1 - test_size)\n",
    "    X_train, X_val, y_train, y_val = train_test_split(\n",
    "        X_temp, y_temp, test_size=val_ratio, stratify=y_temp, random_state=42\n",
    "    )\n",
    "\n",
    "    print(f\"Split: Train={len(y_train)}, Val={len(y_val)}, Test={len(y_test)}\")\n",
    "\n",
    "    svc = SVC(class_weight='balanced')\n",
    "    param_grid = [\n",
    "        {'kernel': ['linear'],  'C': [0.1, 1, 10]},\n",
    "        {'kernel': ['rbf'],     'C': [1, 10], 'gamma': ['scale', 0.1]},\n",
    "        {'kernel': ['sigmoid'], 'C': [1, 10], 'gamma': ['scale', 0.1], 'coef0': [0.0, 0.1, 0.5]}\n",
    "    ]\n",
    "\n",
    "    grid = GridSearchCV(\n",
    "        estimator=svc,\n",
    "        param_grid=param_grid,\n",
    "        cv=5,\n",
    "        scoring='accuracy',\n",
    "        n_jobs=-1,\n",
    "        verbose=1\n",
    "    )\n",
    "    grid.fit(X_train, y_train)\n",
    "\n",
    "    print(f\"Best params from validation: {grid.best_params_}\")\n",
    "\n",
    "    best_svm = SVC(**grid.best_params_, class_weight='balanced')\n",
    "    best_svm.fit(np.concatenate((X_train, X_val)), np.concatenate((y_train, y_val)))\n",
    "\n",
    "    prediction = best_svm.predict(X_test)\n",
    "\n",
    "    y_test_labels = label_encoder.inverse_transform(y_test)\n",
    "    pred_labels = label_encoder.inverse_transform(prediction)\n",
    "\n",
    "    accuracy = accuracy_score(y_test_labels, pred_labels)\n",
    "    report = classification_report(y_test_labels, pred_labels)\n",
    "    cf = confusion_matrix(y_test_labels, pred_labels)\n",
    "\n",
    "    print(f\"Final Test Accuracy: {accuracy:.4f}\")\n",
    "    print(f\"Classification Report:\\n{report}\")\n",
    "    print(f\"Confusion Matrix:\\n{cf}\")\n",
    "\n",
    "    # === SALVATAGGIO FILES ===\n",
    "    with open(os.path.join(output_dir, \"log.txt\"), \"w\") as f:\n",
    "        f.write(f\"Split: Train={len(y_train)}, Val={len(y_val)}, Test={len(y_test)}\\n\")\n",
    "        f.write(f\"Best params from validation: {grid.best_params_}\\n\")\n",
    "        f.write(f\"Final Test Accuracy: {accuracy:.4f}\\n\\n\")\n",
    "        f.write(\"Classification Report:\\n\")\n",
    "        f.write(report)\n",
    "        f.write(\"\\nConfusion Matrix:\\n\")\n",
    "        f.write(str(cf))\n",
    "\n",
    "    plot_confusion_matrix(\n",
    "        cf, class_labels=[\"generative_inpainting\", \"latent_diffusion\"],\n",
    "        #cf, class_labels=[model_a, model_b],\n",
    "        save_path=os.path.join(output_dir, \"confusion_matrix.png\")\n",
    "    )\n",
    "\n",
    "\n",
    "def plot_confusion_matrix(cf, class_labels, save_path=None):\n",
    "    import seaborn as sns\n",
    "    import matplotlib.pyplot as plt\n",
    "    import numpy as np\n",
    "\n",
    "    group_counts = [\"{0:0.0f}\".format(value) for value in cf.flatten()]\n",
    "    group_percentages = [\"{0:.2%}\".format(value) for value in cf.flatten() / np.sum(cf)]\n",
    "    labels = [f\"{count}\\n({percent})\" for count, percent in zip(group_counts, group_percentages)]\n",
    "    labels = np.asarray(labels).reshape(cf.shape)\n",
    "\n",
    "    plt.figure(figsize=(7, 6))\n",
    "    sns.set(style=\"whitegrid\")\n",
    "\n",
    "    ax = sns.heatmap(cf, annot=labels, fmt='', cmap='Blues', cbar=False,\n",
    "                     xticklabels=class_labels, yticklabels=class_labels)\n",
    "\n",
    "    ax.set_title(\"Matrice di Confusione\")\n",
    "    ax.set_xlabel(\"Classe Predetta\")\n",
    "    ax.set_ylabel(\"Classe Reale\")\n",
    "\n",
    "    ax.xaxis.set_ticklabels(class_labels, rotation=20)\n",
    "    ax.yaxis.set_ticklabels(class_labels, rotation=0)\n",
    "\n",
    "    plt.tight_layout()\n",
    "    if save_path:\n",
    "        plt.savefig(save_path, dpi=300)\n",
    "    plt.show()\n"
   ]
  },
  {
   "cell_type": "code",
   "execution_count": 358,
   "id": "618ee247",
   "metadata": {},
   "outputs": [
    {
     "name": "stdout",
     "output_type": "stream",
     "text": [
      "Caricate immagini: 'generative_inpainting': 100 — 'latent_diffusion': 100\n"
     ]
    },
    {
     "data": {
      "image/png": "[encoded data removed]",
      "text/plain": [
       "<Figure size 600x500 with 1 Axes>"
      ]
     },
     "metadata": {},
     "output_type": "display_data"
    }
   ],
   "source": [
    "# Trasformazioni standard del modello ViT-B/16\n",
    "transform = ViT_B_16_Weights.IMAGENET1K_V1.transforms()\n",
    "\n",
    "# Caricamento del dataset con label numeriche e trasformazioni\n",
    "dataset = ImageFolder(\n",
    "    root_dir='./archive',\n",
    "    model_a=\"generative_inpainting\",\n",
    "    model_b=\"latent_diffusion\",\n",
    "    nrows=100, \n",
    "    transform=transform\n",
    ")\n",
    "\n",
    "# DataLoader per batch processing\n",
    "loader = DataLoader(dataset, batch_size=32, shuffle=False)\n",
    "\n",
    "# Conversione dei sample in DataFrame\n",
    "data = pd.DataFrame(dataset.samples, columns=['path', 'label'])\n",
    "\n",
    "# Mapping esplicito per rendere leggibili le etichette numeriche\n",
    "label_map = {0: 'generative_inpainting', 1: 'latent_diffusion'}\n",
    "data['label_name'] = data['label'].map(label_map)\n",
    "\n",
    "# Conteggio delle classi\n",
    "counts = data['label_name'].value_counts().loc[['generative_inpainting', 'latent_diffusion']]\n",
    "\n",
    "# Disegna il plot\n",
    "fig, ax = plt.subplots(figsize=(6, 5))\n",
    "ax.bar(counts.index, counts.values, color=['steelblue', 'tomato'])\n",
    "ax.set_title(\"Conteggio immagini per modello\")\n",
    "ax.set_xlabel(\"Modello generativo\")\n",
    "ax.set_ylabel(\"Numero di immagini\")\n",
    "ax.tick_params(axis='x', rotation=0)\n",
    "\n",
    "plt.tight_layout()\n",
    "plt.show()"
   ]
  },
  {
   "cell_type": "markdown",
   "id": "1e77fc62",
   "metadata": {},
   "source": [
    "### Estrazione delle features"
   ]
  },
  {
   "cell_type": "code",
   "execution_count": 359,
   "id": "c50bfb9a",
   "metadata": {},
   "outputs": [
    {
     "name": "stderr",
     "output_type": "stream",
     "text": [
      "Estrazione delle feature: 100%|██████████| 7/7 [00:23<00:00,  3.38s/it]"
     ]
    },
    {
     "name": "stdout",
     "output_type": "stream",
     "text": [
      "label\n",
      "0    100\n",
      "1    100\n",
      "dtype: int64\n"
     ]
    },
    {
     "name": "stderr",
     "output_type": "stream",
     "text": [
      "\n"
     ]
    }
   ],
   "source": [
    "device = torch.device('cuda' if torch.cuda.is_available() else 'cpu')\n",
    "\n",
    "# Carica il modello ViT-B/16 pre-addestrato\n",
    "weights = ViT_B_16_Weights.IMAGENET1K_V1\n",
    "model = vit_b_16(weights=weights)\n",
    "\n",
    "# Rimuove la testa di classificazione\n",
    "model.heads.head = nn.Identity()\n",
    "model.eval().to(device)\n",
    "\n",
    "all_feats = []\n",
    "all_labels = []\n",
    "\n",
    "# Estrazione feature senza gradienti\n",
    "with torch.no_grad():\n",
    "    for imgs, labs in tqdm(loader, desc=\"Estrazione delle feature\"):\n",
    "        imgs = imgs.to(device)\n",
    "        feats = model(imgs)\n",
    "        all_feats.append(feats.cpu().numpy())\n",
    "        all_labels.extend(labs.numpy())\n",
    "\n",
    "# Unione di tutte le feature in un'unica matrice\n",
    "features = np.vstack(all_feats)\n",
    "labels = np.array(all_labels)\n",
    "\n",
    "# Creazione DataFrame finale\n",
    "feat_cols = [f'feat_{i}' for i in range(features.shape[1])]\n",
    "df = pd.DataFrame(features, columns=feat_cols)\n",
    "df['label'] = labels\n",
    "\n",
    "# Salva il DataFrame completo con tutte le feature originali per le operazioni successive come la PCA\n",
    "feat_cols = [f'feat_{i}' for i in range(features.shape[1])]\n",
    "df_full = pd.DataFrame(features, columns=feat_cols)\n",
    "df_full['label'] = labels\n",
    "\n",
    "# Debug: visualizza numero di esempi per classe\n",
    "print(df.groupby('label').size())"
   ]
  },
  {
   "cell_type": "code",
   "execution_count": 360,
   "id": "30e3a798",
   "metadata": {},
   "outputs": [
    {
     "data": {
      "text/html": [
       "<div>\n",
       "<style scoped>\n",
       "    .dataframe tbody tr th:only-of-type {\n",
       "        vertical-align: middle;\n",
       "    }\n",
       "\n",
       "    .dataframe tbody tr th {\n",
       "        vertical-align: top;\n",
       "    }\n",
       "\n",
       "    .dataframe thead th {\n",
       "        text-align: right;\n",
       "    }\n",
       "</style>\n",
       "<table border=\"1\" class=\"dataframe\">\n",
       "  <thead>\n",
       "    <tr style=\"text-align: right;\">\n",
       "      <th></th>\n",
       "      <th>feat_0</th>\n",
       "      <th>feat_1</th>\n",
       "      <th>feat_2</th>\n",
       "      <th>feat_3</th>\n",
       "      <th>feat_4</th>\n",
       "      <th>feat_5</th>\n",
       "      <th>feat_6</th>\n",
       "      <th>feat_7</th>\n",
       "      <th>feat_8</th>\n",
       "      <th>feat_9</th>\n",
       "      <th>...</th>\n",
       "      <th>feat_759</th>\n",
       "      <th>feat_760</th>\n",
       "      <th>feat_761</th>\n",
       "      <th>feat_762</th>\n",
       "      <th>feat_763</th>\n",
       "      <th>feat_764</th>\n",
       "      <th>feat_765</th>\n",
       "      <th>feat_766</th>\n",
       "      <th>feat_767</th>\n",
       "      <th>label</th>\n",
       "    </tr>\n",
       "  </thead>\n",
       "  <tbody>\n",
       "    <tr>\n",
       "      <th>0</th>\n",
       "      <td>-0.612969</td>\n",
       "      <td>0.268715</td>\n",
       "      <td>-0.041695</td>\n",
       "      <td>-0.995133</td>\n",
       "      <td>0.113064</td>\n",
       "      <td>0.067635</td>\n",
       "      <td>0.402736</td>\n",
       "      <td>-0.434585</td>\n",
       "      <td>0.265152</td>\n",
       "      <td>-0.921075</td>\n",
       "      <td>...</td>\n",
       "      <td>-0.168281</td>\n",
       "      <td>-0.924249</td>\n",
       "      <td>-0.828056</td>\n",
       "      <td>-0.157829</td>\n",
       "      <td>-0.075218</td>\n",
       "      <td>0.279187</td>\n",
       "      <td>0.123638</td>\n",
       "      <td>-0.195531</td>\n",
       "      <td>-0.294034</td>\n",
       "      <td>0</td>\n",
       "    </tr>\n",
       "    <tr>\n",
       "      <th>1</th>\n",
       "      <td>0.487344</td>\n",
       "      <td>0.800104</td>\n",
       "      <td>-0.114999</td>\n",
       "      <td>0.310535</td>\n",
       "      <td>1.089178</td>\n",
       "      <td>-0.064486</td>\n",
       "      <td>-0.529451</td>\n",
       "      <td>0.000855</td>\n",
       "      <td>-0.329145</td>\n",
       "      <td>0.552202</td>\n",
       "      <td>...</td>\n",
       "      <td>-0.891481</td>\n",
       "      <td>-0.342098</td>\n",
       "      <td>0.314632</td>\n",
       "      <td>0.339889</td>\n",
       "      <td>-0.608143</td>\n",
       "      <td>0.410781</td>\n",
       "      <td>-1.074672</td>\n",
       "      <td>0.170974</td>\n",
       "      <td>-1.044210</td>\n",
       "      <td>0</td>\n",
       "    </tr>\n",
       "    <tr>\n",
       "      <th>2</th>\n",
       "      <td>-0.417641</td>\n",
       "      <td>-0.273465</td>\n",
       "      <td>-0.848403</td>\n",
       "      <td>-0.782972</td>\n",
       "      <td>0.526165</td>\n",
       "      <td>-0.050164</td>\n",
       "      <td>-0.533605</td>\n",
       "      <td>0.979623</td>\n",
       "      <td>0.118430</td>\n",
       "      <td>-0.471892</td>\n",
       "      <td>...</td>\n",
       "      <td>0.351966</td>\n",
       "      <td>0.431401</td>\n",
       "      <td>-0.545385</td>\n",
       "      <td>0.346360</td>\n",
       "      <td>-0.270072</td>\n",
       "      <td>0.261414</td>\n",
       "      <td>0.508719</td>\n",
       "      <td>-0.275220</td>\n",
       "      <td>-0.542331</td>\n",
       "      <td>0</td>\n",
       "    </tr>\n",
       "    <tr>\n",
       "      <th>3</th>\n",
       "      <td>-0.117327</td>\n",
       "      <td>-0.564957</td>\n",
       "      <td>0.126369</td>\n",
       "      <td>-1.502529</td>\n",
       "      <td>0.558099</td>\n",
       "      <td>0.416546</td>\n",
       "      <td>-0.067671</td>\n",
       "      <td>-0.022704</td>\n",
       "      <td>0.223932</td>\n",
       "      <td>-0.349359</td>\n",
       "      <td>...</td>\n",
       "      <td>0.495775</td>\n",
       "      <td>-0.058458</td>\n",
       "      <td>0.424657</td>\n",
       "      <td>-0.079911</td>\n",
       "      <td>0.430149</td>\n",
       "      <td>-0.058608</td>\n",
       "      <td>0.082094</td>\n",
       "      <td>-1.435845</td>\n",
       "      <td>-0.220525</td>\n",
       "      <td>0</td>\n",
       "    </tr>\n",
       "    <tr>\n",
       "      <th>4</th>\n",
       "      <td>0.378384</td>\n",
       "      <td>-0.774574</td>\n",
       "      <td>-0.200987</td>\n",
       "      <td>0.072717</td>\n",
       "      <td>0.727119</td>\n",
       "      <td>-1.276377</td>\n",
       "      <td>-0.287242</td>\n",
       "      <td>0.517585</td>\n",
       "      <td>0.262334</td>\n",
       "      <td>-0.355709</td>\n",
       "      <td>...</td>\n",
       "      <td>0.802633</td>\n",
       "      <td>0.022220</td>\n",
       "      <td>-0.751063</td>\n",
       "      <td>0.071079</td>\n",
       "      <td>-0.848592</td>\n",
       "      <td>-0.006503</td>\n",
       "      <td>1.550931</td>\n",
       "      <td>0.227141</td>\n",
       "      <td>0.704452</td>\n",
       "      <td>0</td>\n",
       "    </tr>\n",
       "  </tbody>\n",
       "</table>\n",
       "<p>5 rows × 769 columns</p>\n",
       "</div>"
      ],
      "text/plain": [
       "     feat_0    feat_1    feat_2    feat_3    feat_4    feat_5    feat_6  \\\n",
       "0 -0.612969  0.268715 -0.041695 -0.995133  0.113064  0.067635  0.402736   \n",
       "1  0.487344  0.800104 -0.114999  0.310535  1.089178 -0.064486 -0.529451   \n",
       "2 -0.417641 -0.273465 -0.848403 -0.782972  0.526165 -0.050164 -0.533605   \n",
       "3 -0.117327 -0.564957  0.126369 -1.502529  0.558099  0.416546 -0.067671   \n",
       "4  0.378384 -0.774574 -0.200987  0.072717  0.727119 -1.276377 -0.287242   \n",
       "\n",
       "     feat_7    feat_8    feat_9  ...  feat_759  feat_760  feat_761  feat_762  \\\n",
       "0 -0.434585  0.265152 -0.921075  ... -0.168281 -0.924249 -0.828056 -0.157829   \n",
       "1  0.000855 -0.329145  0.552202  ... -0.891481 -0.342098  0.314632  0.339889   \n",
       "2  0.979623  0.118430 -0.471892  ...  0.351966  0.431401 -0.545385  0.346360   \n",
       "3 -0.022704  0.223932 -0.349359  ...  0.495775 -0.058458  0.424657 -0.079911   \n",
       "4  0.517585  0.262334 -0.355709  ...  0.802633  0.022220 -0.751063  0.071079   \n",
       "\n",
       "   feat_763  feat_764  feat_765  feat_766  feat_767  label  \n",
       "0 -0.075218  0.279187  0.123638 -0.195531 -0.294034      0  \n",
       "1 -0.608143  0.410781 -1.074672  0.170974 -1.044210      0  \n",
       "2 -0.270072  0.261414  0.508719 -0.275220 -0.542331      0  \n",
       "3  0.430149 -0.058608  0.082094 -1.435845 -0.220525      0  \n",
       "4 -0.848592 -0.006503  1.550931  0.227141  0.704452      0  \n",
       "\n",
       "[5 rows x 769 columns]"
      ]
     },
     "execution_count": 360,
     "metadata": {},
     "output_type": "execute_result"
    }
   ],
   "source": [
    "df.head()"
   ]
  },
  {
   "cell_type": "markdown",
   "id": "03474a96",
   "metadata": {},
   "source": [
    "### Training"
   ]
  },
  {
   "cell_type": "code",
   "execution_count": 361,
   "id": "70424f0e",
   "metadata": {},
   "outputs": [
    {
     "name": "stdout",
     "output_type": "stream",
     "text": [
      "Split: Train=160, Val=20, Test=20\n",
      "Fitting 5 folds for each of 19 candidates, totalling 95 fits\n",
      "Best params from validation: {'C': 10, 'gamma': 'scale', 'kernel': 'rbf'}\n",
      "Final Test Accuracy: 0.6500\n",
      "Classification Report:\n",
      "              precision    recall  f1-score   support\n",
      "\n",
      "           0       0.60      0.90      0.72        10\n",
      "           1       0.80      0.40      0.53        10\n",
      "\n",
      "    accuracy                           0.65        20\n",
      "   macro avg       0.70      0.65      0.63        20\n",
      "weighted avg       0.70      0.65      0.63        20\n",
      "\n",
      "Confusion Matrix:\n",
      "[[9 1]\n",
      " [6 4]]\n"
     ]
    },
    {
     "data": {
      "image/png": "[encoded data removed]",
      "text/plain": [
       "<Figure size 700x600 with 1 Axes>"
      ]
     },
     "metadata": {},
     "output_type": "display_data"
    }
   ],
   "source": [
    "df.__name__ = \"df\" \n",
    "\n",
    "# Crea la stringa nome modelli\n",
    "model_name = f\"{list(model_a)[0]}_vs_{list(model_b)[0]}\"\n",
    "\n",
    "# Crea output_dir\n",
    "output_dir = get_unique_output_dir(model_name=model_name, dataset_name=df.__name__,test_size=0.1)\n",
    "\n",
    "# Lancia il training passando output_dir\n",
    "train_SVM(df, output_dir=output_dir, test_size=0.1)"
   ]
  },
  {
   "cell_type": "code",
   "execution_count": 362,
   "id": "8bf6a28d",
   "metadata": {},
   "outputs": [
    {
     "name": "stdout",
     "output_type": "stream",
     "text": [
      "Split: Train=119, Val=21, Test=60\n",
      "Fitting 5 folds for each of 19 candidates, totalling 95 fits\n",
      "Best params from validation: {'C': 10, 'gamma': 'scale', 'kernel': 'rbf'}\n",
      "Final Test Accuracy: 0.8000\n",
      "Classification Report:\n",
      "              precision    recall  f1-score   support\n",
      "\n",
      "           0       0.75      0.90      0.82        30\n",
      "           1       0.88      0.70      0.78        30\n",
      "\n",
      "    accuracy                           0.80        60\n",
      "   macro avg       0.81      0.80      0.80        60\n",
      "weighted avg       0.81      0.80      0.80        60\n",
      "\n",
      "Confusion Matrix:\n",
      "[[27  3]\n",
      " [ 9 21]]\n"
     ]
    },
    {
     "data": {
      "image/png": "[encoded data removed]",
      "text/plain": [
       "<Figure size 700x600 with 1 Axes>"
      ]
     },
     "metadata": {},
     "output_type": "display_data"
    }
   ],
   "source": [
    "df.__name__ = \"df\"  \n",
    "\n",
    "# Crea la stringa tipo \"gau_gan_vs_generative_inpainting\"\n",
    "model_name = f\"{list(model_a)[0]}_vs_{list(model_b)[0]}\"\n",
    "\n",
    "# Crea output_dir con test_size incluso nel nome\n",
    "output_dir = get_unique_output_dir(model_name=model_name, dataset_name=df.__name__,test_size=0.3)\n",
    "\n",
    "# Lancia il training passando output_dir e test_size\n",
    "train_SVM(df, output_dir=output_dir, test_size=0.3)\n"
   ]
  },
  {
   "cell_type": "code",
   "execution_count": 363,
   "id": "374d48ee",
   "metadata": {},
   "outputs": [
    {
     "name": "stdout",
     "output_type": "stream",
     "text": [
      "Split: Train=140, Val=20, Test=40\n",
      "Fitting 5 folds for each of 19 candidates, totalling 95 fits\n",
      "Best params from validation: {'C': 10, 'coef0': 0.0, 'gamma': 'scale', 'kernel': 'sigmoid'}\n",
      "Final Test Accuracy: 0.7750\n",
      "Classification Report:\n",
      "              precision    recall  f1-score   support\n",
      "\n",
      "           0       0.76      0.80      0.78        20\n",
      "           1       0.79      0.75      0.77        20\n",
      "\n",
      "    accuracy                           0.78        40\n",
      "   macro avg       0.78      0.78      0.77        40\n",
      "weighted avg       0.78      0.78      0.77        40\n",
      "\n",
      "Confusion Matrix:\n",
      "[[16  4]\n",
      " [ 5 15]]\n"
     ]
    },
    {
     "data": {
      "image/png": "[encoded data removed]",
      "text/plain": [
       "<Figure size 700x600 with 1 Axes>"
      ]
     },
     "metadata": {},
     "output_type": "display_data"
    }
   ],
   "source": [
    "df.__name__ = \"df\" \n",
    "\n",
    "# Crea la stringa tipo \"gau_gan_vs_generative_inpainting\"\n",
    "model_name = f\"{list(model_a)[0]}_vs_{list(model_b)[0]}\"\n",
    "\n",
    "# Crea output_dir con test_size incluso nel nome\n",
    "output_dir = get_unique_output_dir(model_name=model_name, dataset_name=df.__name__,test_size=0.2)\n",
    "\n",
    "# Lancia il training passando output_dir e test_size\n",
    "train_SVM(df, output_dir=output_dir, test_size=0.2)\n"
   ]
  },
  {
   "cell_type": "markdown",
   "id": "2f9a7d15",
   "metadata": {},
   "source": [
    "# Riduzione del numero delle features (PCA)"
   ]
  },
  {
   "cell_type": "code",
   "execution_count": 364,
   "id": "2afb58c9",
   "metadata": {},
   "outputs": [
    {
     "name": "stdout",
     "output_type": "stream",
     "text": [
      "Shape dopo PCA: (200, 3)\n"
     ]
    }
   ],
   "source": [
    "pca = PCA(n_components=3)\n",
    "features_pca = pca.fit_transform(features)\n",
    "print(f\"Shape dopo PCA: {features_pca.shape}\")"
   ]
  },
  {
   "cell_type": "code",
   "execution_count": 365,
   "id": "de6e4f48",
   "metadata": {},
   "outputs": [
    {
     "data": {
      "application/vnd.plotly.v1+json": {
       "config": {
        "plotlyServerURL": "https://plot.ly"
       },
       "data": [
        {
         "hovertemplate": "PC1=%{x}<br>PC2=%{y}<br>PC3=%{z}<br>label=%{marker.color}<extra></extra>",
         "legendgroup": "",
         "marker": {
          "color": {
           "bdata": "AAAAAAAAAAAAAAAAAAAAAAAAAAAAAAAAAAAAAAAAAAAAAAAAAAAAAAAAAAAAAAAAAAAAAAAAAAAAAAAAAAAAAAAAAAAAAAAAAAAAAAAAAAAAAAAAAAAAAAAAAAAAAAAAAAAAAAEBAQEBAQEBAQEBAQEBAQEBAQEBAQEBAQEBAQEBAQEBAQEBAQEBAQEBAQEBAQEBAQEBAQEBAQEBAQEBAQEBAQEBAQEBAQEBAQEBAQEBAQEBAQEBAQEBAQEBAQEBAQEBAQEBAQE=",
           "dtype": "i1"
          },
          "coloraxis": "coloraxis",
          "opacity": 0.7,
          "symbol": "circle"
         },
         "mode": "markers",
         "name": "",
         "scene": "scene",
         "showlegend": false,
         "type": "scatter3d",
         "x": {
          "bdata": "HjsdwIIe1cDhJQW+q1B+wBYWnD9sPEE/E0BlQKmf0UCAPTFAkfLev7hcbcDU8TLAcdAJwDlYMUDGF4M+xgaxv4Xp3sArkHBAVrvgQKqCGUEsrbG9h8dCQNkY8D8kYKhAWY3RP+S95cA8ijs/DNSGwGYsx74NhZvAuw6aPrP+Mz4lv+XAMaauv65RJcAJWqVAyZEpQCZvEMGctcHAvmnNPVteWL9GEIu/whA6wNvZRUCPrW9ANECTvQDvLkBT/elA/1SUPvPKpr+J3c4/SS6yv1X7sMD9OYVAVR5AP5/P5EAfhd++XJg/v8nxfcB3f4e+O3DmP16NikDxoBFB+f05vns1PUD2y82/TikwQPcuHT+oXpFA3vgMwXQ0J0Ario6+bvBQQLy/iEBY5bhAibe4P2awhL/0atI+3lRmwLKBOz7gufO/6rUDwfi/jT9t5QtAwupBQGrIB8D6Go3AoKIdwAv6kL3fcSZAd3uRv5Arpb9sXG7AG7YQwFEKi79Xa1M/ouUjwC4LO8DDDrs9ID3jvzxbsr8zgp0/3sTSv1Qvjr4X0ETAzqwOwGQtP0CdbrdAtXPJv3CMUz/vys+/6zMBwMEeir8Psz7AI1ECv8ZMbr8U0Lq/0mPMvx8tL8BX7MdA5uxcQCLkOL8i8ji/0gHQv83VIL/QYu2/urXMvtdohUAbEUq/0LLFv+I1lr8fooe/h2MCP3BmlkBK866/Asfsv1M1bMAFIhu/zmLnvD1hqb8sCKK/w6YKwOMFv79oS4k+gaI/QICEp7+yefq/wFA0QA+XWUA4XLZAuNyRv8zYE8CP3MK9vFyKQBDVnECsdNG/ACHeQDkhb78P6tc+ufvEPiFO4L9VnJG/zAHRvyxVF78r88i/ys0MwM+cuj8yQQJAtKg4QEg/j0B5NNm/Too3QC3HDD+TBcfAeJs8QKA4aD/3CAPAfb8jwC5LC0D7V9dAhqsYwIEAJ0DOybu/doiuv5wLcL+NGVq/3z3Nv2DtYb/H2Uu/h29Gv/3PJECFdK27aK3pv5fwO0C3rMK/dhi8v2/CE8AYRC8+YeKCP4Ffgj8=",
          "dtype": "f4"
         },
         "y": {
          "bdata": "wWb0vL0+a79nMVw/w6yTP22FXj82SVQ/PdZtwHQvaD/o1InA6vk2wGBHRL7npKi/P+h9wBm6KkFzQD1AyGpsQJziXL/ZaMk/FHJswK0iq8A5NJxAmulFQHklMEGuao/A+T0qQMxwGr6pSgJAKLvAvyty273e7F+/a5INwAAz5UDbDs+/xJstwPMCNb9jr2FAvqlcP+EbjL/KSx09WiAfwJtPaD6ZOKc+9BUNwKCKgkC/VS3AtcpRQMeMKUHpIV7ARtZuQPfgpD6/ne1AcImdv437yL8RNCNAsXC6vxelVb1PmdA9Tj6TvzJKAsCLSadAA/DqP8C5vD8xBnM+QBeMwHixe8ATtCDAfvLAvJmxCkBcirc/MbGov8VQAL4723rADU+XPxiB2T6HKGzAA+UCQWeN/D/Wsas/Xcnmv8r/sr+BPLO/9reKv98Oij8rgyFB2FZ5v6+Nmr/A3FC/aITAP1Wo0j1Sx9I/Z2OtPnIWhz+KXgDAIbINv7GxpT+6Knw9KUJCPRjTjcAr35xATWacPq4huz7rTRvA+Xq5Ps4K778DSAvAtEr9vnDXQ8AJ2CXAjFWrvnndwL/Mooi+8xXbPtQlEUD8F6G/S+RTP/7J7D9EZQO/LoqQPorHMMD3nLvAWsAQwArpBz+ri+4+Ne+LvmOBKj/LAO09Xo8gQEcTQ7+ZBro/BBjAvlAg977qnZ8/nemZP2aMDsCdoPI9RPYZwIMifL0dDCpA5rC8PxDASr9oyfa+HCobvy+zRj7vAS5AH8IWQHg62z6HHg+/KzAbQPrsdEBt8NPAls7vPj0F2r6tFeQ/9vugvzhRmj/Nice+g1hOwHdEYL4RmqI/MzlSQA/Rjb9h6S8/jb0XPoCI2j6iye6/M58kvqIPZz+WDJrApUeKwHlxrcCsXWY9XtyIwPzhIL9pxRC/pMgnQFie9b751+m9thbev/cFN8AKMg2/OqmwvwEETcDKT+A+V9EGP439kz/7w++94ReGPnobFr9AlBU/WP07vvyajcBmcMm/etWrvm5q778lxrQ+Rv0HvxwzB77PFmM+3YtYv+oXMEA=",
          "dtype": "f4"
         },
         "z": {
          "bdata": "bT/VvucU6EBsXCe+07FqPwS9rb/gYGy/huAMwAu8/j4cp3RANdG+wK4kJ0Bxv6G+HFOHwPiORz8g1I4/qpC5vu2oaUDIdK8/KHUwPy6hl0DK5ly9JyGpvzoyWz7ouR+/XwDnPmB9+0D0NdG/3qT+Py1gPb/mERJARwspwBrCBT+OPbZAd1ZywGMVAMDoR0VApLtHvU09F0EUPLRAiYbUwGn7hb6JAFe/+2e9v+eYoj88gPA/MuKOPS4VBUBUGIJA31z4PlLKsr+5cVc/gd87wDx7Jj+7nu2/+d7/P80N1T/T7SPAJpCMwI0IJ73nGJy9W96qPih82D+F1JNAQ4eXwM/r1L6Q3XfABFlpP8kx7L8Ye+A+apwIQeSNpD8KMWHAoYVKP7qHEL9uLZQ/ju6FPwkY3L/7Ue6+VBArQI4+5T+uRqfAI4zvQAIKbcC7se0/dV+ePcpVNsCMowFAWEITwPjaeL7vE46/i0SdvsVuUL+VgVS+mjwKwKAGrb/UzRpAa5TUv3FXw8BLvb0/1llHv9fL1773cqbAMDYivwGvcr+RuAjAErOUvyNO/b9LJi9AQ85Pv2uvBD/Mx6q/Qr5lv8w1CsDtmtm/+m8Hv+wWMr+jZIA+os7dPTMCosAFgEg/Sm7oPzYoe74f7Sc/0c17vY4JGb8tYcS+Oh68v9J+rj/Xzfa+5r1cvodO/r6sVWS/SEUQPyPBrj9NEoW+hdKowIxzG0BWozrAH1vAv6Z1Rr95qnC+5e8IwCTDPr7E35e/u2DzP3SPLL+xRTA/c3EPQNS/Kj836ahASw0fvr537L4IWxjAZOw/P1a+1j+yoiM+k3cSP1QZab+opcm/UBXsvyxrhMBlija/7xq0vhRBqT0vcb2/Y4YWvblrkT98rElAwzMkv8uVmEB5Gnu/iLieQIIfjj+e/uBAngp9wKc7rL9Hbkq/x1OGv0l6ODsvdZNA6j3GPzqfEcC825y/UEzTvhBBzb8khhnAyUQ6v8chEL8C8Qu/mhejvw/xhUBpvWQ/8EmDvkwDYz8+t+q+KxCBv6wZuT4B5/O/Umv8vhMhKb8=",
          "dtype": "f4"
         }
        }
       ],
       "layout": {
        "coloraxis": {
         "colorbar": {
          "title": {
           "text": "label"
          }
         },
         "colorscale": [
          [
           0,
           "#0d0887"
          ],
          [
           0.1111111111111111,
           "#46039f"
          ],
          [
           0.2222222222222222,
           "#7201a8"
          ],
          [
           0.3333333333333333,
           "#9c179e"
          ],
          [
           0.4444444444444444,
           "#bd3786"
          ],
          [
           0.5555555555555556,
           "#d8576b"
          ],
          [
           0.6666666666666666,
           "#ed7953"
          ],
          [
           0.7777777777777778,
           "#fb9f3a"
          ],
          [
           0.8888888888888888,
           "#fdca26"
          ],
          [
           1,
           "#f0f921"
          ]
         ]
        },
        "legend": {
         "tracegroupgap": 0
        },
        "scene": {
         "domain": {
          "x": [
           0,
           1
          ],
          "y": [
           0,
           1
          ]
         },
         "xaxis": {
          "title": {
           "text": "PC1"
          }
         },
         "yaxis": {
          "title": {
           "text": "PC2"
          }
         },
         "zaxis": {
          "title": {
           "text": "PC3"
          }
         }
        },
        "template": {
         "data": {
          "bar": [
           {
            "error_x": {
             "color": "#2a3f5f"
            },
            "error_y": {
             "color": "#2a3f5f"
            },
            "marker": {
             "line": {
              "color": "#E5ECF6",
              "width": 0.5
             },
             "pattern": {
              "fillmode": "overlay",
              "size": 10,
              "solidity": 0.2
             }
            },
            "type": "bar"
           }
          ],
          "barpolar": [
           {
            "marker": {
             "line": {
              "color": "#E5ECF6",
              "width": 0.5
             },
             "pattern": {
              "fillmode": "overlay",
              "size": 10,
              "solidity": 0.2
             }
            },
            "type": "barpolar"
           }
          ],
          "carpet": [
           {
            "aaxis": {
             "endlinecolor": "#2a3f5f",
             "gridcolor": "white",
             "linecolor": "white",
             "minorgridcolor": "white",
             "startlinecolor": "#2a3f5f"
            },
            "baxis": {
             "endlinecolor": "#2a3f5f",
             "gridcolor": "white",
             "linecolor": "white",
             "minorgridcolor": "white",
             "startlinecolor": "#2a3f5f"
            },
            "type": "carpet"
           }
          ],
          "choropleth": [
           {
            "colorbar": {
             "outlinewidth": 0,
             "ticks": ""
            },
            "type": "choropleth"
           }
          ],
          "contour": [
           {
            "colorbar": {
             "outlinewidth": 0,
             "ticks": ""
            },
            "colorscale": [
             [
              0,
              "#0d0887"
             ],
             [
              0.1111111111111111,
              "#46039f"
             ],
             [
              0.2222222222222222,
              "#7201a8"
             ],
             [
              0.3333333333333333,
              "#9c179e"
             ],
             [
              0.4444444444444444,
              "#bd3786"
             ],
             [
              0.5555555555555556,
              "#d8576b"
             ],
             [
              0.6666666666666666,
              "#ed7953"
             ],
             [
              0.7777777777777778,
              "#fb9f3a"
             ],
             [
              0.8888888888888888,
              "#fdca26"
             ],
             [
              1,
              "#f0f921"
             ]
            ],
            "type": "contour"
           }
          ],
          "contourcarpet": [
           {
            "colorbar": {
             "outlinewidth": 0,
             "ticks": ""
            },
            "type": "contourcarpet"
           }
          ],
          "heatmap": [
           {
            "colorbar": {
             "outlinewidth": 0,
             "ticks": ""
            },
            "colorscale": [
             [
              0,
              "#0d0887"
             ],
             [
              0.1111111111111111,
              "#46039f"
             ],
             [
              0.2222222222222222,
              "#7201a8"
             ],
             [
              0.3333333333333333,
              "#9c179e"
             ],
             [
              0.4444444444444444,
              "#bd3786"
             ],
             [
              0.5555555555555556,
              "#d8576b"
             ],
             [
              0.6666666666666666,
              "#ed7953"
             ],
             [
              0.7777777777777778,
              "#fb9f3a"
             ],
             [
              0.8888888888888888,
              "#fdca26"
             ],
             [
              1,
              "#f0f921"
             ]
            ],
            "type": "heatmap"
           }
          ],
          "histogram": [
           {
            "marker": {
             "pattern": {
              "fillmode": "overlay",
              "size": 10,
              "solidity": 0.2
             }
            },
            "type": "histogram"
           }
          ],
          "histogram2d": [
           {
            "colorbar": {
             "outlinewidth": 0,
             "ticks": ""
            },
            "colorscale": [
             [
              0,
              "#0d0887"
             ],
             [
              0.1111111111111111,
              "#46039f"
             ],
             [
              0.2222222222222222,
              "#7201a8"
             ],
             [
              0.3333333333333333,
              "#9c179e"
             ],
             [
              0.4444444444444444,
              "#bd3786"
             ],
             [
              0.5555555555555556,
              "#d8576b"
             ],
             [
              0.6666666666666666,
              "#ed7953"
             ],
             [
              0.7777777777777778,
              "#fb9f3a"
             ],
             [
              0.8888888888888888,
              "#fdca26"
             ],
             [
              1,
              "#f0f921"
             ]
            ],
            "type": "histogram2d"
           }
          ],
          "histogram2dcontour": [
           {
            "colorbar": {
             "outlinewidth": 0,
             "ticks": ""
            },
            "colorscale": [
             [
              0,
              "#0d0887"
             ],
             [
              0.1111111111111111,
              "#46039f"
             ],
             [
              0.2222222222222222,
              "#7201a8"
             ],
             [
              0.3333333333333333,
              "#9c179e"
             ],
             [
              0.4444444444444444,
              "#bd3786"
             ],
             [
              0.5555555555555556,
              "#d8576b"
             ],
             [
              0.6666666666666666,
              "#ed7953"
             ],
             [
              0.7777777777777778,
              "#fb9f3a"
             ],
             [
              0.8888888888888888,
              "#fdca26"
             ],
             [
              1,
              "#f0f921"
             ]
            ],
            "type": "histogram2dcontour"
           }
          ],
          "mesh3d": [
           {
            "colorbar": {
             "outlinewidth": 0,
             "ticks": ""
            },
            "type": "mesh3d"
           }
          ],
          "parcoords": [
           {
            "line": {
             "colorbar": {
              "outlinewidth": 0,
              "ticks": ""
             }
            },
            "type": "parcoords"
           }
          ],
          "pie": [
           {
            "automargin": true,
            "type": "pie"
           }
          ],
          "scatter": [
           {
            "fillpattern": {
             "fillmode": "overlay",
             "size": 10,
             "solidity": 0.2
            },
            "type": "scatter"
           }
          ],
          "scatter3d": [
           {
            "line": {
             "colorbar": {
              "outlinewidth": 0,
              "ticks": ""
             }
            },
            "marker": {
             "colorbar": {
              "outlinewidth": 0,
              "ticks": ""
             }
            },
            "type": "scatter3d"
           }
          ],
          "scattercarpet": [
           {
            "marker": {
             "colorbar": {
              "outlinewidth": 0,
              "ticks": ""
             }
            },
            "type": "scattercarpet"
           }
          ],
          "scattergeo": [
           {
            "marker": {
             "colorbar": {
              "outlinewidth": 0,
              "ticks": ""
             }
            },
            "type": "scattergeo"
           }
          ],
          "scattergl": [
           {
            "marker": {
             "colorbar": {
              "outlinewidth": 0,
              "ticks": ""
             }
            },
            "type": "scattergl"
           }
          ],
          "scattermap": [
           {
            "marker": {
             "colorbar": {
              "outlinewidth": 0,
              "ticks": ""
             }
            },
            "type": "scattermap"
           }
          ],
          "scattermapbox": [
           {
            "marker": {
             "colorbar": {
              "outlinewidth": 0,
              "ticks": ""
             }
            },
            "type": "scattermapbox"
           }
          ],
          "scatterpolar": [
           {
            "marker": {
             "colorbar": {
              "outlinewidth": 0,
              "ticks": ""
             }
            },
            "type": "scatterpolar"
           }
          ],
          "scatterpolargl": [
           {
            "marker": {
             "colorbar": {
              "outlinewidth": 0,
              "ticks": ""
             }
            },
            "type": "scatterpolargl"
           }
          ],
          "scatterternary": [
           {
            "marker": {
             "colorbar": {
              "outlinewidth": 0,
              "ticks": ""
             }
            },
            "type": "scatterternary"
           }
          ],
          "surface": [
           {
            "colorbar": {
             "outlinewidth": 0,
             "ticks": ""
            },
            "colorscale": [
             [
              0,
              "#0d0887"
             ],
             [
              0.1111111111111111,
              "#46039f"
             ],
             [
              0.2222222222222222,
              "#7201a8"
             ],
             [
              0.3333333333333333,
              "#9c179e"
             ],
             [
              0.4444444444444444,
              "#bd3786"
             ],
             [
              0.5555555555555556,
              "#d8576b"
             ],
             [
              0.6666666666666666,
              "#ed7953"
             ],
             [
              0.7777777777777778,
              "#fb9f3a"
             ],
             [
              0.8888888888888888,
              "#fdca26"
             ],
             [
              1,
              "#f0f921"
             ]
            ],
            "type": "surface"
           }
          ],
          "table": [
           {
            "cells": {
             "fill": {
              "color": "#EBF0F8"
             },
             "line": {
              "color": "white"
             }
            },
            "header": {
             "fill": {
              "color": "#C8D4E3"
             },
             "line": {
              "color": "white"
             }
            },
            "type": "table"
           }
          ]
         },
         "layout": {
          "annotationdefaults": {
           "arrowcolor": "#2a3f5f",
           "arrowhead": 0,
           "arrowwidth": 1
          },
          "autotypenumbers": "strict",
          "coloraxis": {
           "colorbar": {
            "outlinewidth": 0,
            "ticks": ""
           }
          },
          "colorscale": {
           "diverging": [
            [
             0,
             "#8e0152"
            ],
            [
             0.1,
             "#c51b7d"
            ],
            [
             0.2,
             "#de77ae"
            ],
            [
             0.3,
             "#f1b6da"
            ],
            [
             0.4,
             "#fde0ef"
            ],
            [
             0.5,
             "#f7f7f7"
            ],
            [
             0.6,
             "#e6f5d0"
            ],
            [
             0.7,
             "#b8e186"
            ],
            [
             0.8,
             "#7fbc41"
            ],
            [
             0.9,
             "#4d9221"
            ],
            [
             1,
             "#276419"
            ]
           ],
           "sequential": [
            [
             0,
             "#0d0887"
            ],
            [
             0.1111111111111111,
             "#46039f"
            ],
            [
             0.2222222222222222,
             "#7201a8"
            ],
            [
             0.3333333333333333,
             "#9c179e"
            ],
            [
             0.4444444444444444,
             "#bd3786"
            ],
            [
             0.5555555555555556,
             "#d8576b"
            ],
            [
             0.6666666666666666,
             "#ed7953"
            ],
            [
             0.7777777777777778,
             "#fb9f3a"
            ],
            [
             0.8888888888888888,
             "#fdca26"
            ],
            [
             1,
             "#f0f921"
            ]
           ],
           "sequentialminus": [
            [
             0,
             "#0d0887"
            ],
            [
             0.1111111111111111,
             "#46039f"
            ],
            [
             0.2222222222222222,
             "#7201a8"
            ],
            [
             0.3333333333333333,
             "#9c179e"
            ],
            [
             0.4444444444444444,
             "#bd3786"
            ],
            [
             0.5555555555555556,
             "#d8576b"
            ],
            [
             0.6666666666666666,
             "#ed7953"
            ],
            [
             0.7777777777777778,
             "#fb9f3a"
            ],
            [
             0.8888888888888888,
             "#fdca26"
            ],
            [
             1,
             "#f0f921"
            ]
           ]
          },
          "colorway": [
           "#636efa",
           "#EF553B",
           "#00cc96",
           "#ab63fa",
           "#FFA15A",
           "#19d3f3",
           "#FF6692",
           "#B6E880",
           "#FF97FF",
           "#FECB52"
          ],
          "font": {
           "color": "#2a3f5f"
          },
          "geo": {
           "bgcolor": "white",
           "lakecolor": "white",
           "landcolor": "#E5ECF6",
           "showlakes": true,
           "showland": true,
           "subunitcolor": "white"
          },
          "hoverlabel": {
           "align": "left"
          },
          "hovermode": "closest",
          "mapbox": {
           "style": "light"
          },
          "paper_bgcolor": "white",
          "plot_bgcolor": "#E5ECF6",
          "polar": {
           "angularaxis": {
            "gridcolor": "white",
            "linecolor": "white",
            "ticks": ""
           },
           "bgcolor": "#E5ECF6",
           "radialaxis": {
            "gridcolor": "white",
            "linecolor": "white",
            "ticks": ""
           }
          },
          "scene": {
           "xaxis": {
            "backgroundcolor": "#E5ECF6",
            "gridcolor": "white",
            "gridwidth": 2,
            "linecolor": "white",
            "showbackground": true,
            "ticks": "",
            "zerolinecolor": "white"
           },
           "yaxis": {
            "backgroundcolor": "#E5ECF6",
            "gridcolor": "white",
            "gridwidth": 2,
            "linecolor": "white",
            "showbackground": true,
            "ticks": "",
            "zerolinecolor": "white"
           },
           "zaxis": {
            "backgroundcolor": "#E5ECF6",
            "gridcolor": "white",
            "gridwidth": 2,
            "linecolor": "white",
            "showbackground": true,
            "ticks": "",
            "zerolinecolor": "white"
           }
          },
          "shapedefaults": {
           "line": {
            "color": "#2a3f5f"
           }
          },
          "ternary": {
           "aaxis": {
            "gridcolor": "white",
            "linecolor": "white",
            "ticks": ""
           },
           "baxis": {
            "gridcolor": "white",
            "linecolor": "white",
            "ticks": ""
           },
           "bgcolor": "#E5ECF6",
           "caxis": {
            "gridcolor": "white",
            "linecolor": "white",
            "ticks": ""
           }
          },
          "title": {
           "x": 0.05
          },
          "xaxis": {
           "automargin": true,
           "gridcolor": "white",
           "linecolor": "white",
           "ticks": "",
           "title": {
            "standoff": 15
           },
           "zerolinecolor": "white",
           "zerolinewidth": 2
          },
          "yaxis": {
           "automargin": true,
           "gridcolor": "white",
           "linecolor": "white",
           "ticks": "",
           "title": {
            "standoff": 15
           },
           "zerolinecolor": "white",
           "zerolinewidth": 2
          }
         }
        },
        "title": {
         "text": "PCA 3D Visualization"
        }
       }
      }
     },
     "metadata": {},
     "output_type": "display_data"
    }
   ],
   "source": [
    "df = pd.DataFrame(features_pca, columns=['PC1', 'PC2', 'PC3'])\n",
    "df['label'] = labels\n",
    "\n",
    "df.__name__ = \"df_reduced\"\n",
    "model_name = f\"{list(model_a)[0]}_vs_{list(model_b)[0]}\"\n",
    "\n",
    "fig = px.scatter_3d(\n",
    "    df, x='PC1', y='PC2', z='PC3',\n",
    "    color='label',\n",
    "    title='PCA 3D Visualization',\n",
    "    opacity=0.7\n",
    ")\n",
    "fig.show()\n",
    "\n",
    "#Salvataggio plot 3D PCA\n",
    "output_dir = get_unique_output_dir(model_name=model_name, dataset_name=df.__name__)\n",
    "fig.write_html(os.path.join(output_dir, \"pca_3d_plot.html\"))\n",
    "\n"
   ]
  },
  {
   "cell_type": "code",
   "execution_count": 366,
   "id": "c1f0416d",
   "metadata": {},
   "outputs": [
    {
     "name": "stdout",
     "output_type": "stream",
     "text": [
      "Numero di componenti per spiegare il 95% della varianza: 151\n",
      "Shape originale: (200, 769)\n",
      "Shape ridotto: (200, 152)\n"
     ]
    },
    {
     "data": {
      "text/html": [
       "<div>\n",
       "<style scoped>\n",
       "    .dataframe tbody tr th:only-of-type {\n",
       "        vertical-align: middle;\n",
       "    }\n",
       "\n",
       "    .dataframe tbody tr th {\n",
       "        vertical-align: top;\n",
       "    }\n",
       "\n",
       "    .dataframe thead th {\n",
       "        text-align: right;\n",
       "    }\n",
       "</style>\n",
       "<table border=\"1\" class=\"dataframe\">\n",
       "  <thead>\n",
       "    <tr style=\"text-align: right;\">\n",
       "      <th></th>\n",
       "      <th>label</th>\n",
       "      <th>PC1</th>\n",
       "      <th>PC2</th>\n",
       "      <th>PC3</th>\n",
       "      <th>PC4</th>\n",
       "      <th>PC5</th>\n",
       "      <th>PC6</th>\n",
       "      <th>PC7</th>\n",
       "      <th>PC8</th>\n",
       "      <th>PC9</th>\n",
       "      <th>...</th>\n",
       "      <th>PC142</th>\n",
       "      <th>PC143</th>\n",
       "      <th>PC144</th>\n",
       "      <th>PC145</th>\n",
       "      <th>PC146</th>\n",
       "      <th>PC147</th>\n",
       "      <th>PC148</th>\n",
       "      <th>PC149</th>\n",
       "      <th>PC150</th>\n",
       "      <th>PC151</th>\n",
       "    </tr>\n",
       "  </thead>\n",
       "  <tbody>\n",
       "    <tr>\n",
       "      <th>0</th>\n",
       "      <td>0</td>\n",
       "      <td>-2.456226</td>\n",
       "      <td>-0.035832</td>\n",
       "      <td>-0.392181</td>\n",
       "      <td>-1.921603</td>\n",
       "      <td>0.397674</td>\n",
       "      <td>0.268667</td>\n",
       "      <td>-0.954380</td>\n",
       "      <td>-1.066929</td>\n",
       "      <td>0.167608</td>\n",
       "      <td>...</td>\n",
       "      <td>-0.428176</td>\n",
       "      <td>-0.689698</td>\n",
       "      <td>-0.096643</td>\n",
       "      <td>0.579477</td>\n",
       "      <td>0.861563</td>\n",
       "      <td>0.215886</td>\n",
       "      <td>-0.297555</td>\n",
       "      <td>0.773440</td>\n",
       "      <td>-0.084179</td>\n",
       "      <td>-1.013600</td>\n",
       "    </tr>\n",
       "    <tr>\n",
       "      <th>1</th>\n",
       "      <td>0</td>\n",
       "      <td>-6.659614</td>\n",
       "      <td>-0.915815</td>\n",
       "      <td>7.250144</td>\n",
       "      <td>0.367783</td>\n",
       "      <td>-2.649623</td>\n",
       "      <td>0.072776</td>\n",
       "      <td>0.588760</td>\n",
       "      <td>-0.494255</td>\n",
       "      <td>-0.157390</td>\n",
       "      <td>...</td>\n",
       "      <td>-1.171130</td>\n",
       "      <td>0.407275</td>\n",
       "      <td>0.479348</td>\n",
       "      <td>0.354081</td>\n",
       "      <td>-0.399543</td>\n",
       "      <td>0.860108</td>\n",
       "      <td>0.469175</td>\n",
       "      <td>-1.282928</td>\n",
       "      <td>0.623356</td>\n",
       "      <td>0.381834</td>\n",
       "    </tr>\n",
       "    <tr>\n",
       "      <th>2</th>\n",
       "      <td>0</td>\n",
       "      <td>-0.130692</td>\n",
       "      <td>0.857804</td>\n",
       "      <td>-0.143191</td>\n",
       "      <td>-2.980464</td>\n",
       "      <td>-2.389046</td>\n",
       "      <td>5.292273</td>\n",
       "      <td>-1.801690</td>\n",
       "      <td>3.606123</td>\n",
       "      <td>1.494586</td>\n",
       "      <td>...</td>\n",
       "      <td>0.066370</td>\n",
       "      <td>-0.019047</td>\n",
       "      <td>-0.063882</td>\n",
       "      <td>-0.025283</td>\n",
       "      <td>0.068989</td>\n",
       "      <td>0.382192</td>\n",
       "      <td>0.831135</td>\n",
       "      <td>-0.285146</td>\n",
       "      <td>-0.250433</td>\n",
       "      <td>0.504237</td>\n",
       "    </tr>\n",
       "    <tr>\n",
       "      <th>3</th>\n",
       "      <td>0</td>\n",
       "      <td>-3.975260</td>\n",
       "      <td>1.153759</td>\n",
       "      <td>0.909036</td>\n",
       "      <td>1.069624</td>\n",
       "      <td>1.977393</td>\n",
       "      <td>3.270926</td>\n",
       "      <td>1.549479</td>\n",
       "      <td>0.995513</td>\n",
       "      <td>1.934291</td>\n",
       "      <td>...</td>\n",
       "      <td>-0.095265</td>\n",
       "      <td>0.399174</td>\n",
       "      <td>0.666905</td>\n",
       "      <td>0.057551</td>\n",
       "      <td>2.252072</td>\n",
       "      <td>-0.222817</td>\n",
       "      <td>0.529382</td>\n",
       "      <td>0.177431</td>\n",
       "      <td>-0.253546</td>\n",
       "      <td>-0.729489</td>\n",
       "    </tr>\n",
       "    <tr>\n",
       "      <th>4</th>\n",
       "      <td>0</td>\n",
       "      <td>1.217870</td>\n",
       "      <td>0.866798</td>\n",
       "      <td>-1.316324</td>\n",
       "      <td>8.934632</td>\n",
       "      <td>0.013018</td>\n",
       "      <td>0.717167</td>\n",
       "      <td>1.011237</td>\n",
       "      <td>0.739136</td>\n",
       "      <td>0.500237</td>\n",
       "      <td>...</td>\n",
       "      <td>0.342902</td>\n",
       "      <td>-0.111912</td>\n",
       "      <td>-1.504463</td>\n",
       "      <td>-0.194522</td>\n",
       "      <td>-0.098838</td>\n",
       "      <td>0.273931</td>\n",
       "      <td>0.313580</td>\n",
       "      <td>-0.944737</td>\n",
       "      <td>0.087820</td>\n",
       "      <td>0.156409</td>\n",
       "    </tr>\n",
       "  </tbody>\n",
       "</table>\n",
       "<p>5 rows × 152 columns</p>\n",
       "</div>"
      ],
      "text/plain": [
       "   label       PC1       PC2       PC3       PC4       PC5       PC6  \\\n",
       "0      0 -2.456226 -0.035832 -0.392181 -1.921603  0.397674  0.268667   \n",
       "1      0 -6.659614 -0.915815  7.250144  0.367783 -2.649623  0.072776   \n",
       "2      0 -0.130692  0.857804 -0.143191 -2.980464 -2.389046  5.292273   \n",
       "3      0 -3.975260  1.153759  0.909036  1.069624  1.977393  3.270926   \n",
       "4      0  1.217870  0.866798 -1.316324  8.934632  0.013018  0.717167   \n",
       "\n",
       "        PC7       PC8       PC9  ...     PC142     PC143     PC144     PC145  \\\n",
       "0 -0.954380 -1.066929  0.167608  ... -0.428176 -0.689698 -0.096643  0.579477   \n",
       "1  0.588760 -0.494255 -0.157390  ... -1.171130  0.407275  0.479348  0.354081   \n",
       "2 -1.801690  3.606123  1.494586  ...  0.066370 -0.019047 -0.063882 -0.025283   \n",
       "3  1.549479  0.995513  1.934291  ... -0.095265  0.399174  0.666905  0.057551   \n",
       "4  1.011237  0.739136  0.500237  ...  0.342902 -0.111912 -1.504463 -0.194522   \n",
       "\n",
       "      PC146     PC147     PC148     PC149     PC150     PC151  \n",
       "0  0.861563  0.215886 -0.297555  0.773440 -0.084179 -1.013600  \n",
       "1 -0.399543  0.860108  0.469175 -1.282928  0.623356  0.381834  \n",
       "2  0.068989  0.382192  0.831135 -0.285146 -0.250433  0.504237  \n",
       "3  2.252072 -0.222817  0.529382  0.177431 -0.253546 -0.729489  \n",
       "4 -0.098838  0.273931  0.313580 -0.944737  0.087820  0.156409  \n",
       "\n",
       "[5 rows x 152 columns]"
      ]
     },
     "execution_count": 366,
     "metadata": {},
     "output_type": "execute_result"
    }
   ],
   "source": [
    "# Seleziona solo le colonne delle feature\n",
    "feat_cols = [c for c in df_full.columns if c.startswith('feat_')]\n",
    "X = df_full[feat_cols].values\n",
    "\n",
    "# Fit completo della PCA per analizzare la varianza cumulativa\n",
    "pca_full = PCA().fit(X)\n",
    "cumvar = np.cumsum(pca_full.explained_variance_ratio_)\n",
    "\n",
    "# Determina quante componenti servono per spiegare almeno il 95% della varianza\n",
    "n_components = np.argmax(cumvar >= 0.95) + 1\n",
    "print(f\"Numero di componenti per spiegare il 95% della varianza: {n_components}\")\n",
    "\n",
    "# Riduzione dimensionale con il numero ottimale di componenti\n",
    "pca = PCA(n_components=n_components)\n",
    "X_pca = pca.fit_transform(X)\n",
    "\n",
    "# Crea DataFrame con le componenti ridotte\n",
    "pca_cols = [f'PC{i+1}' for i in range(n_components)]\n",
    "df_pca = pd.DataFrame(X_pca, columns=pca_cols, index=df_full.index)\n",
    "\n",
    "# Aggiungi le label\n",
    "df_reduced = pd.concat([df_full[['label']], df_pca], axis=1)\n",
    "\n",
    "# Visualizza info\n",
    "print(\"Shape originale:\", df_full.shape)\n",
    "print(\"Shape ridotto:\", df_reduced.shape)\n",
    "df_reduced.head()"
   ]
  },
  {
   "cell_type": "code",
   "execution_count": 367,
   "id": "9ff25e70",
   "metadata": {},
   "outputs": [
    {
     "name": "stdout",
     "output_type": "stream",
     "text": [
      "Split: Train=160, Val=20, Test=20\n",
      "Fitting 5 folds for each of 19 candidates, totalling 95 fits\n",
      "Best params from validation: {'C': 10, 'gamma': 'scale', 'kernel': 'rbf'}\n",
      "Final Test Accuracy: 0.6500\n",
      "Classification Report:\n",
      "              precision    recall  f1-score   support\n",
      "\n",
      "           0       0.60      0.90      0.72        10\n",
      "           1       0.80      0.40      0.53        10\n",
      "\n",
      "    accuracy                           0.65        20\n",
      "   macro avg       0.70      0.65      0.63        20\n",
      "weighted avg       0.70      0.65      0.63        20\n",
      "\n",
      "Confusion Matrix:\n",
      "[[9 1]\n",
      " [6 4]]\n"
     ]
    },
    {
     "data": {
      "image/png": "[encoded data removed]",
      "text/plain": [
       "<Figure size 700x600 with 1 Axes>"
      ]
     },
     "metadata": {},
     "output_type": "display_data"
    }
   ],
   "source": [
    "df.__name__ = \"df_reduced\"  \n",
    "\n",
    "# Crea la stringa tipo \"gau_gan_vs_generative_inpainting\"\n",
    "model_name = f\"{list(model_a)[0]}_vs_{list(model_b)[0]}\"\n",
    "\n",
    "# Crea output_dir con test_size incluso nel nome\n",
    "output_dir = get_unique_output_dir(model_name=model_name, dataset_name=df.__name__, test_size=0.1)\n",
    "\n",
    "# Lancia il training passando output_dir e test_size\n",
    "train_SVM(df_reduced, test_size=0.1, output_dir=output_dir)\n"
   ]
  },
  {
   "cell_type": "code",
   "execution_count": 368,
   "id": "cb1b9699",
   "metadata": {},
   "outputs": [
    {
     "name": "stdout",
     "output_type": "stream",
     "text": [
      "Split: Train=119, Val=21, Test=60\n",
      "Fitting 5 folds for each of 19 candidates, totalling 95 fits\n",
      "Best params from validation: {'C': 10, 'gamma': 'scale', 'kernel': 'rbf'}\n",
      "Final Test Accuracy: 0.7833\n",
      "Classification Report:\n",
      "              precision    recall  f1-score   support\n",
      "\n",
      "           0       0.73      0.90      0.81        30\n",
      "           1       0.87      0.67      0.75        30\n",
      "\n",
      "    accuracy                           0.78        60\n",
      "   macro avg       0.80      0.78      0.78        60\n",
      "weighted avg       0.80      0.78      0.78        60\n",
      "\n",
      "Confusion Matrix:\n",
      "[[27  3]\n",
      " [10 20]]\n"
     ]
    },
    {
     "data": {
      "image/png": "[encoded data removed]",
      "text/plain": [
       "<Figure size 700x600 with 1 Axes>"
      ]
     },
     "metadata": {},
     "output_type": "display_data"
    }
   ],
   "source": [
    "\n",
    "df.__name__ = \"df_reduced\"  \n",
    "\n",
    "# Crea la stringa tipo \"gau_gan_vs_generative_inpainting\"\n",
    "model_name = f\"{list(model_a)[0]}_vs_{list(model_b)[0]}\"\n",
    "\n",
    "\n",
    "# Crea output_dir con test_size incluso nel nome\n",
    "output_dir = get_unique_output_dir(model_name=model_name, dataset_name=df.__name__,  test_size=0.3)\n",
    "\n",
    "# Lancia il training passando output_dir e test_size\n",
    "train_SVM(df_reduced, test_size=0.3, output_dir=output_dir)"
   ]
  },
  {
   "cell_type": "code",
   "execution_count": 369,
   "id": "74bd3e0e",
   "metadata": {},
   "outputs": [
    {
     "name": "stdout",
     "output_type": "stream",
     "text": [
      "Split: Train=140, Val=20, Test=40\n",
      "Fitting 5 folds for each of 19 candidates, totalling 95 fits\n",
      "Best params from validation: {'C': 1, 'kernel': 'linear'}\n",
      "Final Test Accuracy: 0.7500\n",
      "Classification Report:\n",
      "              precision    recall  f1-score   support\n",
      "\n",
      "           0       0.73      0.80      0.76        20\n",
      "           1       0.78      0.70      0.74        20\n",
      "\n",
      "    accuracy                           0.75        40\n",
      "   macro avg       0.75      0.75      0.75        40\n",
      "weighted avg       0.75      0.75      0.75        40\n",
      "\n",
      "Confusion Matrix:\n",
      "[[16  4]\n",
      " [ 6 14]]\n"
     ]
    },
    {
     "data": {
      "image/png": "[encoded data removed]",
      "text/plain": [
       "<Figure size 700x600 with 1 Axes>"
      ]
     },
     "metadata": {},
     "output_type": "display_data"
    }
   ],
   "source": [
    "df.__name__ = \"df_reduced\"  \n",
    "\n",
    "# Crea la stringa tipo \"gau_gan_vs_generative_inpainting\"\n",
    "model_name = f\"{list(model_a)[0]}_vs_{list(model_b)[0]}\"\n",
    "\n",
    "# Crea output_dir con test_size incluso nel nome\n",
    "output_dir = get_unique_output_dir(model_name=model_name, dataset_name=df.__name__,  test_size=0.2)\n",
    "\n",
    "# Lancia il training passando output_dir e test_size\n",
    "train_SVM(df_reduced, test_size=0.2, output_dir=output_dir)"
   ]
  }
 ],
 "metadata": {
  "kernelspec": {
   "display_name": "fvab",
   "language": "python",
   "name": "python3"
  },
  "language_info": {
   "codemirror_mode": {
    "name": "ipython",
    "version": 3
   },
   "file_extension": ".py",
   "mimetype": "text/x-python",
   "name": "python",
   "nbconvert_exporter": "python",
   "pygments_lexer": "ipython3",
   "version": "3.10.16"
  }
 },
 "nbformat": 4,
 "nbformat_minor": 5
}
