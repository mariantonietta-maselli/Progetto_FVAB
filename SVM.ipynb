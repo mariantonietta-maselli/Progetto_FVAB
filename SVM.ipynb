{
 "cells": [
  {
   "cell_type": "code",
   "execution_count": 208,
   "id": "74ed32ea",
   "metadata": {},
   "outputs": [],
   "source": [
    "import torch\n",
    "import torch.nn as nn\n",
    "import pandas as pd\n",
    "import numpy as np\n",
    "import seaborn as sns\n",
    "from pathlib import Path\n",
    "from matplotlib import pyplot as plt\n",
    "from torch.utils.data import Dataset, DataLoader\n",
    "from torchvision.models import vit_b_16, ViT_B_16_Weights\n",
    "from imblearn.under_sampling import RandomUnderSampler\n",
    "from sklearn.model_selection import train_test_split, GridSearchCV\n",
    "from sklearn.metrics import classification_report, confusion_matrix, accuracy_score\n",
    "from sklearn.svm import SVC\n",
    "from sklearn.decomposition import PCA\n",
    "from PIL import Image\n",
    "from transformers import ViTFeatureExtractor, ViTModel\n",
    "from tqdm import tqdm\n",
    "from sklearn.preprocessing import LabelEncoder\n",
    "import plotly.express as px"
   ]
  },
  {
   "cell_type": "code",
   "execution_count": 209,
   "id": "b95e490b",
   "metadata": {},
   "outputs": [],
   "source": [
    "# Scelta modelli\n",
    "model_a = {'cips'}\n",
    "model_b = {'taming_transformer'}"
   ]
  },
  {
   "cell_type": "code",
   "execution_count": 210,
   "id": "f8429caf",
   "metadata": {},
   "outputs": [],
   "source": [
    "class ImageFolder(Dataset):\n",
    "\n",
    "    def __init__(self, root_dir, model_a, model_b, metadata_name='metadata.csv', nrows=None, transform=None, random_state=42):\n",
    "        self.root_dir = Path(root_dir)\n",
    "        self.metadata_name = metadata_name\n",
    "        self.transform = transform\n",
    "        self.random_state = random_state\n",
    "\n",
    "        # Carica campioni etichettati 0 e 1\n",
    "        samples_a = self._load_samples(model_a, label=0, nrows=nrows)\n",
    "        samples_b = self._load_samples(model_b, label=1, nrows=nrows)\n",
    "\n",
    "        print(f\"Caricate immagini: '{model_a}': {len(samples_a)} — '{model_b}': {len(samples_b)}\")\n",
    "        if len(samples_a) == 0 or len(samples_b) == 0:\n",
    "            raise ValueError(f\"Dataset non valido: una delle due classi ha 0 immagini.\")\n",
    "\n",
    "        # Bilancia le classi\n",
    "        self.samples = self._balance_binary(samples_a + samples_b)\n",
    "\n",
    "    def __len__(self):\n",
    "        return len(self.samples)\n",
    "\n",
    "    def __getitem__(self, idx):\n",
    "        img_path, label = self.samples[idx]\n",
    "        image = Image.open(self.root_dir / img_path).convert('RGB')\n",
    "        if self.transform:\n",
    "            image = self.transform(image)\n",
    "        return image, label\n",
    "\n",
    "    def _load_samples(self, folder, label, nrows=None):\n",
    "        folder_path = self.root_dir / folder\n",
    "        meta_file = folder_path / self.metadata_name\n",
    "\n",
    "        if not meta_file.exists():\n",
    "            print(f\"Metadata file not found for folder: {folder}\")\n",
    "            return []\n",
    "\n",
    "        df = pd.read_csv(meta_file)\n",
    "\n",
    "        if not {'image_path', 'target'}.issubset(df.columns):\n",
    "            print(f\"Metadata missing required columns in: {meta_file}\")\n",
    "            return []\n",
    "\n",
    "        df['target'] = pd.to_numeric(df['target'], errors='coerce')\n",
    "        df = df[df['target'] > 0]  # Solo immagini valide\n",
    "\n",
    "        if nrows:\n",
    "            df = df.sample(n=nrows, random_state=self.random_state)  # Campionamento casuale\n",
    "\n",
    "        samples = [(Path(folder) / row['image_path'], label) for _, row in df.iterrows()]\n",
    "        return samples\n",
    "\n",
    "    def _balance_binary(self, samples):\n",
    "        # Bilanciamento tramite undersampling\n",
    "        X = np.arange(len(samples)).reshape(-1, 1)\n",
    "        y = [label for _, label in samples]\n",
    "        rus = RandomUnderSampler(random_state=self.random_state)\n",
    "        X_res, y_res = rus.fit_resample(X, y)\n",
    "        return [samples[i] for i in X_res.ravel()]\n"
   ]
  },
  {
   "cell_type": "code",
   "execution_count": 211,
   "id": "63b7d037",
   "metadata": {},
   "outputs": [],
   "source": [
    "import os\n",
    "\n",
    "def get_unique_output_dir(model_name, dataset_name=None, test_size=None, base_prefix=\"svm_results\"):\n",
    "    # Base path: ./Risultati/Model_a_vs_Model_b/\n",
    "    base_dir = os.path.join(\"Risultati\", model_name)\n",
    "\n",
    "    # Se dataset è df_reduced, aggiungi PCA\n",
    "    if dataset_name == \"df_reduced\":\n",
    "        prefix = f\"{base_prefix}_PCA\"\n",
    "    else:\n",
    "        prefix = base_prefix\n",
    "\n",
    "    if test_size is None or test_size == 0.1:\n",
    "        suffix = \"_0\"\n",
    "    else:\n",
    "        suffix = \"_\" + str(test_size).replace('.', '_')\n",
    "\n",
    "    base_path = os.path.join(base_dir, prefix + suffix)\n",
    "\n",
    "    # Incrementa se la cartella esiste già\n",
    "    i = 1\n",
    "    final_path = base_path\n",
    "    while os.path.exists(final_path):\n",
    "        final_path = f\"{base_path}_{i}\"\n",
    "        i += 1\n",
    "\n",
    "    os.makedirs(final_path, exist_ok=True)\n",
    "    return final_path\n",
    "\n",
    "\n",
    "\n",
    "def train_SVM(dataset: pd.DataFrame, output_dir: str, val_size=0.1, test_size=0.1):\n",
    "    from sklearn.metrics import classification_report, confusion_matrix, accuracy_score\n",
    "    from sklearn.model_selection import train_test_split, GridSearchCV\n",
    "    from sklearn.preprocessing import LabelEncoder\n",
    "    from sklearn.svm import SVC\n",
    "    import numpy as np\n",
    "\n",
    "    # Estrai X e y\n",
    "    X = dataset.drop(columns='label').values\n",
    "    y_str = dataset['label'].values\n",
    "\n",
    "    label_encoder = LabelEncoder()\n",
    "    y = label_encoder.fit_transform(y_str)\n",
    "\n",
    "    # Split\n",
    "    X_temp, X_test, y_temp, y_test = train_test_split(\n",
    "        X, y, test_size=test_size, stratify=y, random_state=42\n",
    "    )\n",
    "    val_ratio = val_size / (1 - test_size)\n",
    "    X_train, X_val, y_train, y_val = train_test_split(\n",
    "        X_temp, y_temp, test_size=val_ratio, stratify=y_temp, random_state=42\n",
    "    )\n",
    "\n",
    "    print(f\"Split: Train={len(y_train)}, Val={len(y_val)}, Test={len(y_test)}\")\n",
    "\n",
    "    svc = SVC(class_weight='balanced')\n",
    "    param_grid = [\n",
    "        {'kernel': ['linear'],  'C': [0.1, 1, 10]},\n",
    "        {'kernel': ['rbf'],     'C': [1, 10], 'gamma': ['scale', 0.1]},\n",
    "        {'kernel': ['sigmoid'], 'C': [1, 10], 'gamma': ['scale', 0.1], 'coef0': [0.0, 0.1, 0.5]}\n",
    "    ]\n",
    "\n",
    "    grid = GridSearchCV(\n",
    "        estimator=svc,\n",
    "        param_grid=param_grid,\n",
    "        cv=5,\n",
    "        scoring='accuracy',\n",
    "        n_jobs=-1,\n",
    "        verbose=1\n",
    "    )\n",
    "    grid.fit(X_train, y_train)\n",
    "\n",
    "    print(f\"Best params from validation: {grid.best_params_}\")\n",
    "\n",
    "    best_svm = SVC(**grid.best_params_, class_weight='balanced')\n",
    "    best_svm.fit(np.concatenate((X_train, X_val)), np.concatenate((y_train, y_val)))\n",
    "\n",
    "    prediction = best_svm.predict(X_test)\n",
    "\n",
    "    y_test_labels = label_encoder.inverse_transform(y_test)\n",
    "    pred_labels = label_encoder.inverse_transform(prediction)\n",
    "\n",
    "    accuracy = accuracy_score(y_test_labels, pred_labels)\n",
    "    report = classification_report(y_test_labels, pred_labels)\n",
    "    cf = confusion_matrix(y_test_labels, pred_labels)\n",
    "\n",
    "    print(f\"Final Test Accuracy: {accuracy:.4f}\")\n",
    "    print(f\"Classification Report:\\n{report}\")\n",
    "    print(f\"Confusion Matrix:\\n{cf}\")\n",
    "\n",
    "    # === SALVATAGGIO FILES ===\n",
    "    with open(os.path.join(output_dir, \"log.txt\"), \"w\") as f:\n",
    "        f.write(f\"Split: Train={len(y_train)}, Val={len(y_val)}, Test={len(y_test)}\\n\")\n",
    "        f.write(f\"Best params from validation: {grid.best_params_}\\n\")\n",
    "        f.write(f\"Final Test Accuracy: {accuracy:.4f}\\n\\n\")\n",
    "        f.write(\"Classification Report:\\n\")\n",
    "        f.write(report)\n",
    "        f.write(\"\\nConfusion Matrix:\\n\")\n",
    "        f.write(str(cf))\n",
    "\n",
    "    plot_confusion_matrix(\n",
    "        cf, class_labels=[\"Cips\", \"Taming Transformer\"],\n",
    "        save_path=os.path.join(output_dir, \"confusion_matrix.png\")\n",
    "    )\n",
    "\n",
    "\n",
    "def plot_confusion_matrix(cf, class_labels, save_path=None):\n",
    "    import seaborn as sns\n",
    "    import matplotlib.pyplot as plt\n",
    "    import numpy as np\n",
    "\n",
    "    group_counts = [\"{0:0.0f}\".format(value) for value in cf.flatten()]\n",
    "    group_percentages = [\"{0:.2%}\".format(value) for value in cf.flatten() / np.sum(cf)]\n",
    "    labels = [f\"{count}\\n({percent})\" for count, percent in zip(group_counts, group_percentages)]\n",
    "    labels = np.asarray(labels).reshape(cf.shape)\n",
    "\n",
    "    plt.figure(figsize=(7, 6))\n",
    "    sns.set(style=\"whitegrid\")\n",
    "\n",
    "    ax = sns.heatmap(cf, annot=labels, fmt='', cmap='Blues', cbar=False,\n",
    "                     xticklabels=class_labels, yticklabels=class_labels)\n",
    "\n",
    "    ax.set_title(\"Matrice di Confusione\")\n",
    "    ax.set_xlabel(\"Classe Predetta\")\n",
    "    ax.set_ylabel(\"Classe Reale\")\n",
    "\n",
    "    ax.xaxis.set_ticklabels(class_labels, rotation=20)\n",
    "    ax.yaxis.set_ticklabels(class_labels, rotation=0)\n",
    "\n",
    "    plt.tight_layout()\n",
    "    if save_path:\n",
    "        plt.savefig(save_path, dpi=300)\n",
    "    plt.show()\n"
   ]
  },
  {
   "cell_type": "code",
   "execution_count": 212,
   "id": "618ee247",
   "metadata": {},
   "outputs": [
    {
     "name": "stdout",
     "output_type": "stream",
     "text": [
      "Caricate immagini: 'cips': 100 — 'taming_transformer': 100\n"
     ]
    },
    {
     "data": {
      "image/png": "[encoded data removed]",
      "text/plain": [
       "<Figure size 600x500 with 1 Axes>"
      ]
     },
     "metadata": {},
     "output_type": "display_data"
    }
   ],
   "source": [
    "# Trasformazioni standard del modello ViT-B/16\n",
    "transform = ViT_B_16_Weights.IMAGENET1K_V1.transforms()\n",
    "\n",
    "# Caricamento del dataset con label numeriche e trasformazioni\n",
    "dataset = ImageFolder(\n",
    "    root_dir='./archive',\n",
    "    model_a=\"cips\",\n",
    "    model_b=\"taming_transformer\",\n",
    "    nrows=100, \n",
    "    transform=transform\n",
    ")\n",
    "\n",
    "# DataLoader per batch processing\n",
    "loader = DataLoader(dataset, batch_size=32, shuffle=False)\n",
    "\n",
    "# Conversione dei sample in DataFrame\n",
    "data = pd.DataFrame(dataset.samples, columns=['path', 'label'])\n",
    "\n",
    "# Mapping esplicito per rendere leggibili le etichette numeriche\n",
    "label_map = {0: 'cips', 1: 'taming_transformer'}\n",
    "data['label_name'] = data['label'].map(label_map)\n",
    "\n",
    "# Conteggio delle classi\n",
    "counts = data['label_name'].value_counts().loc[['cips', 'taming_transformer']]\n",
    "\n",
    "# Disegna il plot\n",
    "fig, ax = plt.subplots(figsize=(6, 5))\n",
    "ax.bar(counts.index, counts.values, color=['steelblue', 'tomato'])\n",
    "ax.set_title(\"Conteggio immagini per modello\")\n",
    "ax.set_xlabel(\"Modello generativo\")\n",
    "ax.set_ylabel(\"Numero di immagini\")\n",
    "ax.tick_params(axis='x', rotation=0)\n",
    "\n",
    "plt.tight_layout()\n",
    "plt.show()"
   ]
  },
  {
   "cell_type": "markdown",
   "id": "1e77fc62",
   "metadata": {},
   "source": [
    "### Estrazione delle features"
   ]
  },
  {
   "cell_type": "code",
   "execution_count": 213,
   "id": "c50bfb9a",
   "metadata": {},
   "outputs": [
    {
     "name": "stderr",
     "output_type": "stream",
     "text": [
      "Estrazione delle feature: 100%|██████████| 7/7 [00:28<00:00,  4.12s/it]"
     ]
    },
    {
     "name": "stdout",
     "output_type": "stream",
     "text": [
      "label\n",
      "0    100\n",
      "1    100\n",
      "dtype: int64\n"
     ]
    },
    {
     "name": "stderr",
     "output_type": "stream",
     "text": [
      "\n"
     ]
    }
   ],
   "source": [
    "device = torch.device('cuda' if torch.cuda.is_available() else 'cpu')\n",
    "\n",
    "# Carica il modello ViT-B/16 pre-addestrato\n",
    "weights = ViT_B_16_Weights.IMAGENET1K_V1\n",
    "model = vit_b_16(weights=weights)\n",
    "\n",
    "# Rimuove la testa di classificazione\n",
    "model.heads.head = nn.Identity()\n",
    "model.eval().to(device)\n",
    "\n",
    "all_feats = []\n",
    "all_labels = []\n",
    "\n",
    "# Estrazione feature senza gradienti\n",
    "with torch.no_grad():\n",
    "    for imgs, labs in tqdm(loader, desc=\"Estrazione delle feature\"):\n",
    "        imgs = imgs.to(device)\n",
    "        feats = model(imgs)\n",
    "        all_feats.append(feats.cpu().numpy())\n",
    "        all_labels.extend(labs.numpy())\n",
    "\n",
    "# Unione di tutte le feature in un'unica matrice\n",
    "features = np.vstack(all_feats)\n",
    "labels = np.array(all_labels)\n",
    "\n",
    "# Creazione DataFrame finale\n",
    "feat_cols = [f'feat_{i}' for i in range(features.shape[1])]\n",
    "df = pd.DataFrame(features, columns=feat_cols)\n",
    "df['label'] = labels\n",
    "\n",
    "# Salva il DataFrame completo con tutte le feature originali per le operazioni successive come la PCA\n",
    "feat_cols = [f'feat_{i}' for i in range(features.shape[1])]\n",
    "df_full = pd.DataFrame(features, columns=feat_cols)\n",
    "df_full['label'] = labels\n",
    "\n",
    "# Debug: visualizza numero di esempi per classe\n",
    "print(df.groupby('label').size())"
   ]
  },
  {
   "cell_type": "code",
   "execution_count": 214,
   "id": "30e3a798",
   "metadata": {},
   "outputs": [
    {
     "data": {
      "text/html": [
       "<div>\n",
       "<style scoped>\n",
       "    .dataframe tbody tr th:only-of-type {\n",
       "        vertical-align: middle;\n",
       "    }\n",
       "\n",
       "    .dataframe tbody tr th {\n",
       "        vertical-align: top;\n",
       "    }\n",
       "\n",
       "    .dataframe thead th {\n",
       "        text-align: right;\n",
       "    }\n",
       "</style>\n",
       "<table border=\"1\" class=\"dataframe\">\n",
       "  <thead>\n",
       "    <tr style=\"text-align: right;\">\n",
       "      <th></th>\n",
       "      <th>feat_0</th>\n",
       "      <th>feat_1</th>\n",
       "      <th>feat_2</th>\n",
       "      <th>feat_3</th>\n",
       "      <th>feat_4</th>\n",
       "      <th>feat_5</th>\n",
       "      <th>feat_6</th>\n",
       "      <th>feat_7</th>\n",
       "      <th>feat_8</th>\n",
       "      <th>feat_9</th>\n",
       "      <th>...</th>\n",
       "      <th>feat_759</th>\n",
       "      <th>feat_760</th>\n",
       "      <th>feat_761</th>\n",
       "      <th>feat_762</th>\n",
       "      <th>feat_763</th>\n",
       "      <th>feat_764</th>\n",
       "      <th>feat_765</th>\n",
       "      <th>feat_766</th>\n",
       "      <th>feat_767</th>\n",
       "      <th>label</th>\n",
       "    </tr>\n",
       "  </thead>\n",
       "  <tbody>\n",
       "    <tr>\n",
       "      <th>0</th>\n",
       "      <td>-1.059680</td>\n",
       "      <td>0.647920</td>\n",
       "      <td>1.235340</td>\n",
       "      <td>0.655194</td>\n",
       "      <td>0.185727</td>\n",
       "      <td>0.261044</td>\n",
       "      <td>-0.086406</td>\n",
       "      <td>0.073612</td>\n",
       "      <td>-0.007544</td>\n",
       "      <td>-0.345334</td>\n",
       "      <td>...</td>\n",
       "      <td>-0.344391</td>\n",
       "      <td>-0.258088</td>\n",
       "      <td>0.139975</td>\n",
       "      <td>0.590006</td>\n",
       "      <td>1.008377</td>\n",
       "      <td>-0.828466</td>\n",
       "      <td>-1.118910</td>\n",
       "      <td>0.309175</td>\n",
       "      <td>-0.460052</td>\n",
       "      <td>0</td>\n",
       "    </tr>\n",
       "    <tr>\n",
       "      <th>1</th>\n",
       "      <td>-2.071830</td>\n",
       "      <td>-1.221225</td>\n",
       "      <td>0.434217</td>\n",
       "      <td>-0.106349</td>\n",
       "      <td>1.017357</td>\n",
       "      <td>0.088557</td>\n",
       "      <td>-0.929175</td>\n",
       "      <td>-0.048346</td>\n",
       "      <td>1.249109</td>\n",
       "      <td>1.382702</td>\n",
       "      <td>...</td>\n",
       "      <td>-0.039399</td>\n",
       "      <td>-0.486311</td>\n",
       "      <td>0.081941</td>\n",
       "      <td>0.493591</td>\n",
       "      <td>1.037179</td>\n",
       "      <td>-0.283892</td>\n",
       "      <td>-0.324540</td>\n",
       "      <td>-0.587197</td>\n",
       "      <td>0.201361</td>\n",
       "      <td>0</td>\n",
       "    </tr>\n",
       "    <tr>\n",
       "      <th>2</th>\n",
       "      <td>-2.280680</td>\n",
       "      <td>0.032495</td>\n",
       "      <td>1.114140</td>\n",
       "      <td>-0.936921</td>\n",
       "      <td>0.277405</td>\n",
       "      <td>0.970187</td>\n",
       "      <td>-0.404402</td>\n",
       "      <td>0.961688</td>\n",
       "      <td>-0.248145</td>\n",
       "      <td>-0.178796</td>\n",
       "      <td>...</td>\n",
       "      <td>0.105230</td>\n",
       "      <td>-0.562011</td>\n",
       "      <td>-0.197281</td>\n",
       "      <td>0.808425</td>\n",
       "      <td>-0.213554</td>\n",
       "      <td>-0.825744</td>\n",
       "      <td>-0.019083</td>\n",
       "      <td>-0.265228</td>\n",
       "      <td>-0.245730</td>\n",
       "      <td>0</td>\n",
       "    </tr>\n",
       "    <tr>\n",
       "      <th>3</th>\n",
       "      <td>-2.510967</td>\n",
       "      <td>-0.798528</td>\n",
       "      <td>0.244433</td>\n",
       "      <td>-0.242144</td>\n",
       "      <td>1.313727</td>\n",
       "      <td>0.808292</td>\n",
       "      <td>-0.709594</td>\n",
       "      <td>0.799947</td>\n",
       "      <td>-0.325061</td>\n",
       "      <td>1.228064</td>\n",
       "      <td>...</td>\n",
       "      <td>-0.068996</td>\n",
       "      <td>-0.237661</td>\n",
       "      <td>-0.241413</td>\n",
       "      <td>0.685905</td>\n",
       "      <td>0.427937</td>\n",
       "      <td>-0.361679</td>\n",
       "      <td>-0.669311</td>\n",
       "      <td>-0.047017</td>\n",
       "      <td>0.095566</td>\n",
       "      <td>0</td>\n",
       "    </tr>\n",
       "    <tr>\n",
       "      <th>4</th>\n",
       "      <td>0.060450</td>\n",
       "      <td>0.578819</td>\n",
       "      <td>0.201308</td>\n",
       "      <td>0.625400</td>\n",
       "      <td>0.324586</td>\n",
       "      <td>-0.022622</td>\n",
       "      <td>-0.058441</td>\n",
       "      <td>-0.104674</td>\n",
       "      <td>-0.063479</td>\n",
       "      <td>1.534172</td>\n",
       "      <td>...</td>\n",
       "      <td>0.049914</td>\n",
       "      <td>0.551623</td>\n",
       "      <td>0.183504</td>\n",
       "      <td>-0.294740</td>\n",
       "      <td>-0.425965</td>\n",
       "      <td>-0.438135</td>\n",
       "      <td>1.312542</td>\n",
       "      <td>-0.099938</td>\n",
       "      <td>0.662843</td>\n",
       "      <td>0</td>\n",
       "    </tr>\n",
       "  </tbody>\n",
       "</table>\n",
       "<p>5 rows × 769 columns</p>\n",
       "</div>"
      ],
      "text/plain": [
       "     feat_0    feat_1    feat_2    feat_3    feat_4    feat_5    feat_6  \\\n",
       "0 -1.059680  0.647920  1.235340  0.655194  0.185727  0.261044 -0.086406   \n",
       "1 -2.071830 -1.221225  0.434217 -0.106349  1.017357  0.088557 -0.929175   \n",
       "2 -2.280680  0.032495  1.114140 -0.936921  0.277405  0.970187 -0.404402   \n",
       "3 -2.510967 -0.798528  0.244433 -0.242144  1.313727  0.808292 -0.709594   \n",
       "4  0.060450  0.578819  0.201308  0.625400  0.324586 -0.022622 -0.058441   \n",
       "\n",
       "     feat_7    feat_8    feat_9  ...  feat_759  feat_760  feat_761  feat_762  \\\n",
       "0  0.073612 -0.007544 -0.345334  ... -0.344391 -0.258088  0.139975  0.590006   \n",
       "1 -0.048346  1.249109  1.382702  ... -0.039399 -0.486311  0.081941  0.493591   \n",
       "2  0.961688 -0.248145 -0.178796  ...  0.105230 -0.562011 -0.197281  0.808425   \n",
       "3  0.799947 -0.325061  1.228064  ... -0.068996 -0.237661 -0.241413  0.685905   \n",
       "4 -0.104674 -0.063479  1.534172  ...  0.049914  0.551623  0.183504 -0.294740   \n",
       "\n",
       "   feat_763  feat_764  feat_765  feat_766  feat_767  label  \n",
       "0  1.008377 -0.828466 -1.118910  0.309175 -0.460052      0  \n",
       "1  1.037179 -0.283892 -0.324540 -0.587197  0.201361      0  \n",
       "2 -0.213554 -0.825744 -0.019083 -0.265228 -0.245730      0  \n",
       "3  0.427937 -0.361679 -0.669311 -0.047017  0.095566      0  \n",
       "4 -0.425965 -0.438135  1.312542 -0.099938  0.662843      0  \n",
       "\n",
       "[5 rows x 769 columns]"
      ]
     },
     "execution_count": 214,
     "metadata": {},
     "output_type": "execute_result"
    }
   ],
   "source": [
    "df.head()"
   ]
  },
  {
   "cell_type": "markdown",
   "id": "03474a96",
   "metadata": {},
   "source": [
    "### Training"
   ]
  },
  {
   "cell_type": "code",
   "execution_count": null,
   "id": "70424f0e",
   "metadata": {},
   "outputs": [
    {
     "name": "stdout",
     "output_type": "stream",
     "text": [
      "Split: Train=160, Val=20, Test=20\n",
      "Fitting 5 folds for each of 19 candidates, totalling 95 fits\n",
      "Best params from validation: {'C': 1, 'gamma': 'scale', 'kernel': 'rbf'}\n",
      "Final Test Accuracy: 0.8500\n",
      "Classification Report:\n",
      "              precision    recall  f1-score   support\n",
      "\n",
      "           0       1.00      0.70      0.82        10\n",
      "           1       0.77      1.00      0.87        10\n",
      "\n",
      "    accuracy                           0.85        20\n",
      "   macro avg       0.88      0.85      0.85        20\n",
      "weighted avg       0.88      0.85      0.85        20\n",
      "\n",
      "Confusion Matrix:\n",
      "[[ 7  3]\n",
      " [ 0 10]]\n"
     ]
    },
    {
     "data": {
      "image/png": "[encoded data removed]",
      "text/plain": [
       "<Figure size 700x600 with 1 Axes>"
      ]
     },
     "metadata": {},
     "output_type": "display_data"
    }
   ],
   "source": [
    "df.__name__ = \"df\" \n",
    "\n",
    "# Crea la stringa nome modelli\n",
    "model_name = f\"{list(model_a)[0]}_vs_{list(model_b)[0]}\"\n",
    "\n",
    "# Crea output_dir\n",
    "output_dir = get_unique_output_dir(model_name=model_name, dataset_name=df.__name__)\n",
    "\n",
    "# Lancia il training passando output_dir\n",
    "train_SVM(df, output_dir=output_dir)"
   ]
  },
  {
   "cell_type": "code",
   "execution_count": null,
   "id": "8bf6a28d",
   "metadata": {},
   "outputs": [
    {
     "name": "stdout",
     "output_type": "stream",
     "text": [
      "Split: Train=119, Val=21, Test=60\n",
      "Fitting 5 folds for each of 19 candidates, totalling 95 fits\n",
      "Best params from validation: {'C': 1, 'gamma': 'scale', 'kernel': 'rbf'}\n",
      "Final Test Accuracy: 0.8500\n",
      "Classification Report:\n",
      "              precision    recall  f1-score   support\n",
      "\n",
      "           0       0.92      0.77      0.84        30\n",
      "           1       0.80      0.93      0.86        30\n",
      "\n",
      "    accuracy                           0.85        60\n",
      "   macro avg       0.86      0.85      0.85        60\n",
      "weighted avg       0.86      0.85      0.85        60\n",
      "\n",
      "Confusion Matrix:\n",
      "[[23  7]\n",
      " [ 2 28]]\n"
     ]
    },
    {
     "data": {
      "image/png": "[encoded data removed]",
      "text/plain": [
       "<Figure size 700x600 with 1 Axes>"
      ]
     },
     "metadata": {},
     "output_type": "display_data"
    }
   ],
   "source": [
    "df.__name__ = \"df\"  \n",
    "\n",
    "# Crea la stringa tipo \"cips_vs_taming_transformer\"\n",
    "model_name = f\"{list(model_a)[0]}_vs_{list(model_b)[0]}\"\n",
    "\n",
    "# Crea output_dir con test_size incluso nel nome\n",
    "output_dir = get_unique_output_dir(model_name=model_name, dataset_name=df.__name__,test_size=0.3)\n",
    "\n",
    "# Lancia il training passando output_dir e test_size\n",
    "train_SVM(df, output_dir=output_dir, test_size=0.3)\n"
   ]
  },
  {
   "cell_type": "code",
   "execution_count": null,
   "id": "374d48ee",
   "metadata": {},
   "outputs": [
    {
     "name": "stdout",
     "output_type": "stream",
     "text": [
      "Split: Train=140, Val=20, Test=40\n",
      "Fitting 5 folds for each of 19 candidates, totalling 95 fits\n",
      "Best params from validation: {'C': 10, 'coef0': 0.1, 'gamma': 'scale', 'kernel': 'sigmoid'}\n",
      "Final Test Accuracy: 0.8750\n",
      "Classification Report:\n",
      "              precision    recall  f1-score   support\n",
      "\n",
      "           0       0.89      0.85      0.87        20\n",
      "           1       0.86      0.90      0.88        20\n",
      "\n",
      "    accuracy                           0.88        40\n",
      "   macro avg       0.88      0.88      0.87        40\n",
      "weighted avg       0.88      0.88      0.87        40\n",
      "\n",
      "Confusion Matrix:\n",
      "[[17  3]\n",
      " [ 2 18]]\n"
     ]
    },
    {
     "data": {
      "image/png": "[encoded data removed]",
      "text/plain": [
       "<Figure size 700x600 with 1 Axes>"
      ]
     },
     "metadata": {},
     "output_type": "display_data"
    }
   ],
   "source": [
    "df.__name__ = \"df\" \n",
    "\n",
    "# Crea la stringa tipo \"cips_vs_taming_transformer\"\n",
    "model_name = f\"{list(model_a)[0]}_vs_{list(model_b)[0]}\"\n",
    "\n",
    "# Crea output_dir con test_size incluso nel nome\n",
    "output_dir = get_unique_output_dir(model_name=model_name, dataset_name=df.__name__,test_size=0.2)\n",
    "\n",
    "# Lancia il training passando output_dir e test_size\n",
    "train_SVM(df, output_dir=output_dir, test_size=0.2)\n"
   ]
  },
  {
   "cell_type": "markdown",
   "id": "2f9a7d15",
   "metadata": {},
   "source": [
    "# Riduzione del numero delle features (PCA)"
   ]
  },
  {
   "cell_type": "code",
   "execution_count": 218,
   "id": "2afb58c9",
   "metadata": {},
   "outputs": [
    {
     "name": "stdout",
     "output_type": "stream",
     "text": [
      "Shape dopo PCA: (200, 3)\n"
     ]
    }
   ],
   "source": [
    "pca = PCA(n_components=3)\n",
    "features_pca = pca.fit_transform(features)\n",
    "print(f\"Shape dopo PCA: {features_pca.shape}\")"
   ]
  },
  {
   "cell_type": "code",
   "execution_count": null,
   "id": "de6e4f48",
   "metadata": {},
   "outputs": [
    {
     "data": {
      "application/vnd.plotly.v1+json": {
       "config": {
        "plotlyServerURL": "https://plot.ly"
       },
       "data": [
        {
         "hovertemplate": "PC1=%{x}<br>PC2=%{y}<br>PC3=%{z}<br>label=%{marker.color}<extra></extra>",
         "legendgroup": "",
         "marker": {
          "color": {
           "bdata": "AAAAAAAAAAAAAAAAAAAAAAAAAAAAAAAAAAAAAAAAAAAAAAAAAAAAAAAAAAAAAAAAAAAAAAAAAAAAAAAAAAAAAAAAAAAAAAAAAAAAAAAAAAAAAAAAAAAAAAAAAAAAAAAAAAAAAAEBAQEBAQEBAQEBAQEBAQEBAQEBAQEBAQEBAQEBAQEBAQEBAQEBAQEBAQEBAQEBAQEBAQEBAQEBAQEBAQEBAQEBAQEBAQEBAQEBAQEBAQEBAQEBAQEBAQEBAQEBAQEBAQEBAQE=",
           "dtype": "i1"
          },
          "coloraxis": "coloraxis",
          "opacity": 0.7,
          "symbol": "circle"
         },
         "mode": "markers",
         "name": "",
         "scene": "scene",
         "showlegend": false,
         "type": "scatter3d",
         "x": {
          "bdata": "2ikqwXCn9sAdqwrB33cNwX29DEEPBARBwb/5wBdWCkFmAM/ApAUiwcE73EBVRwPBeIoAQYpe7kB/pBPBmFAIQeiiDkFK+tfABTIEwYh2D0FEr2RAccj0wKEfNcE7DQ5BwZMEQQ0jFEFrnfVAxBwpQVN6GcGknwhBD1f2QMMAFEEm6f1AW18EQX9DFcEIsB9BFX4owXuj/kBPWAlBnqkWQfIdA0GTsufAgPoXwZwV3UBmqBnBwXgTQThu8kBj3QXBK58LQVhUJ8GYlwVBtkXaQN+b0sAPY/lATexKwO4bLcEDbvhAdskHwb9TCUG1DxBB50n2wPxR/EAujgVB90YFwadD0UB2ffpAHPgswbxLDcE+JgBBVPr+QFx+yEA4ARhB6Jw2wftYLsHH1vbAH17WwAT3KMH2sgZBeoURQeqEF8GVBjDBt/0NQahWA0EQFcfAhAAMwYTc/ED+QQVBLmSowAVdJEH7dirBTFIPweqOBkG7mhPB4PACQUtyCUGI2wXBM9EBQduYwsBD7ivB46cDQTsn58BLI2VA80gYwTYGXUBrJmBALq8NwDvVYUAICebAwFn/wDGJCMG3KIHA51XJwEzp0cCfi7g/prSDQEEbSUDuNIxAD/mNQAwfDsGjwRXBje6hQJqwW0DLA3BA5s+EwDHuDr9p8FdAZQ4IweAZh0AFSAfBGCXtP6fM3cBcbQVB7viUwEMeI8Hh36DAaZxgQAMxQMAYEUNA/w9gQDppyb4NB1TALdhoQHEsPkA1f1dA63OIQK599z8cxYVAiuLTwKPwjzxU/GNA9EljQJuPcECfIBHBUQzpwIpqxUDqI+TAggbVwLopysANOw3Bb4aHQGjKc0CAfm1A/ip+QHVAYECJQ4tASoZ5QEH6fEBt7H1AoueMQBQUiUALWFbA3MuUQKcBlUABrBLBRS0lwTj/a0BD8F5AFc6ewFyziEBhsQTB2b2DQNnQAEHA5ZTAvL8ywc7BnECf44y/PvevwJSzHUB7yS/BycBnQPd+AcEUrIRA92qfQHptzsA6LJJAUKFTwIR9isDVpldANBmOv0yYFEA=",
          "dtype": "f4"
         },
         "y": {
          "bdata": "/ix0Pxb+DL8Ck7M/BLf+vZHRB8Evaw7Avh2yv96OAsGmVF8/PeWEPzoZnMAuAQm/vWOOwJdjv8A+eIo/SGkIQUK8KsHiRzo8vhv1P7khEEFmVnFAq4WZP0NEnz/aKtpA9szXwNeHEEGKBcJAP+QRwfDOtz20HPBAPyjywK+kKsFBQg3BxMNwQOZ6pb876Eo/SjKhP/96A0GuMQpBtd8CwTT7rsDxHwo/MynpvwS8rcA4jwA/y3z7wI0CzkCoNh2/DM3cQCK9hD9G7P7A2GLJwJsnrD60o+ZATq8Tv5MyNL9JGxZBhWa5PnaY70BGCPnAIVtVvjYRCEEBVONAprMDP029YsAMUZbAUbt3Pvo0QL9Kc/tAn6zWQF63H8B4vJ8/2CVPv7qWuz9sd2Y/GxGDvwgJ4j80oQpBqsuyQOKwvz/kdvk9qzEawZhGEEGTXhS/1s82vxyP2cDL8wVBzwFIwAtM3cDp2Lk/rN5eP7Go98ADJ4k+78kOQUBZ7UALEfS+GYANwJkqM78WLbo+pXqWQJ/d1r/ydwu/cAImv+ROuD636js+brCjv77LLr7Zorm+uoETP2LO970X6tO+wAHSvwc2Pb+4hom//5KWvzsLrTzR7rW9uNStP0dtX78Cm5e8MBKiv1JZxD8VMwM/3ILQPpZfxLxVm+k+A9gvP/MNlb1pRbi/7yf4vsxxLMCIFoQ/2sMVv2osLz8CPrA+0430vRo8+r7zDoC+Vh8gPxDM8L94dsm/dYlmPmhjgD785uI+eO8SPgqkCj+LvCc/tZv5Pkeutj5AJ0W9sTSrPlNy8L3Q+Pk+E0m0PqOHJMAc/XA/JzeSvgoAUbyMMrc+JYQ1P3LSTz8tosC+W4G+PqPAcj/MQQE/IUkcwDGejD8JcDK+9qC/vBLEaz+O2OO/0nJgP/G1gz6BGsC/3v/dPq7ER79RQXI+RN3+PlkZSD8JYUa/Q9zQPjSOysDFe7G/ORkIPmH4mb/2fVq+fd8iv4j66T38NGM/GA0DPxOucj9EnEi/lxZfvw4cdL5plwI/ggNGv0xZhD6mpU8+1h0VwOwj0j4=",
          "dtype": "f4"
         },
         "z": {
          "bdata": "00Dcv/0mdMAH46PA0WacwHgTg8CUj6vA0EGuwJvHZMCK+VnAoyirwN4n8b//gjZAk50Av4SVIMBztt++PyNcwAONisDYdLw/U8GiwHF7csAvOtS/X6kXwCFLoMCS8W/AjyxYwJRXQcBGQXbA6TClwJbcB0DwNzHArqo/wCHlmMA3hV3ABbOIwJ53CkAz2MTABWaGwIL4N8BBLVHABV2QwHv2ksAarpE/up0rv4QpBsCuga6//4FawK8OH8CGf5XA37dlwCbYisC81zTAv0kQwAI/Xb/6Dti/oLXgP4wFP8BJKhvAU2bYv19kZMAtL1/AB5QaQF7K8b9SpzLARPOhv0K7571O3J/AkS/+vW/2ET+7NwbAUJwgwIiNLr7w2pfAy1Jqv3UticBOpu6+CrwlPxScU8AjKljAN+IBwPRazb8uZOO/F6RewFdzJcB2nXs/5JiNPixngMA6wEHAFnVswP0SfsCkRIbAkyCfP1XNgcCDTt4+bHE7wKrna8CgJprAUdTnvweUiL/buhM+NwFiwF/9Hr1ok5FAeWcEP3wskUADZIZAyfWGv3pWjkDTFjfAgJyEPxbzhMCZOmFA1TTdP6SJL8CPY9g/t8zKQK5ubkDNkYtAVxaPQCqkAD8rVri/rewCQGsje0DvmmlAA67OP+2Ehj/1rIRA9rpdP9EuWkDZwrw/LOS1QDa9vD9FJPe+1mm8QBc/hj4vwOQ/smuVQOnFaj/u8I9AHZl8QLPoLUD60Q5ALsKBQJZfb0DXXIRAta2VQPLzoEBoQYJAFNGOPk8wA0CtHKhAqcuAQLYmjEBajTVA1KgXQKJlhkALu03AubqjwAzKgEDElPC/qn58QFFAl0CejkJAIxtyQCBCqEBk72hA6txaQOsdsUB51n9A19mbQOWxXECdXzY/AJuRQEEKm0C2tNY/d8CYwJOcakD9ZIBACvSOQK5tXkDT+y7AYTmIQKQrUj4xuZRA8P9Dvz7BRUDksgdA10sGQN3zkEB/iDTAboeKQE6Cdz/C1nFAOuhoQH7AjL9kpIdAnbVcPc1EdEBj05ZAx941QBvlg0A=",
          "dtype": "f4"
         }
        }
       ],
       "layout": {
        "coloraxis": {
         "colorbar": {
          "title": {
           "text": "label"
          }
         },
         "colorscale": [
          [
           0,
           "#0d0887"
          ],
          [
           0.1111111111111111,
           "#46039f"
          ],
          [
           0.2222222222222222,
           "#7201a8"
          ],
          [
           0.3333333333333333,
           "#9c179e"
          ],
          [
           0.4444444444444444,
           "#bd3786"
          ],
          [
           0.5555555555555556,
           "#d8576b"
          ],
          [
           0.6666666666666666,
           "#ed7953"
          ],
          [
           0.7777777777777778,
           "#fb9f3a"
          ],
          [
           0.8888888888888888,
           "#fdca26"
          ],
          [
           1,
           "#f0f921"
          ]
         ]
        },
        "legend": {
         "tracegroupgap": 0
        },
        "scene": {
         "domain": {
          "x": [
           0,
           1
          ],
          "y": [
           0,
           1
          ]
         },
         "xaxis": {
          "title": {
           "text": "PC1"
          }
         },
         "yaxis": {
          "title": {
           "text": "PC2"
          }
         },
         "zaxis": {
          "title": {
           "text": "PC3"
          }
         }
        },
        "template": {
         "data": {
          "bar": [
           {
            "error_x": {
             "color": "#2a3f5f"
            },
            "error_y": {
             "color": "#2a3f5f"
            },
            "marker": {
             "line": {
              "color": "#E5ECF6",
              "width": 0.5
             },
             "pattern": {
              "fillmode": "overlay",
              "size": 10,
              "solidity": 0.2
             }
            },
            "type": "bar"
           }
          ],
          "barpolar": [
           {
            "marker": {
             "line": {
              "color": "#E5ECF6",
              "width": 0.5
             },
             "pattern": {
              "fillmode": "overlay",
              "size": 10,
              "solidity": 0.2
             }
            },
            "type": "barpolar"
           }
          ],
          "carpet": [
           {
            "aaxis": {
             "endlinecolor": "#2a3f5f",
             "gridcolor": "white",
             "linecolor": "white",
             "minorgridcolor": "white",
             "startlinecolor": "#2a3f5f"
            },
            "baxis": {
             "endlinecolor": "#2a3f5f",
             "gridcolor": "white",
             "linecolor": "white",
             "minorgridcolor": "white",
             "startlinecolor": "#2a3f5f"
            },
            "type": "carpet"
           }
          ],
          "choropleth": [
           {
            "colorbar": {
             "outlinewidth": 0,
             "ticks": ""
            },
            "type": "choropleth"
           }
          ],
          "contour": [
           {
            "colorbar": {
             "outlinewidth": 0,
             "ticks": ""
            },
            "colorscale": [
             [
              0,
              "#0d0887"
             ],
             [
              0.1111111111111111,
              "#46039f"
             ],
             [
              0.2222222222222222,
              "#7201a8"
             ],
             [
              0.3333333333333333,
              "#9c179e"
             ],
             [
              0.4444444444444444,
              "#bd3786"
             ],
             [
              0.5555555555555556,
              "#d8576b"
             ],
             [
              0.6666666666666666,
              "#ed7953"
             ],
             [
              0.7777777777777778,
              "#fb9f3a"
             ],
             [
              0.8888888888888888,
              "#fdca26"
             ],
             [
              1,
              "#f0f921"
             ]
            ],
            "type": "contour"
           }
          ],
          "contourcarpet": [
           {
            "colorbar": {
             "outlinewidth": 0,
             "ticks": ""
            },
            "type": "contourcarpet"
           }
          ],
          "heatmap": [
           {
            "colorbar": {
             "outlinewidth": 0,
             "ticks": ""
            },
            "colorscale": [
             [
              0,
              "#0d0887"
             ],
             [
              0.1111111111111111,
              "#46039f"
             ],
             [
              0.2222222222222222,
              "#7201a8"
             ],
             [
              0.3333333333333333,
              "#9c179e"
             ],
             [
              0.4444444444444444,
              "#bd3786"
             ],
             [
              0.5555555555555556,
              "#d8576b"
             ],
             [
              0.6666666666666666,
              "#ed7953"
             ],
             [
              0.7777777777777778,
              "#fb9f3a"
             ],
             [
              0.8888888888888888,
              "#fdca26"
             ],
             [
              1,
              "#f0f921"
             ]
            ],
            "type": "heatmap"
           }
          ],
          "histogram": [
           {
            "marker": {
             "pattern": {
              "fillmode": "overlay",
              "size": 10,
              "solidity": 0.2
             }
            },
            "type": "histogram"
           }
          ],
          "histogram2d": [
           {
            "colorbar": {
             "outlinewidth": 0,
             "ticks": ""
            },
            "colorscale": [
             [
              0,
              "#0d0887"
             ],
             [
              0.1111111111111111,
              "#46039f"
             ],
             [
              0.2222222222222222,
              "#7201a8"
             ],
             [
              0.3333333333333333,
              "#9c179e"
             ],
             [
              0.4444444444444444,
              "#bd3786"
             ],
             [
              0.5555555555555556,
              "#d8576b"
             ],
             [
              0.6666666666666666,
              "#ed7953"
             ],
             [
              0.7777777777777778,
              "#fb9f3a"
             ],
             [
              0.8888888888888888,
              "#fdca26"
             ],
             [
              1,
              "#f0f921"
             ]
            ],
            "type": "histogram2d"
           }
          ],
          "histogram2dcontour": [
           {
            "colorbar": {
             "outlinewidth": 0,
             "ticks": ""
            },
            "colorscale": [
             [
              0,
              "#0d0887"
             ],
             [
              0.1111111111111111,
              "#46039f"
             ],
             [
              0.2222222222222222,
              "#7201a8"
             ],
             [
              0.3333333333333333,
              "#9c179e"
             ],
             [
              0.4444444444444444,
              "#bd3786"
             ],
             [
              0.5555555555555556,
              "#d8576b"
             ],
             [
              0.6666666666666666,
              "#ed7953"
             ],
             [
              0.7777777777777778,
              "#fb9f3a"
             ],
             [
              0.8888888888888888,
              "#fdca26"
             ],
             [
              1,
              "#f0f921"
             ]
            ],
            "type": "histogram2dcontour"
           }
          ],
          "mesh3d": [
           {
            "colorbar": {
             "outlinewidth": 0,
             "ticks": ""
            },
            "type": "mesh3d"
           }
          ],
          "parcoords": [
           {
            "line": {
             "colorbar": {
              "outlinewidth": 0,
              "ticks": ""
             }
            },
            "type": "parcoords"
           }
          ],
          "pie": [
           {
            "automargin": true,
            "type": "pie"
           }
          ],
          "scatter": [
           {
            "fillpattern": {
             "fillmode": "overlay",
             "size": 10,
             "solidity": 0.2
            },
            "type": "scatter"
           }
          ],
          "scatter3d": [
           {
            "line": {
             "colorbar": {
              "outlinewidth": 0,
              "ticks": ""
             }
            },
            "marker": {
             "colorbar": {
              "outlinewidth": 0,
              "ticks": ""
             }
            },
            "type": "scatter3d"
           }
          ],
          "scattercarpet": [
           {
            "marker": {
             "colorbar": {
              "outlinewidth": 0,
              "ticks": ""
             }
            },
            "type": "scattercarpet"
           }
          ],
          "scattergeo": [
           {
            "marker": {
             "colorbar": {
              "outlinewidth": 0,
              "ticks": ""
             }
            },
            "type": "scattergeo"
           }
          ],
          "scattergl": [
           {
            "marker": {
             "colorbar": {
              "outlinewidth": 0,
              "ticks": ""
             }
            },
            "type": "scattergl"
           }
          ],
          "scattermap": [
           {
            "marker": {
             "colorbar": {
              "outlinewidth": 0,
              "ticks": ""
             }
            },
            "type": "scattermap"
           }
          ],
          "scattermapbox": [
           {
            "marker": {
             "colorbar": {
              "outlinewidth": 0,
              "ticks": ""
             }
            },
            "type": "scattermapbox"
           }
          ],
          "scatterpolar": [
           {
            "marker": {
             "colorbar": {
              "outlinewidth": 0,
              "ticks": ""
             }
            },
            "type": "scatterpolar"
           }
          ],
          "scatterpolargl": [
           {
            "marker": {
             "colorbar": {
              "outlinewidth": 0,
              "ticks": ""
             }
            },
            "type": "scatterpolargl"
           }
          ],
          "scatterternary": [
           {
            "marker": {
             "colorbar": {
              "outlinewidth": 0,
              "ticks": ""
             }
            },
            "type": "scatterternary"
           }
          ],
          "surface": [
           {
            "colorbar": {
             "outlinewidth": 0,
             "ticks": ""
            },
            "colorscale": [
             [
              0,
              "#0d0887"
             ],
             [
              0.1111111111111111,
              "#46039f"
             ],
             [
              0.2222222222222222,
              "#7201a8"
             ],
             [
              0.3333333333333333,
              "#9c179e"
             ],
             [
              0.4444444444444444,
              "#bd3786"
             ],
             [
              0.5555555555555556,
              "#d8576b"
             ],
             [
              0.6666666666666666,
              "#ed7953"
             ],
             [
              0.7777777777777778,
              "#fb9f3a"
             ],
             [
              0.8888888888888888,
              "#fdca26"
             ],
             [
              1,
              "#f0f921"
             ]
            ],
            "type": "surface"
           }
          ],
          "table": [
           {
            "cells": {
             "fill": {
              "color": "#EBF0F8"
             },
             "line": {
              "color": "white"
             }
            },
            "header": {
             "fill": {
              "color": "#C8D4E3"
             },
             "line": {
              "color": "white"
             }
            },
            "type": "table"
           }
          ]
         },
         "layout": {
          "annotationdefaults": {
           "arrowcolor": "#2a3f5f",
           "arrowhead": 0,
           "arrowwidth": 1
          },
          "autotypenumbers": "strict",
          "coloraxis": {
           "colorbar": {
            "outlinewidth": 0,
            "ticks": ""
           }
          },
          "colorscale": {
           "diverging": [
            [
             0,
             "#8e0152"
            ],
            [
             0.1,
             "#c51b7d"
            ],
            [
             0.2,
             "#de77ae"
            ],
            [
             0.3,
             "#f1b6da"
            ],
            [
             0.4,
             "#fde0ef"
            ],
            [
             0.5,
             "#f7f7f7"
            ],
            [
             0.6,
             "#e6f5d0"
            ],
            [
             0.7,
             "#b8e186"
            ],
            [
             0.8,
             "#7fbc41"
            ],
            [
             0.9,
             "#4d9221"
            ],
            [
             1,
             "#276419"
            ]
           ],
           "sequential": [
            [
             0,
             "#0d0887"
            ],
            [
             0.1111111111111111,
             "#46039f"
            ],
            [
             0.2222222222222222,
             "#7201a8"
            ],
            [
             0.3333333333333333,
             "#9c179e"
            ],
            [
             0.4444444444444444,
             "#bd3786"
            ],
            [
             0.5555555555555556,
             "#d8576b"
            ],
            [
             0.6666666666666666,
             "#ed7953"
            ],
            [
             0.7777777777777778,
             "#fb9f3a"
            ],
            [
             0.8888888888888888,
             "#fdca26"
            ],
            [
             1,
             "#f0f921"
            ]
           ],
           "sequentialminus": [
            [
             0,
             "#0d0887"
            ],
            [
             0.1111111111111111,
             "#46039f"
            ],
            [
             0.2222222222222222,
             "#7201a8"
            ],
            [
             0.3333333333333333,
             "#9c179e"
            ],
            [
             0.4444444444444444,
             "#bd3786"
            ],
            [
             0.5555555555555556,
             "#d8576b"
            ],
            [
             0.6666666666666666,
             "#ed7953"
            ],
            [
             0.7777777777777778,
             "#fb9f3a"
            ],
            [
             0.8888888888888888,
             "#fdca26"
            ],
            [
             1,
             "#f0f921"
            ]
           ]
          },
          "colorway": [
           "#636efa",
           "#EF553B",
           "#00cc96",
           "#ab63fa",
           "#FFA15A",
           "#19d3f3",
           "#FF6692",
           "#B6E880",
           "#FF97FF",
           "#FECB52"
          ],
          "font": {
           "color": "#2a3f5f"
          },
          "geo": {
           "bgcolor": "white",
           "lakecolor": "white",
           "landcolor": "#E5ECF6",
           "showlakes": true,
           "showland": true,
           "subunitcolor": "white"
          },
          "hoverlabel": {
           "align": "left"
          },
          "hovermode": "closest",
          "mapbox": {
           "style": "light"
          },
          "paper_bgcolor": "white",
          "plot_bgcolor": "#E5ECF6",
          "polar": {
           "angularaxis": {
            "gridcolor": "white",
            "linecolor": "white",
            "ticks": ""
           },
           "bgcolor": "#E5ECF6",
           "radialaxis": {
            "gridcolor": "white",
            "linecolor": "white",
            "ticks": ""
           }
          },
          "scene": {
           "xaxis": {
            "backgroundcolor": "#E5ECF6",
            "gridcolor": "white",
            "gridwidth": 2,
            "linecolor": "white",
            "showbackground": true,
            "ticks": "",
            "zerolinecolor": "white"
           },
           "yaxis": {
            "backgroundcolor": "#E5ECF6",
            "gridcolor": "white",
            "gridwidth": 2,
            "linecolor": "white",
            "showbackground": true,
            "ticks": "",
            "zerolinecolor": "white"
           },
           "zaxis": {
            "backgroundcolor": "#E5ECF6",
            "gridcolor": "white",
            "gridwidth": 2,
            "linecolor": "white",
            "showbackground": true,
            "ticks": "",
            "zerolinecolor": "white"
           }
          },
          "shapedefaults": {
           "line": {
            "color": "#2a3f5f"
           }
          },
          "ternary": {
           "aaxis": {
            "gridcolor": "white",
            "linecolor": "white",
            "ticks": ""
           },
           "baxis": {
            "gridcolor": "white",
            "linecolor": "white",
            "ticks": ""
           },
           "bgcolor": "#E5ECF6",
           "caxis": {
            "gridcolor": "white",
            "linecolor": "white",
            "ticks": ""
           }
          },
          "title": {
           "x": 0.05
          },
          "xaxis": {
           "automargin": true,
           "gridcolor": "white",
           "linecolor": "white",
           "ticks": "",
           "title": {
            "standoff": 15
           },
           "zerolinecolor": "white",
           "zerolinewidth": 2
          },
          "yaxis": {
           "automargin": true,
           "gridcolor": "white",
           "linecolor": "white",
           "ticks": "",
           "title": {
            "standoff": 15
           },
           "zerolinecolor": "white",
           "zerolinewidth": 2
          }
         }
        },
        "title": {
         "text": "PCA 3D Visualization"
        }
       }
      }
     },
     "metadata": {},
     "output_type": "display_data"
    }
   ],
   "source": [
    "df = pd.DataFrame(features_pca, columns=['PC1', 'PC2', 'PC3'])\n",
    "df['label'] = labels\n",
    "\n",
    "df.__name__ = \"df_reduced\"\n",
    "model_name = f\"{list(model_a)[0]}_vs_{list(model_b)[0]}\"\n",
    "\n",
    "fig = px.scatter_3d(\n",
    "    df, x='PC1', y='PC2', z='PC3',\n",
    "    color='label',\n",
    "    title='PCA 3D Visualization',\n",
    "    opacity=0.7\n",
    ")\n",
    "fig.show()\n",
    "\n",
    "#Salvataggio plot 3D PCA\n",
    "output_dir = get_unique_output_dir(model_name=model_name, dataset_name=df.__name__)\n",
    "fig.write_html(os.path.join(output_dir, \"pca_3d_plot.html\"))\n",
    "\n"
   ]
  },
  {
   "cell_type": "code",
   "execution_count": 220,
   "id": "c1f0416d",
   "metadata": {},
   "outputs": [
    {
     "name": "stdout",
     "output_type": "stream",
     "text": [
      "Numero di componenti per spiegare il 95% della varianza: 126\n",
      "Shape originale: (200, 769)\n",
      "Shape ridotto: (200, 127)\n"
     ]
    },
    {
     "data": {
      "text/html": [
       "<div>\n",
       "<style scoped>\n",
       "    .dataframe tbody tr th:only-of-type {\n",
       "        vertical-align: middle;\n",
       "    }\n",
       "\n",
       "    .dataframe tbody tr th {\n",
       "        vertical-align: top;\n",
       "    }\n",
       "\n",
       "    .dataframe thead th {\n",
       "        text-align: right;\n",
       "    }\n",
       "</style>\n",
       "<table border=\"1\" class=\"dataframe\">\n",
       "  <thead>\n",
       "    <tr style=\"text-align: right;\">\n",
       "      <th></th>\n",
       "      <th>label</th>\n",
       "      <th>PC1</th>\n",
       "      <th>PC2</th>\n",
       "      <th>PC3</th>\n",
       "      <th>PC4</th>\n",
       "      <th>PC5</th>\n",
       "      <th>PC6</th>\n",
       "      <th>PC7</th>\n",
       "      <th>PC8</th>\n",
       "      <th>PC9</th>\n",
       "      <th>...</th>\n",
       "      <th>PC117</th>\n",
       "      <th>PC118</th>\n",
       "      <th>PC119</th>\n",
       "      <th>PC120</th>\n",
       "      <th>PC121</th>\n",
       "      <th>PC122</th>\n",
       "      <th>PC123</th>\n",
       "      <th>PC124</th>\n",
       "      <th>PC125</th>\n",
       "      <th>PC126</th>\n",
       "    </tr>\n",
       "  </thead>\n",
       "  <tbody>\n",
       "    <tr>\n",
       "      <th>0</th>\n",
       "      <td>0</td>\n",
       "      <td>-10.635214</td>\n",
       "      <td>0.953834</td>\n",
       "      <td>-1.720656</td>\n",
       "      <td>-4.279091</td>\n",
       "      <td>-2.508063</td>\n",
       "      <td>-5.006454</td>\n",
       "      <td>1.152426</td>\n",
       "      <td>0.262193</td>\n",
       "      <td>-0.730240</td>\n",
       "      <td>...</td>\n",
       "      <td>-0.442617</td>\n",
       "      <td>-0.229446</td>\n",
       "      <td>-0.878703</td>\n",
       "      <td>0.423525</td>\n",
       "      <td>-0.369469</td>\n",
       "      <td>0.578152</td>\n",
       "      <td>-1.262138</td>\n",
       "      <td>-0.880780</td>\n",
       "      <td>-0.258954</td>\n",
       "      <td>-0.144477</td>\n",
       "    </tr>\n",
       "    <tr>\n",
       "      <th>1</th>\n",
       "      <td>0</td>\n",
       "      <td>-7.707935</td>\n",
       "      <td>-0.550752</td>\n",
       "      <td>-3.814920</td>\n",
       "      <td>10.576492</td>\n",
       "      <td>2.429671</td>\n",
       "      <td>-0.740964</td>\n",
       "      <td>0.737170</td>\n",
       "      <td>0.474370</td>\n",
       "      <td>1.424278</td>\n",
       "      <td>...</td>\n",
       "      <td>-0.476307</td>\n",
       "      <td>0.210978</td>\n",
       "      <td>0.201293</td>\n",
       "      <td>0.817379</td>\n",
       "      <td>-0.694067</td>\n",
       "      <td>0.710448</td>\n",
       "      <td>-0.295053</td>\n",
       "      <td>-1.069410</td>\n",
       "      <td>-0.586941</td>\n",
       "      <td>0.372476</td>\n",
       "    </tr>\n",
       "    <tr>\n",
       "      <th>2</th>\n",
       "      <td>0</td>\n",
       "      <td>-8.666769</td>\n",
       "      <td>1.402940</td>\n",
       "      <td>-5.121425</td>\n",
       "      <td>5.578957</td>\n",
       "      <td>-4.537533</td>\n",
       "      <td>-3.083179</td>\n",
       "      <td>-1.334209</td>\n",
       "      <td>1.827790</td>\n",
       "      <td>-1.195411</td>\n",
       "      <td>...</td>\n",
       "      <td>-0.436372</td>\n",
       "      <td>-0.219619</td>\n",
       "      <td>0.817931</td>\n",
       "      <td>-0.059211</td>\n",
       "      <td>-1.475607</td>\n",
       "      <td>0.011423</td>\n",
       "      <td>0.598188</td>\n",
       "      <td>-0.522540</td>\n",
       "      <td>-0.989330</td>\n",
       "      <td>-0.067377</td>\n",
       "    </tr>\n",
       "    <tr>\n",
       "      <th>3</th>\n",
       "      <td>0</td>\n",
       "      <td>-8.841763</td>\n",
       "      <td>-0.124366</td>\n",
       "      <td>-4.887685</td>\n",
       "      <td>6.228438</td>\n",
       "      <td>-0.587661</td>\n",
       "      <td>-4.711248</td>\n",
       "      <td>1.885072</td>\n",
       "      <td>0.209619</td>\n",
       "      <td>-1.018796</td>\n",
       "      <td>...</td>\n",
       "      <td>0.714742</td>\n",
       "      <td>0.257700</td>\n",
       "      <td>-0.285441</td>\n",
       "      <td>0.336896</td>\n",
       "      <td>-0.428840</td>\n",
       "      <td>-0.685213</td>\n",
       "      <td>-0.125255</td>\n",
       "      <td>0.504998</td>\n",
       "      <td>-0.590838</td>\n",
       "      <td>0.344156</td>\n",
       "    </tr>\n",
       "    <tr>\n",
       "      <th>4</th>\n",
       "      <td>0</td>\n",
       "      <td>8.796241</td>\n",
       "      <td>-8.488697</td>\n",
       "      <td>-4.096337</td>\n",
       "      <td>-1.319452</td>\n",
       "      <td>0.870832</td>\n",
       "      <td>0.413534</td>\n",
       "      <td>-1.998921</td>\n",
       "      <td>3.198292</td>\n",
       "      <td>-1.895543</td>\n",
       "      <td>...</td>\n",
       "      <td>-0.020774</td>\n",
       "      <td>-0.887295</td>\n",
       "      <td>0.441526</td>\n",
       "      <td>-0.594753</td>\n",
       "      <td>0.139555</td>\n",
       "      <td>-0.525460</td>\n",
       "      <td>0.468738</td>\n",
       "      <td>-0.940651</td>\n",
       "      <td>-0.243648</td>\n",
       "      <td>-0.268284</td>\n",
       "    </tr>\n",
       "  </tbody>\n",
       "</table>\n",
       "<p>5 rows × 127 columns</p>\n",
       "</div>"
      ],
      "text/plain": [
       "   label        PC1       PC2       PC3        PC4       PC5       PC6  \\\n",
       "0      0 -10.635214  0.953834 -1.720656  -4.279091 -2.508063 -5.006454   \n",
       "1      0  -7.707935 -0.550752 -3.814920  10.576492  2.429671 -0.740964   \n",
       "2      0  -8.666769  1.402940 -5.121425   5.578957 -4.537533 -3.083179   \n",
       "3      0  -8.841763 -0.124366 -4.887685   6.228438 -0.587661 -4.711248   \n",
       "4      0   8.796241 -8.488697 -4.096337  -1.319452  0.870832  0.413534   \n",
       "\n",
       "        PC7       PC8       PC9  ...     PC117     PC118     PC119     PC120  \\\n",
       "0  1.152426  0.262193 -0.730240  ... -0.442617 -0.229446 -0.878703  0.423525   \n",
       "1  0.737170  0.474370  1.424278  ... -0.476307  0.210978  0.201293  0.817379   \n",
       "2 -1.334209  1.827790 -1.195411  ... -0.436372 -0.219619  0.817931 -0.059211   \n",
       "3  1.885072  0.209619 -1.018796  ...  0.714742  0.257700 -0.285441  0.336896   \n",
       "4 -1.998921  3.198292 -1.895543  ... -0.020774 -0.887295  0.441526 -0.594753   \n",
       "\n",
       "      PC121     PC122     PC123     PC124     PC125     PC126  \n",
       "0 -0.369469  0.578152 -1.262138 -0.880780 -0.258954 -0.144477  \n",
       "1 -0.694067  0.710448 -0.295053 -1.069410 -0.586941  0.372476  \n",
       "2 -1.475607  0.011423  0.598188 -0.522540 -0.989330 -0.067377  \n",
       "3 -0.428840 -0.685213 -0.125255  0.504998 -0.590838  0.344156  \n",
       "4  0.139555 -0.525460  0.468738 -0.940651 -0.243648 -0.268284  \n",
       "\n",
       "[5 rows x 127 columns]"
      ]
     },
     "execution_count": 220,
     "metadata": {},
     "output_type": "execute_result"
    }
   ],
   "source": [
    "# Seleziona solo le colonne delle feature\n",
    "feat_cols = [c for c in df_full.columns if c.startswith('feat_')]\n",
    "X = df_full[feat_cols].values\n",
    "\n",
    "# Fit completo della PCA per analizzare la varianza cumulativa\n",
    "pca_full = PCA().fit(X)\n",
    "cumvar = np.cumsum(pca_full.explained_variance_ratio_)\n",
    "\n",
    "# Determina quante componenti servono per spiegare almeno il 95% della varianza\n",
    "n_components = np.argmax(cumvar >= 0.95) + 1\n",
    "print(f\"Numero di componenti per spiegare il 95% della varianza: {n_components}\")\n",
    "\n",
    "# Riduzione dimensionale con il numero ottimale di componenti\n",
    "pca = PCA(n_components=n_components)\n",
    "X_pca = pca.fit_transform(X)\n",
    "\n",
    "# Crea DataFrame con le componenti ridotte\n",
    "pca_cols = [f'PC{i+1}' for i in range(n_components)]\n",
    "df_pca = pd.DataFrame(X_pca, columns=pca_cols, index=df_full.index)\n",
    "\n",
    "# Aggiungi le label\n",
    "df_reduced = pd.concat([df_full[['label']], df_pca], axis=1)\n",
    "\n",
    "# Visualizza info\n",
    "print(\"Shape originale:\", df_full.shape)\n",
    "print(\"Shape ridotto:\", df_reduced.shape)\n",
    "df_reduced.head()"
   ]
  },
  {
   "cell_type": "code",
   "execution_count": null,
   "id": "9ff25e70",
   "metadata": {},
   "outputs": [
    {
     "name": "stdout",
     "output_type": "stream",
     "text": [
      "Split: Train=160, Val=20, Test=20\n",
      "Fitting 5 folds for each of 19 candidates, totalling 95 fits\n",
      "Best params from validation: {'C': 0.1, 'kernel': 'linear'}\n",
      "Final Test Accuracy: 0.9500\n",
      "Classification Report:\n",
      "              precision    recall  f1-score   support\n",
      "\n",
      "           0       1.00      0.90      0.95        10\n",
      "           1       0.91      1.00      0.95        10\n",
      "\n",
      "    accuracy                           0.95        20\n",
      "   macro avg       0.95      0.95      0.95        20\n",
      "weighted avg       0.95      0.95      0.95        20\n",
      "\n",
      "Confusion Matrix:\n",
      "[[ 9  1]\n",
      " [ 0 10]]\n"
     ]
    },
    {
     "data": {
      "image/png": "[encoded data removed]",
      "text/plain": [
       "<Figure size 700x600 with 1 Axes>"
      ]
     },
     "metadata": {},
     "output_type": "display_data"
    }
   ],
   "source": [
    "df.__name__ = \"df_reduced\"  \n",
    "\n",
    "# Crea la stringa tipo \"cips_vs_taming_transformer\"\n",
    "model_name = f\"{list(model_a)[0]}_vs_{list(model_b)[0]}\"\n",
    "\n",
    "# Crea output_dir con test_size incluso nel nome\n",
    "output_dir = get_unique_output_dir(model_name=model_name, dataset_name=df.__name__)\n",
    "\n",
    "# Lancia il training passando output_dir e test_size\n",
    "train_SVM(df_reduced, output_dir=output_dir)\n"
   ]
  },
  {
   "cell_type": "code",
   "execution_count": 222,
   "id": "cb1b9699",
   "metadata": {},
   "outputs": [
    {
     "name": "stdout",
     "output_type": "stream",
     "text": [
      "Split: Train=119, Val=21, Test=60\n",
      "Fitting 5 folds for each of 19 candidates, totalling 95 fits\n",
      "Best params from validation: {'C': 1, 'gamma': 'scale', 'kernel': 'rbf'}\n",
      "Final Test Accuracy: 0.8667\n",
      "Classification Report:\n",
      "              precision    recall  f1-score   support\n",
      "\n",
      "           0       0.92      0.80      0.86        30\n",
      "           1       0.82      0.93      0.88        30\n",
      "\n",
      "    accuracy                           0.87        60\n",
      "   macro avg       0.87      0.87      0.87        60\n",
      "weighted avg       0.87      0.87      0.87        60\n",
      "\n",
      "Confusion Matrix:\n",
      "[[24  6]\n",
      " [ 2 28]]\n"
     ]
    },
    {
     "data": {
      "image/png": "[encoded data removed]",
      "text/plain": [
       "<Figure size 700x600 with 1 Axes>"
      ]
     },
     "metadata": {},
     "output_type": "display_data"
    }
   ],
   "source": [
    "\n",
    "df.__name__ = \"df_reduced\"  \n",
    "\n",
    "# Crea la stringa tipo \"cips_vs_taming_transformer\"\n",
    "model_name = f\"{list(model_a)[0]}_vs_{list(model_b)[0]}\"\n",
    "\n",
    "\n",
    "# Crea output_dir con test_size incluso nel nome\n",
    "output_dir = get_unique_output_dir(model_name=model_name, dataset_name=df.__name__,  test_size=0.3)\n",
    "\n",
    "# Lancia il training passando output_dir e test_size\n",
    "train_SVM(df_reduced, test_size=0.3, output_dir=output_dir)"
   ]
  },
  {
   "cell_type": "code",
   "execution_count": null,
   "id": "74bd3e0e",
   "metadata": {},
   "outputs": [
    {
     "name": "stdout",
     "output_type": "stream",
     "text": [
      "Split: Train=140, Val=20, Test=40\n",
      "Fitting 5 folds for each of 19 candidates, totalling 95 fits\n",
      "Best params from validation: {'C': 1, 'gamma': 'scale', 'kernel': 'rbf'}\n",
      "Final Test Accuracy: 0.8500\n",
      "Classification Report:\n",
      "              precision    recall  f1-score   support\n",
      "\n",
      "           0       0.94      0.75      0.83        20\n",
      "           1       0.79      0.95      0.86        20\n",
      "\n",
      "    accuracy                           0.85        40\n",
      "   macro avg       0.86      0.85      0.85        40\n",
      "weighted avg       0.86      0.85      0.85        40\n",
      "\n",
      "Confusion Matrix:\n",
      "[[15  5]\n",
      " [ 1 19]]\n"
     ]
    },
    {
     "data": {
      "image/png": "[encoded data removed]",
      "text/plain": [
       "<Figure size 700x600 with 1 Axes>"
      ]
     },
     "metadata": {},
     "output_type": "display_data"
    }
   ],
   "source": [
    "df.__name__ = \"df_reduced\"  \n",
    "\n",
    "# Crea la stringa tipo \"cips_vs_taming_transformer\"\n",
    "model_name = f\"{list(model_a)[0]}_vs_{list(model_b)[0]}\"\n",
    "\n",
    "# Crea output_dir con test_size incluso nel nome\n",
    "output_dir = get_unique_output_dir(model_name=model_name, dataset_name=df.__name__,  test_size=0.2)\n",
    "\n",
    "# Lancia il training passando output_dir e test_size\n",
    "train_SVM(df_reduced, test_size=0.2, output_dir=output_dir)"
   ]
  }
 ],
 "metadata": {
  "kernelspec": {
   "display_name": "fvab",
   "language": "python",
   "name": "python3"
  },
  "language_info": {
   "codemirror_mode": {
    "name": "ipython",
    "version": 3
   },
   "file_extension": ".py",
   "mimetype": "text/x-python",
   "name": "python",
   "nbconvert_exporter": "python",
   "pygments_lexer": "ipython3",
   "version": "3.10.16"
  }
 },
 "nbformat": 4,
 "nbformat_minor": 5
}
